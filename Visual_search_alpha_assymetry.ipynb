{
 "cells": [
  {
   "cell_type": "code",
   "execution_count": 200,
   "id": "c52771b5",
   "metadata": {},
   "outputs": [],
   "source": [
    "import os\n",
    "import numpy as np\n",
    "import pandas as pd\n",
    "import matplotlib.pyplot as plt\n",
    "import mne\n",
    "import glob\n",
    "\n",
    "%matplotlib notebook"
   ]
  },
  {
   "cell_type": "code",
   "execution_count": 201,
   "id": "589f6766",
   "metadata": {},
   "outputs": [
    {
     "name": "stdout",
     "output_type": "stream",
     "text": [
      "Reading /Users/nicolaspiron/Documents/PULSATION/Python_MNE/preproc/n2pc_out/data/epochs/S18_n2pc_total_epochs.fif ...\n",
      "    Found the data of interest:\n",
      "        t =    -200.00 ...    1000.00 ms\n",
      "        0 CTF compensation matrices available\n"
     ]
    },
    {
     "name": "stderr",
     "output_type": "stream",
     "text": [
      "/var/folders/4f/_jg1y72j6_ggv65n730flb280000gn/T/ipykernel_1297/3019245996.py:3: RuntimeWarning: This filename (/Users/nicolaspiron/Documents/PULSATION/Python_MNE/preproc/n2pc_out/data/epochs/S18_n2pc_total_epochs.fif) does not conform to MNE naming conventions. All epochs files should end with -epo.fif, -epo.fif.gz, _epo.fif or _epo.fif.gz\n",
      "  epochs = mne.read_epochs(file)\n"
     ]
    },
    {
     "name": "stdout",
     "output_type": "stream",
     "text": [
      "Not setting metadata\n",
      "211 matching events found\n",
      "No baseline correction applied\n",
      "0 projection items activated\n"
     ]
    }
   ],
   "source": [
    "data_dir = '/Users/nicolaspiron/Documents/PULSATION/Python_MNE/preproc/n2pc_out/data/epochs/'\n",
    "file = data_dir+'S18_n2pc_total_epochs.fif'\n",
    "epochs = mne.read_epochs(file)"
   ]
  },
  {
   "cell_type": "code",
   "execution_count": 203,
   "id": "30d76edb",
   "metadata": {},
   "outputs": [],
   "source": [
    "# create a function that classes the epoched file in different smaller files by condition\n",
    "\n",
    "def sort_epochs(epochs):\n",
    "    \n",
    "    event_ids = epochs.event_id\n",
    "    \n",
    "    sorted_epochs = []\n",
    "    \n",
    "    for event in event_ids.keys():\n",
    "        \n",
    "        condition = epochs[event]\n",
    "        sorted_epochs.append(condition)\n",
    "\n",
    "    # concatenate the the files when the target is on the same side but the distractor is bot or top\n",
    "    \n",
    "    dis_vert_target_l = mne.concatenate_epochs([sorted_epochs[0], sorted_epochs[4]])\n",
    "    dis_vert_target_r = mne.concatenate_epochs([sorted_epochs[1], sorted_epochs[5]])\n",
    "    \n",
    "    sorted_epochs.append(dis_vert_target_l)\n",
    "    sorted_epochs.append(dis_vert_target_r)\n",
    "    \n",
    "    # remove useless files\n",
    "    \n",
    "    indices_to_remove = [0, 1, 4, 5]\n",
    "    \n",
    "    # reverse to avoid index shifting issues\n",
    "    \n",
    "    indices_to_remove.sort(reverse=True)\n",
    "    for index in indices_to_remove:\n",
    "        del sorted_epochs[index]\n",
    "    \n",
    "    return sorted_epochs  "
   ]
  },
  {
   "cell_type": "code",
   "execution_count": 204,
   "id": "308141a9",
   "metadata": {
    "scrolled": true
   },
   "outputs": [
    {
     "name": "stdout",
     "output_type": "stream",
     "text": [
      "Not setting metadata\n",
      "36 matching events found\n",
      "Applying baseline correction (mode: mean)\n",
      "Not setting metadata\n",
      "36 matching events found\n",
      "Applying baseline correction (mode: mean)\n"
     ]
    },
    {
     "data": {
      "text/plain": [
       "[<EpochsFIF |  34 events (all good), -0.2 - 1 sec, baseline -0.2 – 0 sec, ~11.2 MB, data loaded,\n",
       "  'no_dis/target_l': 34>,\n",
       " <EpochsFIF |  34 events (all good), -0.2 - 1 sec, baseline -0.2 – 0 sec, ~11.2 MB, data loaded,\n",
       "  'no_dis/target_r': 34>,\n",
       " <EpochsFIF |  35 events (all good), -0.2 - 1 sec, baseline -0.2 – 0 sec, ~11.5 MB, data loaded,\n",
       "  'dis_right/target_l': 35>,\n",
       " <EpochsFIF |  36 events (all good), -0.2 - 1 sec, baseline -0.2 – 0 sec, ~11.8 MB, data loaded,\n",
       "  'dis_left/target_r': 36>,\n",
       " <EpochsArray |  36 events (all good), -0.2 - 1 sec, baseline -0.2 – 0 sec, ~11.8 MB, data loaded,\n",
       "  'dis_top/target_l': 17\n",
       "  'dis_bot/target_l': 19>,\n",
       " <EpochsArray |  36 events (all good), -0.2 - 1 sec, baseline -0.2 – 0 sec, ~11.8 MB, data loaded,\n",
       "  'dis_top/target_r': 20\n",
       "  'dis_bot/target_r': 16>]"
      ]
     },
     "execution_count": 204,
     "metadata": {},
     "output_type": "execute_result"
    }
   ],
   "source": [
    "sorted_epochs = sort_epochs(epochs)\n",
    "sorted_epochs"
   ]
  },
  {
   "cell_type": "code",
   "execution_count": 205,
   "id": "28cb18a7",
   "metadata": {},
   "outputs": [],
   "source": [
    "def compute_alpha_by_side(sorted_epochs):\n",
    "\n",
    "    freqs = np.arange(8, 13)\n",
    "    right_elecs=[ 'P8', 'P10', 'PO8']\n",
    "    left_elecs=['P7', 'P9', 'PO7']\n",
    "\n",
    "    n_cycles = freqs / 2.\n",
    "    time_bandwidth = 4.\n",
    "    baseline = None  # no baseline correction\n",
    "    n_jobs = 1  # number of parallel jobs to run\n",
    "    \n",
    "    right_power_list = []\n",
    "    left_power_list = []\n",
    "\n",
    "    # compute alpha power and append it to right/left_power_list\n",
    "    for i in range(len(conditions)):\n",
    "        right_power = mne.time_frequency.tfr_morlet(sorted_epochs[i], freqs=freqs, n_cycles=n_cycles, picks=right_elecs,\n",
    "                                                use_fft=True, return_itc=False, decim=1,\n",
    "                                                n_jobs=n_jobs, verbose=True)\n",
    "        right_power_mean = right_power.to_data_frame()[right_elecs].mean(axis=1).mean(axis=0)\n",
    "        right_power_list.append(right_power_mean)\n",
    "\n",
    "        left_power= mne.time_frequency.tfr_morlet(sorted_epochs[i], freqs=freqs, n_cycles=n_cycles, picks=left_elecs,\n",
    "                                                use_fft=True, return_itc=False, decim=1,\n",
    "                                                n_jobs=n_jobs, verbose=True)\n",
    "        left_power_mean = left_power.to_data_frame()[left_elecs].mean(axis=1).mean(axis=0)\n",
    "        left_power_list.append(left_power_mean)\n",
    "    \n",
    "    return right_power_list, left_power_list"
   ]
  },
  {
   "cell_type": "code",
   "execution_count": 206,
   "id": "ef8ebcfb",
   "metadata": {},
   "outputs": [
    {
     "data": {
      "text/plain": [
       "[3.2612289125729613e-10,\n",
       " 3.3128462461061294e-10,\n",
       " 3.4074995964706485e-10,\n",
       " 3.00410816402673e-10,\n",
       " 3.456236359488997e-10,\n",
       " 3.2317055594815135e-10]"
      ]
     },
     "execution_count": 206,
     "metadata": {},
     "output_type": "execute_result"
    }
   ],
   "source": [
    "right_power_list, left_power_list = compute_alpha_by_side(sorted_epochs)\n",
    "right_power_list"
   ]
  },
  {
   "cell_type": "code",
   "execution_count": 207,
   "id": "de9cb86b",
   "metadata": {},
   "outputs": [],
   "source": [
    "def extract_conditions(sorted_epochs):\n",
    "    \n",
    "    conditions = []\n",
    "\n",
    "    for i in sorted_epochs:\n",
    "\n",
    "        cond = list(i.event_id.keys())\n",
    "        conditions.append(cond[0])\n",
    "    \n",
    "    return conditions"
   ]
  },
  {
   "cell_type": "code",
   "execution_count": 208,
   "id": "9aa2ea06",
   "metadata": {
    "scrolled": true
   },
   "outputs": [
    {
     "data": {
      "text/plain": [
       "['no_dis/target_l',\n",
       " 'no_dis/target_r',\n",
       " 'dis_right/target_l',\n",
       " 'dis_left/target_r',\n",
       " 'dis_top/target_l',\n",
       " 'dis_top/target_r']"
      ]
     },
     "execution_count": 208,
     "metadata": {},
     "output_type": "execute_result"
    }
   ],
   "source": [
    "conditions = extract_conditions(sorted_epochs)\n",
    "conditions"
   ]
  },
  {
   "cell_type": "code",
   "execution_count": 209,
   "id": "efc1bd48",
   "metadata": {},
   "outputs": [],
   "source": [
    "def alpha_power_df(conditions=None, right_power_list=None, left_power_list=None):\n",
    "    \n",
    "    df = pd.DataFrame(columns=[['condition','target_side', 'distractor_side', 'alpha_side', 'alpha_power']])\n",
    "    \n",
    "    df['condition'] = conditions * 2\n",
    "    \n",
    "    df ['alpha_power'] = right_power_list + left_power_list\n",
    "    \n",
    "    for row_number in range(len(df)):\n",
    "                     \n",
    "                        # add target side\n",
    "                        if 'target_l' in df.iloc[row_number, 0]:\n",
    "                            df.iloc[row_number, 1] = 'left'\n",
    "                        elif 'target_r' in df.iloc[row_number, 0]:\n",
    "                            df.iloc[row_number, 1] = 'right'\n",
    "                        \n",
    "                        # add distractor side\n",
    "                        if 'dis_top' in df.iloc[row_number, 0] or 'no_dis' in df.iloc[row_number, 0]:\n",
    "                            df.iloc[row_number, 2] = 'nodis'\n",
    "                        elif 'dis_right' in df.iloc[row_number, 0]:\n",
    "                            df.iloc[row_number, 2] = 'right'\n",
    "                        elif 'dis_left' in df.iloc[row_number, 0]:\n",
    "                            df.iloc[row_number, 2] = 'left'\n",
    "\n",
    "                        # add alpha side\n",
    "                        if row_number <= 5:\n",
    "                            if 'target_l' in df.iloc[row_number, 0]:\n",
    "                                df.iloc[row_number, 3] = 'contra'\n",
    "                            elif 'target_r' in df.iloc[row_number, 0]:\n",
    "                                df.iloc[row_number,3] = 'ipsi'\n",
    "                        else:\n",
    "                            if 'target_l' in df.iloc[row_number, 0]:\n",
    "                                df.iloc[row_number,3] = 'ipsi'\n",
    "                            elif 'target_r' in df.iloc[row_number, 0]:\n",
    "                                df.iloc[row_number,3] = 'contra'\n",
    "                        \n",
    "    return df"
   ]
  },
  {
   "cell_type": "code",
   "execution_count": 210,
   "id": "e22aa36f",
   "metadata": {},
   "outputs": [
    {
     "data": {
      "text/html": [
       "<div>\n",
       "<style scoped>\n",
       "    .dataframe tbody tr th:only-of-type {\n",
       "        vertical-align: middle;\n",
       "    }\n",
       "\n",
       "    .dataframe tbody tr th {\n",
       "        vertical-align: top;\n",
       "    }\n",
       "\n",
       "    .dataframe thead tr th {\n",
       "        text-align: left;\n",
       "    }\n",
       "</style>\n",
       "<table border=\"1\" class=\"dataframe\">\n",
       "  <thead>\n",
       "    <tr>\n",
       "      <th></th>\n",
       "      <th>condition</th>\n",
       "      <th>target_side</th>\n",
       "      <th>distractor_side</th>\n",
       "      <th>alpha_side</th>\n",
       "      <th>alpha_power</th>\n",
       "    </tr>\n",
       "  </thead>\n",
       "  <tbody>\n",
       "    <tr>\n",
       "      <th>0</th>\n",
       "      <td>no_dis/target_l</td>\n",
       "      <td>left</td>\n",
       "      <td>nodis</td>\n",
       "      <td>contra</td>\n",
       "      <td>3.261229e-10</td>\n",
       "    </tr>\n",
       "    <tr>\n",
       "      <th>1</th>\n",
       "      <td>no_dis/target_r</td>\n",
       "      <td>right</td>\n",
       "      <td>nodis</td>\n",
       "      <td>ipsi</td>\n",
       "      <td>3.312846e-10</td>\n",
       "    </tr>\n",
       "    <tr>\n",
       "      <th>2</th>\n",
       "      <td>dis_right/target_l</td>\n",
       "      <td>left</td>\n",
       "      <td>right</td>\n",
       "      <td>contra</td>\n",
       "      <td>3.407500e-10</td>\n",
       "    </tr>\n",
       "    <tr>\n",
       "      <th>3</th>\n",
       "      <td>dis_left/target_r</td>\n",
       "      <td>right</td>\n",
       "      <td>left</td>\n",
       "      <td>ipsi</td>\n",
       "      <td>3.004108e-10</td>\n",
       "    </tr>\n",
       "    <tr>\n",
       "      <th>4</th>\n",
       "      <td>dis_top/target_l</td>\n",
       "      <td>left</td>\n",
       "      <td>nodis</td>\n",
       "      <td>contra</td>\n",
       "      <td>3.456236e-10</td>\n",
       "    </tr>\n",
       "    <tr>\n",
       "      <th>5</th>\n",
       "      <td>dis_top/target_r</td>\n",
       "      <td>right</td>\n",
       "      <td>nodis</td>\n",
       "      <td>ipsi</td>\n",
       "      <td>3.231706e-10</td>\n",
       "    </tr>\n",
       "    <tr>\n",
       "      <th>6</th>\n",
       "      <td>no_dis/target_l</td>\n",
       "      <td>left</td>\n",
       "      <td>nodis</td>\n",
       "      <td>ipsi</td>\n",
       "      <td>1.590270e-09</td>\n",
       "    </tr>\n",
       "    <tr>\n",
       "      <th>7</th>\n",
       "      <td>no_dis/target_r</td>\n",
       "      <td>right</td>\n",
       "      <td>nodis</td>\n",
       "      <td>contra</td>\n",
       "      <td>1.763815e-09</td>\n",
       "    </tr>\n",
       "    <tr>\n",
       "      <th>8</th>\n",
       "      <td>dis_right/target_l</td>\n",
       "      <td>left</td>\n",
       "      <td>right</td>\n",
       "      <td>ipsi</td>\n",
       "      <td>1.563557e-09</td>\n",
       "    </tr>\n",
       "    <tr>\n",
       "      <th>9</th>\n",
       "      <td>dis_left/target_r</td>\n",
       "      <td>right</td>\n",
       "      <td>left</td>\n",
       "      <td>contra</td>\n",
       "      <td>1.597437e-09</td>\n",
       "    </tr>\n",
       "    <tr>\n",
       "      <th>10</th>\n",
       "      <td>dis_top/target_l</td>\n",
       "      <td>left</td>\n",
       "      <td>nodis</td>\n",
       "      <td>ipsi</td>\n",
       "      <td>1.797773e-09</td>\n",
       "    </tr>\n",
       "    <tr>\n",
       "      <th>11</th>\n",
       "      <td>dis_top/target_r</td>\n",
       "      <td>right</td>\n",
       "      <td>nodis</td>\n",
       "      <td>contra</td>\n",
       "      <td>1.829812e-09</td>\n",
       "    </tr>\n",
       "  </tbody>\n",
       "</table>\n",
       "</div>"
      ],
      "text/plain": [
       "             condition target_side distractor_side alpha_side   alpha_power\n",
       "0      no_dis/target_l        left           nodis     contra  3.261229e-10\n",
       "1      no_dis/target_r       right           nodis       ipsi  3.312846e-10\n",
       "2   dis_right/target_l        left           right     contra  3.407500e-10\n",
       "3    dis_left/target_r       right            left       ipsi  3.004108e-10\n",
       "4     dis_top/target_l        left           nodis     contra  3.456236e-10\n",
       "5     dis_top/target_r       right           nodis       ipsi  3.231706e-10\n",
       "6      no_dis/target_l        left           nodis       ipsi  1.590270e-09\n",
       "7      no_dis/target_r       right           nodis     contra  1.763815e-09\n",
       "8   dis_right/target_l        left           right       ipsi  1.563557e-09\n",
       "9    dis_left/target_r       right            left     contra  1.597437e-09\n",
       "10    dis_top/target_l        left           nodis       ipsi  1.797773e-09\n",
       "11    dis_top/target_r       right           nodis     contra  1.829812e-09"
      ]
     },
     "execution_count": 210,
     "metadata": {},
     "output_type": "execute_result"
    }
   ],
   "source": [
    "df = alpha_power_df(conditions, right_power_list, left_power_list)\n",
    "df"
   ]
  }
 ],
 "metadata": {
  "kernelspec": {
   "display_name": "Python [conda env:pulsation_proj]",
   "language": "python",
   "name": "conda-env-pulsation_proj-py"
  },
  "language_info": {
   "codemirror_mode": {
    "name": "ipython",
    "version": 3
   },
   "file_extension": ".py",
   "mimetype": "text/x-python",
   "name": "python",
   "nbconvert_exporter": "python",
   "pygments_lexer": "ipython3",
   "version": "3.8.15"
  }
 },
 "nbformat": 4,
 "nbformat_minor": 5
}
