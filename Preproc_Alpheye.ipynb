{
 "cells": [
  {
   "cell_type": "code",
   "execution_count": 1,
   "id": "f82c8f8d",
   "metadata": {},
   "outputs": [],
   "source": [
    "import os\n",
    "import numpy as np\n",
    "import pandas as pd\n",
    "import matplotlib.pyplot as plt\n",
    "import mne\n",
    "import glob\n",
    "\n",
    "%matplotlib notebook"
   ]
  },
  {
   "cell_type": "code",
   "execution_count": 2,
   "id": "dc3412bb",
   "metadata": {},
   "outputs": [
    {
     "name": "stdout",
     "output_type": "stream",
     "text": [
      "Extracting EDF parameters from /Users/nicolaspiron/Documents/PULSATION/Data/EEG/Alpheye/S01_Alpheye_r2.bdf...\n",
      "BDF file detected\n",
      "Setting channel info structure...\n",
      "Creating raw.info structure...\n",
      "Reading 0 ... 357375  =      0.000 ...   348.999 secs...\n",
      "Using qt as 2D backend.\n",
      "Using pyopengl with version 3.1.6\n"
     ]
    },
    {
     "data": {
      "text/html": [
       "<table class=\"table table-hover table-striped table-sm table-responsive small\">\n",
       "    <tr>\n",
       "        <th>Measurement date</th>\n",
       "        \n",
       "        <td>novembre 14, 2022  15:45:30 GMT</td>\n",
       "        \n",
       "    </tr>\n",
       "    <tr>\n",
       "        <th>Experimenter</th>\n",
       "        \n",
       "        <td>Unknown</td>\n",
       "        \n",
       "    </tr>\n",
       "        <th>Participant</th>\n",
       "        \n",
       "        <td>Unknown</td>\n",
       "        \n",
       "    </tr>\n",
       "    <tr>\n",
       "        <th>Digitized points</th>\n",
       "        \n",
       "        <td>Not available</td>\n",
       "        \n",
       "    </tr>\n",
       "    <tr>\n",
       "        <th>Good channels</th>\n",
       "        <td>72 EEG, 1 Stimulus</td>\n",
       "    </tr>\n",
       "    <tr>\n",
       "        <th>Bad channels</th>\n",
       "        <td>None</td>\n",
       "    </tr>\n",
       "    <tr>\n",
       "        <th>EOG channels</th>\n",
       "        <td>Not available</td>\n",
       "    </tr>\n",
       "    <tr>\n",
       "        <th>ECG channels</th>\n",
       "        <td>Not available</td>\n",
       "    \n",
       "    <tr>\n",
       "        <th>Sampling frequency</th>\n",
       "        <td>1024.00 Hz</td>\n",
       "    </tr>\n",
       "    \n",
       "    \n",
       "    <tr>\n",
       "        <th>Highpass</th>\n",
       "        <td>0.00 Hz</td>\n",
       "    </tr>\n",
       "    \n",
       "    \n",
       "    <tr>\n",
       "        <th>Lowpass</th>\n",
       "        <td>208.00 Hz</td>\n",
       "    </tr>\n",
       "    \n",
       "    \n",
       "</table>"
      ],
      "text/plain": [
       "<Info | 7 non-empty values\n",
       " bads: []\n",
       " ch_names: Fp1, AF7, AF3, F1, F3, F5, F7, FT7, FC5, FC3, FC1, C1, C3, C5, ...\n",
       " chs: 72 EEG, 1 Stimulus\n",
       " custom_ref_applied: False\n",
       " highpass: 0.0 Hz\n",
       " lowpass: 208.0 Hz\n",
       " meas_date: 2022-11-14 15:45:30 UTC\n",
       " nchan: 73\n",
       " projs: []\n",
       " sfreq: 1024.0 Hz\n",
       ">"
      ]
     },
     "execution_count": 2,
     "metadata": {},
     "output_type": "execute_result"
    },
    {
     "name": "stdout",
     "output_type": "stream",
     "text": [
      "Channels marked as bad:\n",
      "none\n"
     ]
    }
   ],
   "source": [
    "subject_id = 'S01'\n",
    "alpha_dir = '/Users/nicolaspiron/Documents/PULSATION/Data/EEG/Alpheye/'\n",
    "files = glob.glob(alpha_dir + subject_id +'*')\n",
    "#sorting files because they are sometime in the wrong order\n",
    "files.sort()\n",
    "\n",
    "raw = mne.io.read_raw_bdf(files[1])\n",
    "raw.load_data()\n",
    "\n",
    "raw.plot(scalings='auto');\n",
    "raw.info"
   ]
  },
  {
   "cell_type": "code",
   "execution_count": 3,
   "id": "a564dbac",
   "metadata": {},
   "outputs": [
    {
     "name": "stdout",
     "output_type": "stream",
     "text": [
      "Trigger channel has a non-zero initial value of 65536 (consider using initial_event=True to detect this event)\n",
      "Removing orphaned offset at the beginning of the file.\n",
      "90 events found\n",
      "Event IDs: [  2   4  10 128 129]\n",
      "Trigger channel has a non-zero initial value of 65536 (consider using initial_event=True to detect this event)\n",
      "Removing orphaned offset at the beginning of the file.\n",
      "90 events found\n",
      "Event IDs: [  2   4  10 128 129]\n",
      "Filtering raw data in 1 contiguous segment\n",
      "Setting up band-pass filter from 1 - 30 Hz\n",
      "\n",
      "FIR filter parameters\n",
      "---------------------\n",
      "Designing a two-pass forward and reverse, zero-phase, non-causal bandpass filter:\n",
      "- Windowed time-domain design (firwin) method\n",
      "- Hamming window with 0.0194 passband ripple and 53 dB stopband attenuation\n",
      "- Lower passband edge: 1.00\n",
      "- Lower transition bandwidth: 1.00 Hz (-12 dB cutoff frequency: 0.50 Hz)\n",
      "- Upper passband edge: 30.00 Hz\n",
      "- Upper transition bandwidth: 7.50 Hz (-12 dB cutoff frequency: 33.75 Hz)\n",
      "- Filter length: 1651 samples (3.302 sec)\n",
      "\n"
     ]
    },
    {
     "name": "stderr",
     "output_type": "stream",
     "text": [
      "[Parallel(n_jobs=1)]: Using backend SequentialBackend with 1 concurrent workers.\n",
      "[Parallel(n_jobs=1)]: Done   1 out of   1 | elapsed:    0.0s remaining:    0.0s\n",
      "[Parallel(n_jobs=1)]: Done   2 out of   2 | elapsed:    0.0s remaining:    0.0s\n",
      "[Parallel(n_jobs=1)]: Done   3 out of   3 | elapsed:    0.0s remaining:    0.0s\n",
      "[Parallel(n_jobs=1)]: Done   4 out of   4 | elapsed:    0.0s remaining:    0.0s\n"
     ]
    },
    {
     "name": "stdout",
     "output_type": "stream",
     "text": [
      "Interpolating bad channels\n",
      "    Automatic origin fit: head of radius 95.0 mm\n",
      "Computing interpolation matrix from 60 sensor positions\n",
      "Interpolating 4 sensors\n"
     ]
    },
    {
     "name": "stderr",
     "output_type": "stream",
     "text": [
      "[Parallel(n_jobs=1)]: Done  64 out of  64 | elapsed:    0.4s finished\n"
     ]
    },
    {
     "name": "stdout",
     "output_type": "stream",
     "text": [
      "Using pyopengl with version 3.1.6\n"
     ]
    },
    {
     "data": {
      "text/plain": [
       "<mne_qt_browser._pg_figure.MNEQtBrowser at 0x7fa5c4d864c0>"
      ]
     },
     "execution_count": 3,
     "metadata": {},
     "output_type": "execute_result"
    },
    {
     "name": "stdout",
     "output_type": "stream",
     "text": [
      "Channels marked as bad:\n",
      "none\n"
     ]
    }
   ],
   "source": [
    "#Resample, filter, interpolate\n",
    "\n",
    "raw.drop_channels(['EXG7','EXG8'])\n",
    "\n",
    "raw.set_channel_types({'EXG1': 'eog', 'EXG2': 'eog','EXG3': 'eog','EXG4': 'eog', 'EXG5': 'eog','EXG6': 'eog'})\n",
    "\n",
    "raw.set_montage('biosemi64') \n",
    "#raw.plot_sensors(show_names=True);\n",
    "raw.resample(500)\n",
    "raw.filter(1.,30., phase='zero-double')\n",
    "\n",
    "#interpolate\n",
    "bad_channels = ['F3', 'FT7', 'F4', 'FC6']\n",
    "raw.info['bads'] = bad_channels\n",
    "mne.io.Raw.interpolate_bads(raw, reset_bads=True)\n",
    "raw.plot()"
   ]
  },
  {
   "cell_type": "code",
   "execution_count": 5,
   "id": "6e413a2c",
   "metadata": {},
   "outputs": [
    {
     "name": "stdout",
     "output_type": "stream",
     "text": [
      "Fitting ICA to data using 64 channels (please be patient, this may take a while)\n",
      "Selecting by number: 24 components\n",
      " \n",
      "Fitting ICA took 2.9s.\n"
     ]
    },
    {
     "data": {
      "text/html": [
       "<table class=\"table table-hover table-striped table-sm table-responsive small\">\n",
       "    <tr>\n",
       "        <th>Method</th>\n",
       "        <td>infomax</td>\n",
       "    </tr>\n",
       "    <tr>\n",
       "        <th>Fit</th>\n",
       "        <td>500 iterations on raw data (17450 samples)</td>\n",
       "    </tr>\n",
       "    \n",
       "    <tr>\n",
       "        <th>ICA components</th>\n",
       "        <td>24</td>\n",
       "    </tr>\n",
       "    <tr>\n",
       "        <th>Available PCA components</th>\n",
       "        <td>64</td>\n",
       "    </tr>\n",
       "    <tr>\n",
       "        <th>Channel types</th>\n",
       "        <td>eeg</td>\n",
       "    </tr>\n",
       "    <tr>\n",
       "        <th>ICA components marked for exclusion</th>\n",
       "        <td>&mdash;</td>\n",
       "    </tr>\n",
       "    \n",
       "</table>"
      ],
      "text/plain": [
       "<ICA | raw data decomposition, method: infomax (fit in 500 iterations on 17450 samples), 24 ICA components (64 PCA components available), channel types: eeg, no sources marked for exclusion>"
      ]
     },
     "execution_count": 5,
     "metadata": {},
     "output_type": "execute_result"
    }
   ],
   "source": [
    "#Compute ICA\n",
    "\n",
    "from mne.preprocessing import ICA\n",
    "\n",
    "ica = ICA(n_components=24, method='infomax', random_state=42)\n",
    "ica.fit(raw, decim=10)"
   ]
  },
  {
   "cell_type": "code",
   "execution_count": null,
   "id": "c7ef5a6e",
   "metadata": {},
   "outputs": [],
   "source": [
    "#Plot components\n",
    "\n",
    "ica.plot_components()"
   ]
  },
  {
   "cell_type": "code",
   "execution_count": 6,
   "id": "09356d24",
   "metadata": {},
   "outputs": [
    {
     "name": "stdout",
     "output_type": "stream",
     "text": [
      "Applying ICA to Raw instance\n",
      "    Transforming to ICA space (24 components)\n",
      "    Zeroing out 1 ICA component\n",
      "    Projecting back using 64 PCA components\n"
     ]
    }
   ],
   "source": [
    "#Components choice based on visualization\n",
    "\n",
    "ica.exclude = [0]\n",
    "raw_ica= ica.apply(raw)"
   ]
  },
  {
   "cell_type": "code",
   "execution_count": 7,
   "id": "7d4161fb",
   "metadata": {},
   "outputs": [
    {
     "name": "stdout",
     "output_type": "stream",
     "text": [
      "Trigger channel has a non-zero initial value of 65536 (consider using initial_event=True to detect this event)\n",
      "Removing orphaned offset at the beginning of the file.\n",
      "90 events found\n",
      "Event IDs: [  2   4  10 128 129]\n",
      "Not setting metadata\n",
      "30 matching events found\n",
      "Applying baseline correction (mode: mean)\n",
      "0 projection items activated\n",
      "Using data from preloaded Raw for 30 events and 3101 original time points ...\n",
      "0 bad epochs dropped\n",
      "EEG channel type selected for re-referencing\n",
      "Applying average reference.\n",
      "Applying a custom ('EEG',) reference.\n"
     ]
    }
   ],
   "source": [
    "#Create epochs\n",
    "\n",
    "e_list = mne.find_events(raw_ica, stim_channel='Status')\n",
    "df = pd.DataFrame(e_list, columns=['timepoint', 'duration', 'stim'])\n",
    "df_stim = df[(df['stim'] == 2) | (df['stim'] == 4)].reset_index()\n",
    "df_stim = df_stim.add_prefix('img_')\n",
    "\n",
    "mne_events = df_stim[['img_timepoint', 'img_duration', 'img_stim']].values\n",
    "event_dict = {'Landscape':2,\n",
    "             'Human':4}\n",
    "\n",
    "epochs = mne.Epochs(raw_ica, mne_events, event_id=event_dict, tmin=-0.2, tmax=6, baseline=(-0.2, 0), event_repeated='drop', preload=True)\n",
    "epochs.set_eeg_reference(ref_channels='average');"
   ]
  },
  {
   "cell_type": "code",
   "execution_count": 8,
   "id": "39771bf3",
   "metadata": {},
   "outputs": [
    {
     "data": {
      "text/plain": [
       "array([[ 22565,      0,      4],\n",
       "       [ 25568,      0,     10],\n",
       "       [ 26637,      0,    128],\n",
       "       [ 28021,      0,      4],\n",
       "       [ 31024,      0,     10],\n",
       "       [ 31266,      0,    128],\n",
       "       [ 32692,      0,      4],\n",
       "       [ 35695,      0,     10],\n",
       "       [ 36004,      0,    128],\n",
       "       [ 37639,      0,      4],\n",
       "       [ 40642,      0,     10],\n",
       "       [ 40850,      0,    128],\n",
       "       [ 42360,      0,      2],\n",
       "       [ 45363,      0,     10],\n",
       "       [ 45747,      0,    128],\n",
       "       [ 47515,      0,      4],\n",
       "       [ 50518,      0,     10],\n",
       "       [ 50751,      0,    128],\n",
       "       [ 52236,      0,      4],\n",
       "       [ 55239,      0,     10],\n",
       "       [ 55582,      0,    128],\n",
       "       [ 57266,      0,      4],\n",
       "       [ 60269,      0,     10],\n",
       "       [ 60478,      0,    128],\n",
       "       [ 62221,      0,      4],\n",
       "       [ 65224,      0,     10],\n",
       "       [ 65533,      0,    128],\n",
       "       [ 67109,      0,      4],\n",
       "       [ 70112,      0,     10],\n",
       "       [ 70312,      0,    128],\n",
       "       [ 72081,      0,      4],\n",
       "       [ 75083,      0,     10],\n",
       "       [ 75317,      0,    128],\n",
       "       [ 76885,      0,      2],\n",
       "       [ 79888,      0,     10],\n",
       "       [ 80130,      0,    128],\n",
       "       [ 81957,      0,      2],\n",
       "       [ 84960,      0,     10],\n",
       "       [ 85260,      0,    128],\n",
       "       [ 86687,      0,      2],\n",
       "       [ 89689,      0,     10],\n",
       "       [ 89923,      0,    128],\n",
       "       [ 91616,      0,      2],\n",
       "       [ 94620,      0,     10],\n",
       "       [ 94945,      0,    128],\n",
       "       [ 96337,      0,      2],\n",
       "       [ 99341,      0,     10],\n",
       "       [ 99683,      0,    128],\n",
       "       [101443,      0,      4],\n",
       "       [104446,      0,     10],\n",
       "       [104713,      0,    128],\n",
       "       [106456,      0,      2],\n",
       "       [109459,      0,     10],\n",
       "       [109876,      0,    128],\n",
       "       [111453,      0,      4],\n",
       "       [114456,      0,     10],\n",
       "       [114739,      0,    128],\n",
       "       [116558,      0,      2],\n",
       "       [119561,      0,     10],\n",
       "       [119936,      0,    128],\n",
       "       [121279,      0,      4],\n",
       "       [124282,      0,     10],\n",
       "       [124541,      0,    129],\n",
       "       [126125,      0,      2],\n",
       "       [129128,      0,     10],\n",
       "       [129462,      0,    128],\n",
       "       [131063,      0,      2],\n",
       "       [134066,      0,     10],\n",
       "       [134450,      0,    128],\n",
       "       [136035,      0,      2],\n",
       "       [139038,      0,     10],\n",
       "       [139397,      0,    128],\n",
       "       [140765,      0,      4],\n",
       "       [143768,      0,     10],\n",
       "       [144068,      0,    128],\n",
       "       [145586,      0,      4],\n",
       "       [148589,      0,     10],\n",
       "       [148981,      0,    128],\n",
       "       [150541,      0,      2],\n",
       "       [153544,      0,     10],\n",
       "       [153936,      0,    128],\n",
       "       [155512,      0,      2],\n",
       "       [158516,      0,     10],\n",
       "       [158833,      0,    128],\n",
       "       [160267,      0,      2],\n",
       "       [163270,      0,     10],\n",
       "       [163587,      0,    128],\n",
       "       [165222,      0,      2],\n",
       "       [168225,      0,     10],\n",
       "       [168492,      0,    128]])"
      ]
     },
     "execution_count": 8,
     "metadata": {},
     "output_type": "execute_result"
    }
   ],
   "source": [
    "e_list"
   ]
  },
  {
   "cell_type": "code",
   "execution_count": null,
   "id": "9add0a47",
   "metadata": {},
   "outputs": [],
   "source": [
    "#Save files (don't forget to change the 'run' variable!!)\n",
    "\n",
    "run = '_r2'\n",
    "\n",
    "out_dir = '/Users/nicolaspiron/Documents/PULSATION/Python_MNE/preproc/Alpheye_out/data'\n",
    "ICA_filename = subject_id+run+'_ICA.fif'\n",
    "raw_filename = subject_id+run+'_raw.fif'\n",
    "raw_ICA_filename = subject_id+run+'_rawICA.fif'\n",
    "\n",
    "ica.save(os.path.join(out_dir, 'ica', ICA_filename), overwrite=True)\n",
    "raw.save(os.path.join(out_dir, raw_filename), overwrite=True)\n",
    "raw_ica.save(os.path.join(out_dir, 'raw_ica', raw_ICA_filename), overwrite=True)"
   ]
  }
 ],
 "metadata": {
  "kernelspec": {
   "display_name": "Python [conda env:pulsation_proj]",
   "language": "python",
   "name": "conda-env-pulsation_proj-py"
  },
  "language_info": {
   "codemirror_mode": {
    "name": "ipython",
    "version": 3
   },
   "file_extension": ".py",
   "mimetype": "text/x-python",
   "name": "python",
   "nbconvert_exporter": "python",
   "pygments_lexer": "ipython3",
   "version": "3.8.15"
  }
 },
 "nbformat": 4,
 "nbformat_minor": 5
}
