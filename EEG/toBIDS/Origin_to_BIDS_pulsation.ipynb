{
 "cells": [
  {
   "cell_type": "code",
   "execution_count": 1,
   "id": "72438399",
   "metadata": {},
   "outputs": [],
   "source": [
    "import os\n",
    "import re\n",
    "\n",
    "import mne\n",
    "from mne_bids import BIDSPath, write_raw_bids"
   ]
  },
  {
   "cell_type": "code",
   "execution_count": 2,
   "id": "7afdd4e3",
   "metadata": {},
   "outputs": [
    {
     "data": {
      "text/plain": [
       "['.DS_Store',\n",
       " 'S21_N2pc_r1.bdf',\n",
       " 'S21_N2pc_r2.bdf',\n",
       " 'S21_Alpheye_r1.bdf',\n",
       " 'S21_Alpheye_r3.bdf',\n",
       " 'S21_Alpheye_r2.bdf']"
      ]
     },
     "execution_count": 2,
     "metadata": {},
     "output_type": "execute_result"
    }
   ],
   "source": [
    "origin_folder = fr'/Users/nicolaspiron/Documents/Master_thesis/EEG/data'\n",
    "os.listdir(origin_folder)"
   ]
  },
  {
   "cell_type": "code",
   "execution_count": 6,
   "id": "a64c1056",
   "metadata": {},
   "outputs": [
    {
     "name": "stdout",
     "output_type": "stream",
     "text": [
      "N2pc\n",
      "Extracting EDF parameters from /Users/nicolaspiron/Documents/Master_thesis/EEG/data/S21_N2pc_r1.bdf...\n",
      "BDF file detected\n",
      "Setting channel info structure...\n",
      "Creating raw.info structure...\n",
      "Trigger channel has a non-zero initial value of 65536 (consider using initial_event=True to detect this event)\n",
      "484 events found\n",
      "Event IDs: [  1   2   3   4   5   6   7   8 128]\n",
      "Extracting EDF parameters from /Users/nicolaspiron/Documents/Master_thesis/EEG/data/S21_N2pc_r1.bdf...\n",
      "BDF file detected\n",
      "Setting channel info structure...\n",
      "Creating raw.info structure...\n",
      "Writing '/Users/nicolaspiron/Documents/Master_thesis/EEG/toBIDS/BIDS_data/sourcedata/participants.tsv'...\n",
      "Writing '/Users/nicolaspiron/Documents/Master_thesis/EEG/toBIDS/BIDS_data/sourcedata/participants.json'...\n",
      "Used Annotations descriptions: ['response/correct', 'stim/dis_bot/target_l', 'stim/dis_bot/target_r', 'stim/dis_left/target_r', 'stim/dis_right/target_l', 'stim/dis_top/target_l', 'stim/dis_top/target_r', 'stim/no_dis/target_l', 'stim/no_dis/target_r']\n",
      "Writing '/Users/nicolaspiron/Documents/Master_thesis/EEG/toBIDS/BIDS_data/sourcedata/sub-21/ses-01/eeg/sub-21_ses-01_task-N2pc_run-01_events.tsv'...\n",
      "Writing '/Users/nicolaspiron/Documents/Master_thesis/EEG/toBIDS/BIDS_data/sourcedata/dataset_description.json'...\n",
      "Writing '/Users/nicolaspiron/Documents/Master_thesis/EEG/toBIDS/BIDS_data/sourcedata/sub-21/ses-01/eeg/sub-21_ses-01_task-N2pc_run-01_eeg.json'...\n",
      "Writing '/Users/nicolaspiron/Documents/Master_thesis/EEG/toBIDS/BIDS_data/sourcedata/sub-21/ses-01/eeg/sub-21_ses-01_task-N2pc_run-01_channels.tsv'...\n",
      "Copying data files to sub-21_ses-01_task-N2pc_run-01_eeg.bdf\n",
      "Reading 0 ... 612351  =      0.000 ...   597.999 secs...\n"
     ]
    },
    {
     "name": "stderr",
     "output_type": "stream",
     "text": [
      "/var/folders/4f/_jg1y72j6_ggv65n730flb280000gn/T/ipykernel_94553/805069934.py:42: FutureWarning: The events_data parameter has been deprecated in favor the new events parameter, to ensure better consistency  with MNE-Python. The events_data parameter will be removed in MNE-BIDS 0.14. Please use the events parameter instead.\n",
      "  write_raw_bids(raw, bids_path=bids_path, events_data=e_list, event_id=event_id, overwrite=True)\n"
     ]
    },
    {
     "name": "stdout",
     "output_type": "stream",
     "text": [
      "Writing '/Users/nicolaspiron/Documents/Master_thesis/EEG/toBIDS/BIDS_data/sourcedata/sub-21/ses-01/sub-21_ses-01_scans.tsv'...\n",
      "Wrote /Users/nicolaspiron/Documents/Master_thesis/EEG/toBIDS/BIDS_data/sourcedata/sub-21/ses-01/sub-21_ses-01_scans.tsv entry with eeg/sub-21_ses-01_task-N2pc_run-01_eeg.bdf.\n",
      "N2pc\n",
      "Extracting EDF parameters from /Users/nicolaspiron/Documents/Master_thesis/EEG/data/S21_N2pc_r2.bdf...\n",
      "BDF file detected\n",
      "Setting channel info structure...\n",
      "Creating raw.info structure...\n",
      "Trigger channel has a non-zero initial value of 65536 (consider using initial_event=True to detect this event)\n",
      "484 events found\n",
      "Event IDs: [  1   2   3   4   5   6   7   8 128]\n",
      "Extracting EDF parameters from /Users/nicolaspiron/Documents/Master_thesis/EEG/data/S21_N2pc_r2.bdf...\n",
      "BDF file detected\n",
      "Setting channel info structure...\n",
      "Creating raw.info structure...\n",
      "Writing '/Users/nicolaspiron/Documents/Master_thesis/EEG/toBIDS/BIDS_data/sourcedata/participants.tsv'...\n",
      "Writing '/Users/nicolaspiron/Documents/Master_thesis/EEG/toBIDS/BIDS_data/sourcedata/participants.json'...\n",
      "Used Annotations descriptions: ['response/correct', 'stim/dis_bot/target_l', 'stim/dis_bot/target_r', 'stim/dis_left/target_r', 'stim/dis_right/target_l', 'stim/dis_top/target_l', 'stim/dis_top/target_r', 'stim/no_dis/target_l', 'stim/no_dis/target_r']\n",
      "Writing '/Users/nicolaspiron/Documents/Master_thesis/EEG/toBIDS/BIDS_data/sourcedata/sub-21/ses-01/eeg/sub-21_ses-01_task-N2pc_run-02_events.tsv'...\n",
      "Writing '/Users/nicolaspiron/Documents/Master_thesis/EEG/toBIDS/BIDS_data/sourcedata/dataset_description.json'...\n",
      "Writing '/Users/nicolaspiron/Documents/Master_thesis/EEG/toBIDS/BIDS_data/sourcedata/sub-21/ses-01/eeg/sub-21_ses-01_task-N2pc_run-02_eeg.json'...\n",
      "Writing '/Users/nicolaspiron/Documents/Master_thesis/EEG/toBIDS/BIDS_data/sourcedata/sub-21/ses-01/eeg/sub-21_ses-01_task-N2pc_run-02_channels.tsv'...\n",
      "Copying data files to sub-21_ses-01_task-N2pc_run-02_eeg.bdf\n",
      "Reading 0 ... 578559  =      0.000 ...   564.999 secs...\n"
     ]
    },
    {
     "name": "stderr",
     "output_type": "stream",
     "text": [
      "/var/folders/4f/_jg1y72j6_ggv65n730flb280000gn/T/ipykernel_94553/805069934.py:42: FutureWarning: The events_data parameter has been deprecated in favor the new events parameter, to ensure better consistency  with MNE-Python. The events_data parameter will be removed in MNE-BIDS 0.14. Please use the events parameter instead.\n",
      "  write_raw_bids(raw, bids_path=bids_path, events_data=e_list, event_id=event_id, overwrite=True)\n"
     ]
    },
    {
     "name": "stdout",
     "output_type": "stream",
     "text": [
      "Writing '/Users/nicolaspiron/Documents/Master_thesis/EEG/toBIDS/BIDS_data/sourcedata/sub-21/ses-01/sub-21_ses-01_scans.tsv'...\n",
      "Wrote /Users/nicolaspiron/Documents/Master_thesis/EEG/toBIDS/BIDS_data/sourcedata/sub-21/ses-01/sub-21_ses-01_scans.tsv entry with eeg/sub-21_ses-01_task-N2pc_run-02_eeg.bdf.\n",
      "Alpheye\n",
      "Extracting EDF parameters from /Users/nicolaspiron/Documents/Master_thesis/EEG/data/S21_Alpheye_r1.bdf...\n",
      "BDF file detected\n",
      "Setting channel info structure...\n",
      "Creating raw.info structure...\n",
      "Trigger channel has a non-zero initial value of 65536 (consider using initial_event=True to detect this event)\n",
      "90 events found\n",
      "Event IDs: [  2   4  10 128]\n",
      "Extracting EDF parameters from /Users/nicolaspiron/Documents/Master_thesis/EEG/data/S21_Alpheye_r1.bdf...\n",
      "BDF file detected\n",
      "Setting channel info structure...\n",
      "Creating raw.info structure...\n",
      "Writing '/Users/nicolaspiron/Documents/Master_thesis/EEG/toBIDS/BIDS_data/sourcedata/participants.tsv'...\n",
      "Writing '/Users/nicolaspiron/Documents/Master_thesis/EEG/toBIDS/BIDS_data/sourcedata/participants.json'...\n",
      "Used Annotations descriptions: ['response/correct', 'stim/Human', 'stim/Landscape', 'stim/question']\n",
      "Writing '/Users/nicolaspiron/Documents/Master_thesis/EEG/toBIDS/BIDS_data/sourcedata/sub-21/ses-01/eeg/sub-21_ses-01_task-Alpheye_run-01_events.tsv'...\n",
      "Writing '/Users/nicolaspiron/Documents/Master_thesis/EEG/toBIDS/BIDS_data/sourcedata/dataset_description.json'...\n",
      "Writing '/Users/nicolaspiron/Documents/Master_thesis/EEG/toBIDS/BIDS_data/sourcedata/sub-21/ses-01/eeg/sub-21_ses-01_task-Alpheye_run-01_eeg.json'...\n",
      "Writing '/Users/nicolaspiron/Documents/Master_thesis/EEG/toBIDS/BIDS_data/sourcedata/sub-21/ses-01/eeg/sub-21_ses-01_task-Alpheye_run-01_channels.tsv'...\n",
      "Copying data files to sub-21_ses-01_task-Alpheye_run-01_eeg.bdf\n",
      "Reading 0 ... 315391  =      0.000 ...   307.999 secs...\n"
     ]
    },
    {
     "name": "stderr",
     "output_type": "stream",
     "text": [
      "/var/folders/4f/_jg1y72j6_ggv65n730flb280000gn/T/ipykernel_94553/805069934.py:42: FutureWarning: The events_data parameter has been deprecated in favor the new events parameter, to ensure better consistency  with MNE-Python. The events_data parameter will be removed in MNE-BIDS 0.14. Please use the events parameter instead.\n",
      "  write_raw_bids(raw, bids_path=bids_path, events_data=e_list, event_id=event_id, overwrite=True)\n"
     ]
    },
    {
     "name": "stdout",
     "output_type": "stream",
     "text": [
      "Writing '/Users/nicolaspiron/Documents/Master_thesis/EEG/toBIDS/BIDS_data/sourcedata/sub-21/ses-01/sub-21_ses-01_scans.tsv'...\n",
      "Wrote /Users/nicolaspiron/Documents/Master_thesis/EEG/toBIDS/BIDS_data/sourcedata/sub-21/ses-01/sub-21_ses-01_scans.tsv entry with eeg/sub-21_ses-01_task-Alpheye_run-01_eeg.bdf.\n",
      "Alpheye\n",
      "Extracting EDF parameters from /Users/nicolaspiron/Documents/Master_thesis/EEG/data/S21_Alpheye_r3.bdf...\n",
      "BDF file detected\n",
      "Setting channel info structure...\n",
      "Creating raw.info structure...\n",
      "Trigger channel has a non-zero initial value of 65536 (consider using initial_event=True to detect this event)\n",
      "89 events found\n",
      "Event IDs: [  2   4  10 128]\n",
      "Extracting EDF parameters from /Users/nicolaspiron/Documents/Master_thesis/EEG/data/S21_Alpheye_r3.bdf...\n",
      "BDF file detected\n",
      "Setting channel info structure...\n",
      "Creating raw.info structure...\n",
      "Writing '/Users/nicolaspiron/Documents/Master_thesis/EEG/toBIDS/BIDS_data/sourcedata/participants.tsv'...\n",
      "Writing '/Users/nicolaspiron/Documents/Master_thesis/EEG/toBIDS/BIDS_data/sourcedata/participants.json'...\n",
      "Used Annotations descriptions: ['response/correct', 'stim/Human', 'stim/Landscape', 'stim/question']\n",
      "Writing '/Users/nicolaspiron/Documents/Master_thesis/EEG/toBIDS/BIDS_data/sourcedata/sub-21/ses-01/eeg/sub-21_ses-01_task-Alpheye_run-03_events.tsv'...\n",
      "Writing '/Users/nicolaspiron/Documents/Master_thesis/EEG/toBIDS/BIDS_data/sourcedata/dataset_description.json'...\n",
      "Writing '/Users/nicolaspiron/Documents/Master_thesis/EEG/toBIDS/BIDS_data/sourcedata/sub-21/ses-01/eeg/sub-21_ses-01_task-Alpheye_run-03_eeg.json'...\n",
      "Writing '/Users/nicolaspiron/Documents/Master_thesis/EEG/toBIDS/BIDS_data/sourcedata/sub-21/ses-01/eeg/sub-21_ses-01_task-Alpheye_run-03_channels.tsv'...\n",
      "Copying data files to sub-21_ses-01_task-Alpheye_run-03_eeg.bdf\n",
      "Reading 0 ... 300031  =      0.000 ...   292.999 secs...\n"
     ]
    },
    {
     "name": "stderr",
     "output_type": "stream",
     "text": [
      "/var/folders/4f/_jg1y72j6_ggv65n730flb280000gn/T/ipykernel_94553/805069934.py:42: FutureWarning: The events_data parameter has been deprecated in favor the new events parameter, to ensure better consistency  with MNE-Python. The events_data parameter will be removed in MNE-BIDS 0.14. Please use the events parameter instead.\n",
      "  write_raw_bids(raw, bids_path=bids_path, events_data=e_list, event_id=event_id, overwrite=True)\n"
     ]
    },
    {
     "name": "stdout",
     "output_type": "stream",
     "text": [
      "Writing '/Users/nicolaspiron/Documents/Master_thesis/EEG/toBIDS/BIDS_data/sourcedata/sub-21/ses-01/sub-21_ses-01_scans.tsv'...\n",
      "Wrote /Users/nicolaspiron/Documents/Master_thesis/EEG/toBIDS/BIDS_data/sourcedata/sub-21/ses-01/sub-21_ses-01_scans.tsv entry with eeg/sub-21_ses-01_task-Alpheye_run-03_eeg.bdf.\n",
      "Alpheye\n",
      "Extracting EDF parameters from /Users/nicolaspiron/Documents/Master_thesis/EEG/data/S21_Alpheye_r2.bdf...\n",
      "BDF file detected\n",
      "Setting channel info structure...\n",
      "Creating raw.info structure...\n",
      "Trigger channel has a non-zero initial value of 65536 (consider using initial_event=True to detect this event)\n",
      "90 events found\n",
      "Event IDs: [  2   4  10 128]\n",
      "Extracting EDF parameters from /Users/nicolaspiron/Documents/Master_thesis/EEG/data/S21_Alpheye_r2.bdf...\n",
      "BDF file detected\n",
      "Setting channel info structure...\n",
      "Creating raw.info structure...\n",
      "Writing '/Users/nicolaspiron/Documents/Master_thesis/EEG/toBIDS/BIDS_data/sourcedata/participants.tsv'...\n",
      "Writing '/Users/nicolaspiron/Documents/Master_thesis/EEG/toBIDS/BIDS_data/sourcedata/participants.json'...\n",
      "Used Annotations descriptions: ['response/correct', 'stim/Human', 'stim/Landscape', 'stim/question']\n",
      "Writing '/Users/nicolaspiron/Documents/Master_thesis/EEG/toBIDS/BIDS_data/sourcedata/sub-21/ses-01/eeg/sub-21_ses-01_task-Alpheye_run-02_events.tsv'...\n",
      "Writing '/Users/nicolaspiron/Documents/Master_thesis/EEG/toBIDS/BIDS_data/sourcedata/dataset_description.json'...\n",
      "Writing '/Users/nicolaspiron/Documents/Master_thesis/EEG/toBIDS/BIDS_data/sourcedata/sub-21/ses-01/eeg/sub-21_ses-01_task-Alpheye_run-02_eeg.json'...\n",
      "Writing '/Users/nicolaspiron/Documents/Master_thesis/EEG/toBIDS/BIDS_data/sourcedata/sub-21/ses-01/eeg/sub-21_ses-01_task-Alpheye_run-02_channels.tsv'...\n",
      "Copying data files to sub-21_ses-01_task-Alpheye_run-02_eeg.bdf\n",
      "Reading 0 ... 313343  =      0.000 ...   305.999 secs...\n"
     ]
    },
    {
     "name": "stderr",
     "output_type": "stream",
     "text": [
      "/var/folders/4f/_jg1y72j6_ggv65n730flb280000gn/T/ipykernel_94553/805069934.py:42: FutureWarning: The events_data parameter has been deprecated in favor the new events parameter, to ensure better consistency  with MNE-Python. The events_data parameter will be removed in MNE-BIDS 0.14. Please use the events parameter instead.\n",
      "  write_raw_bids(raw, bids_path=bids_path, events_data=e_list, event_id=event_id, overwrite=True)\n"
     ]
    },
    {
     "name": "stdout",
     "output_type": "stream",
     "text": [
      "Writing '/Users/nicolaspiron/Documents/Master_thesis/EEG/toBIDS/BIDS_data/sourcedata/sub-21/ses-01/sub-21_ses-01_scans.tsv'...\n",
      "Wrote /Users/nicolaspiron/Documents/Master_thesis/EEG/toBIDS/BIDS_data/sourcedata/sub-21/ses-01/sub-21_ses-01_scans.tsv entry with eeg/sub-21_ses-01_task-Alpheye_run-02_eeg.bdf.\n"
     ]
    }
   ],
   "source": [
    "bids_root = fr'/Users/nicolaspiron/Documents/Master_thesis/EEG/toBIDS/BIDS_data/sourcedata'\n",
    "for root, dirs, files in os.walk(origin_folder):\n",
    "     for file in files:\n",
    "        if file.endswith('.bdf'):\n",
    "            file = os.path.join(root, file)\n",
    "            basename = os.path.basename(file).split(\".\")[0]\n",
    "            #print(file)\n",
    "            prefix, task, suffix = basename.split('_')\n",
    "            subject = re.split('(\\d+)',prefix)[1] # split before digits \n",
    "            #print(subject)\n",
    "            print(task)\n",
    "            run = suffix.split('r')[1]\n",
    "            run =f\"{int(run):02d}\"\n",
    "            #print(run)\n",
    "            session = 1\n",
    "\n",
    "            bids_path = BIDSPath(subject=subject,\n",
    "                                 session =f\"{int(session):02d}\",\n",
    "                                 task=task,\n",
    "                                 run=run,\n",
    "                                 datatype='eeg',\n",
    "                                 root=bids_root)\n",
    "            raw = mne.io.read_raw_bdf(file)\n",
    "            e_list = mne.find_events(raw, stim_channel='Status', mask=0b11111111)\n",
    "            #annot = mne.annotations_from_events(e_list, raw.info['sfreq'])\n",
    "            #raw = raw.set_annotations(annot)\n",
    "            \n",
    "            if task == 'N2pc':\n",
    "\n",
    "                event_id = {'stim/dis_top/target_l':1, 'stim/dis_top/target_r':2,\n",
    "                            'stim/no_dis/target_l':3, 'stim/no_dis/target_r':4,\n",
    "                            'stim/dis_bot/target_l':5, 'stim/dis_bot/target_r':6,\n",
    "                            'stim/dis_right/target_l':7, 'stim/dis_left/target_r':8,\n",
    "                            'response/correct':128, 'response/incorrect':129,\n",
    "                    }\n",
    "\n",
    "            elif task == 'Alpheye':\n",
    "            \n",
    "                event_id = {'stim/Landscape':2, 'stim/Human':4, 'stim/question':10,\n",
    "                            'response/correct':128, 'response/incorrect':129}\n",
    "\n",
    "            write_raw_bids(raw, bids_path=bids_path, events_data=e_list, event_id=event_id, overwrite=True)             "
   ]
  },
  {
   "cell_type": "code",
   "execution_count": 8,
   "id": "e8473fd6",
   "metadata": {
    "scrolled": true
   },
   "outputs": [
    {
     "name": "stdout",
     "output_type": "stream",
     "text": [
      "Summarizing participants.tsv /Users/caroleguedj/Desktop/PULSATION_ANAL/ToBIDS/BIDS_data/sourcedata/participants.tsv...\n",
      "Summarizing scans.tsv files [PosixPath('/Users/caroleguedj/Desktop/PULSATION_ANAL/ToBIDS/BIDS_data/sourcedata/sub-21/ses-01/sub-21_ses-01_scans.tsv'), PosixPath('/Users/caroleguedj/Desktop/PULSATION_ANAL/ToBIDS/BIDS_data/sourcedata/sub-16/ses-01/sub-16_ses-01_scans.tsv'), PosixPath('/Users/caroleguedj/Desktop/PULSATION_ANAL/ToBIDS/BIDS_data/sourcedata/sub-02/ses-01/sub-02_ses-01_scans.tsv'), PosixPath('/Users/caroleguedj/Desktop/PULSATION_ANAL/ToBIDS/BIDS_data/sourcedata/sub-03/ses-01/sub-03_ses-01_scans.tsv')]...\n",
      "The participant template found: sex were all unknown;\n",
      "handedness were all unknown;\n",
      "ages all unknown\n",
      "This dataset was created by [Unspecified] and conforms to BIDS version 1.7.0.\n",
      "This report was generated with MNE-BIDS (https://doi.org/10.21105/joss.01896).\n",
      "The dataset consists of 4 participants (sex were all unknown; handedness were\n",
      "all unknown; ages all unknown) and 1 recording sessions: 01. Data was recorded\n",
      "using an EEG system (Biosemi) sampled at 1024.0 Hz with line noise at n/a Hz.\n",
      "There were 8 scans in total. Recording durations ranged from 559.0 to 644.0\n",
      "seconds (mean = 599.37, std = 26.77), for a total of 4794.99 seconds of data\n",
      "recorded over all scans. For each dataset, there were on average 73.0 (std =\n",
      "0.0) recording channels per scan, out of which 73.0 (std = 0.0) were used in\n",
      "analysis (0.0 +/- 0.0 were removed from analysis).\n"
     ]
    }
   ],
   "source": [
    "from mne_bids import make_report\n",
    "print(make_report(bids_root))"
   ]
  },
  {
   "cell_type": "code",
   "execution_count": null,
   "id": "6d806bbe",
   "metadata": {},
   "outputs": [],
   "source": []
  }
 ],
 "metadata": {
  "kernelspec": {
   "display_name": "Python [conda env:pulsation_proj]",
   "language": "python",
   "name": "conda-env-pulsation_proj-py"
  },
  "language_info": {
   "codemirror_mode": {
    "name": "ipython",
    "version": 3
   },
   "file_extension": ".py",
   "mimetype": "text/x-python",
   "name": "python",
   "nbconvert_exporter": "python",
   "pygments_lexer": "ipython3",
   "version": "3.8.15"
  }
 },
 "nbformat": 4,
 "nbformat_minor": 5
}
