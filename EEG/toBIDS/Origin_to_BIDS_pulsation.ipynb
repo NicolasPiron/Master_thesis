{
 "cells": [
  {
   "cell_type": "code",
   "execution_count": 1,
   "id": "72438399",
   "metadata": {},
   "outputs": [],
   "source": [
    "import os\n",
    "import re\n",
    "\n",
    "import mne\n",
    "from mne_bids import BIDSPath, write_raw_bids"
   ]
  },
  {
   "cell_type": "code",
   "execution_count": 2,
   "id": "7afdd4e3",
   "metadata": {},
   "outputs": [
    {
     "data": {
      "text/plain": [
       "['S16_N2pc_r2.bdf',\n",
       " 'P51_N2pc_r2.bdf',\n",
       " 'S03_N2pc_r1.bdf',\n",
       " 'S16_N2pc_r1.bdf',\n",
       " 'P51_N2pc_r1.bdf',\n",
       " 'S03_N2pc_r2.bdf',\n",
       " '.DS_Store',\n",
       " 'S13_N2pc_r1.bdf',\n",
       " 'P54_N2pc_r1.bdf',\n",
       " 'S06_N2pc_r2.bdf',\n",
       " 'S21_N2pc_r1.bdf',\n",
       " 'S13_N2pc_r2.bdf',\n",
       " 'P54_N2pc_r2.bdf',\n",
       " 'S06_N2pc_r1.bdf',\n",
       " 'S21_N2pc_r2.bdf',\n",
       " 'S19_N2pc_r1.bdf',\n",
       " 'S10_N2pc_r2.bdf',\n",
       " 'S19_N2pc_r2.bdf',\n",
       " 'S10_N2pc_r1.bdf',\n",
       " 'P52_N2pc_r1.bdf',\n",
       " 'S09_N2pc_r1.bdf',\n",
       " 'S15_N2pc_r1.bdf',\n",
       " 'P52_N2pc_r2.bdf',\n",
       " 'S09_N2pc_r2.bdf',\n",
       " 'S15_N2pc_r2.bdf',\n",
       " 'S07_N2pc_r1.bdf',\n",
       " 'P55_N2pc_r2.bdf',\n",
       " 'S20_N2pc_r2.bdf',\n",
       " 'S12_N2pc_r2.bdf',\n",
       " 'S07_N2pc_r2.bdf',\n",
       " 'P55_N2pc_r1.bdf',\n",
       " 'S20_N2pc_r1.bdf',\n",
       " 'S12_N2pc_r1.bdf',\n",
       " 'S02_N2pc_r2.bdf',\n",
       " 'S17_N2pc_r1.bdf',\n",
       " 'S02_N2pc_r1.bdf',\n",
       " 'S17_N2pc_r2.bdf',\n",
       " 'S14_N2pc_r2.bdf',\n",
       " 'S08_N2pc_r2.bdf',\n",
       " 'P53_N2pc_r2.bdf',\n",
       " 'S01_N2pc_r1.bdf',\n",
       " 'S14_N2pc_r1.bdf',\n",
       " 'S08_N2pc_r1.bdf',\n",
       " 'P53_N2pc_r1.bdf',\n",
       " 'S01_N2pc_r2.bdf',\n",
       " 'S11_N2pc_r1.bdf',\n",
       " 'S18_N2pc_r2.bdf',\n",
       " 'S04_N2pc_r2.bdf',\n",
       " 'S11_N2pc_r2.bdf',\n",
       " 'S18_N2pc_r1.bdf',\n",
       " 'S04_N2pc_r1.bdf']"
      ]
     },
     "execution_count": 2,
     "metadata": {},
     "output_type": "execute_result"
    }
   ],
   "source": [
    "origin_folder = fr'/Users/caroleguedj/Desktop/PULSATION_ANAL/ToBIDS/test'\n",
    "os.listdir(origin_folder)"
   ]
  },
  {
   "cell_type": "code",
   "execution_count": 15,
   "id": "a64c1056",
   "metadata": {},
   "outputs": [
    {
     "name": "stdout",
     "output_type": "stream",
     "text": [
      "N2pc\n",
      "Extracting EDF parameters from /Users/caroleguedj/Desktop/PULSATION_ANAL/ToBIDS/test/S16_N2pc_r2.bdf...\n",
      "BDF file detected\n",
      "Setting channel info structure...\n",
      "Creating raw.info structure...\n",
      "Trigger channel has a non-zero initial value of 65536 (consider using initial_event=True to detect this event)\n",
      "484 events found\n",
      "Event IDs: [  1   2   3   4   5   6   7   8 128 129]\n",
      "Extracting EDF parameters from /Users/caroleguedj/Desktop/PULSATION_ANAL/ToBIDS/test/S16_N2pc_r2.bdf...\n",
      "BDF file detected\n",
      "Setting channel info structure...\n",
      "Creating raw.info structure...\n",
      "Writing '/Users/caroleguedj/Desktop/PULSATION_ANAL/ToBIDS/BIDS_data/sourcedata/participants.tsv'...\n",
      "Writing '/Users/caroleguedj/Desktop/PULSATION_ANAL/ToBIDS/BIDS_data/sourcedata/participants.json'...\n",
      "Used Annotations descriptions: ['response/correct', 'response/incorrect', 'stim/dis_bot/target_l', 'stim/dis_bot/target_r', 'stim/dis_left/target_r', 'stim/dis_right/target_l', 'stim/dis_top/target_l', 'stim/dis_top/target_r', 'stim/no_dis/target_l', 'stim/no_dis/target_r']\n",
      "Writing '/Users/caroleguedj/Desktop/PULSATION_ANAL/ToBIDS/BIDS_data/sourcedata/sub-16/ses-01/eeg/sub-16_ses-01_task-N2pc_run-02_events.tsv'...\n",
      "Writing '/Users/caroleguedj/Desktop/PULSATION_ANAL/ToBIDS/BIDS_data/sourcedata/dataset_description.json'...\n",
      "Writing '/Users/caroleguedj/Desktop/PULSATION_ANAL/ToBIDS/BIDS_data/sourcedata/sub-16/ses-01/eeg/sub-16_ses-01_task-N2pc_run-02_eeg.json'...\n",
      "Writing '/Users/caroleguedj/Desktop/PULSATION_ANAL/ToBIDS/BIDS_data/sourcedata/sub-16/ses-01/eeg/sub-16_ses-01_task-N2pc_run-02_channels.tsv'...\n",
      "Copying data files to sub-16_ses-01_task-N2pc_run-02_eeg.bdf\n",
      "Reading 0 ... 572415  =      0.000 ...   558.999 secs...\n"
     ]
    },
    {
     "name": "stderr",
     "output_type": "stream",
     "text": [
      "/var/folders/0q/b_1qyqsd0371q_0fyfzg1jt80000gn/T/ipykernel_4621/3441845767.py:36: FutureWarning: The events_data parameter has been deprecated in favor the new events parameter, to ensure better consistency  with MNE-Python. The events_data parameter will be removed in MNE-BIDS 0.14. Please use the events parameter instead.\n",
      "  write_raw_bids(raw, bids_path=bids_path, events_data=e_list, event_id=event_id, overwrite=True)\n"
     ]
    },
    {
     "name": "stdout",
     "output_type": "stream",
     "text": [
      "Writing '/Users/caroleguedj/Desktop/PULSATION_ANAL/ToBIDS/BIDS_data/sourcedata/sub-16/ses-01/sub-16_ses-01_scans.tsv'...\n",
      "Wrote /Users/caroleguedj/Desktop/PULSATION_ANAL/ToBIDS/BIDS_data/sourcedata/sub-16/ses-01/sub-16_ses-01_scans.tsv entry with eeg/sub-16_ses-01_task-N2pc_run-02_eeg.bdf.\n",
      "N2pc\n",
      "Extracting EDF parameters from /Users/caroleguedj/Desktop/PULSATION_ANAL/ToBIDS/test/P51_N2pc_r2.bdf...\n",
      "BDF file detected\n",
      "Setting channel info structure...\n",
      "Creating raw.info structure...\n",
      "Trigger channel has a non-zero initial value of 65536 (consider using initial_event=True to detect this event)\n",
      "484 events found\n",
      "Event IDs: [  1   2   3   4   5   6   7   8 128 129]\n",
      "Extracting EDF parameters from /Users/caroleguedj/Desktop/PULSATION_ANAL/ToBIDS/test/P51_N2pc_r2.bdf...\n",
      "BDF file detected\n",
      "Setting channel info structure...\n",
      "Creating raw.info structure...\n",
      "Writing '/Users/caroleguedj/Desktop/PULSATION_ANAL/ToBIDS/BIDS_data/sourcedata/participants.tsv'...\n",
      "Writing '/Users/caroleguedj/Desktop/PULSATION_ANAL/ToBIDS/BIDS_data/sourcedata/participants.json'...\n",
      "Used Annotations descriptions: ['response/correct', 'response/incorrect', 'stim/dis_bot/target_l', 'stim/dis_bot/target_r', 'stim/dis_left/target_r', 'stim/dis_right/target_l', 'stim/dis_top/target_l', 'stim/dis_top/target_r', 'stim/no_dis/target_l', 'stim/no_dis/target_r']\n",
      "Writing '/Users/caroleguedj/Desktop/PULSATION_ANAL/ToBIDS/BIDS_data/sourcedata/sub-51/ses-01/eeg/sub-51_ses-01_task-N2pc_run-02_events.tsv'...\n",
      "Writing '/Users/caroleguedj/Desktop/PULSATION_ANAL/ToBIDS/BIDS_data/sourcedata/dataset_description.json'...\n",
      "Writing '/Users/caroleguedj/Desktop/PULSATION_ANAL/ToBIDS/BIDS_data/sourcedata/sub-51/ses-01/eeg/sub-51_ses-01_task-N2pc_run-02_eeg.json'...\n",
      "Writing '/Users/caroleguedj/Desktop/PULSATION_ANAL/ToBIDS/BIDS_data/sourcedata/sub-51/ses-01/eeg/sub-51_ses-01_task-N2pc_run-02_channels.tsv'...\n",
      "Copying data files to sub-51_ses-01_task-N2pc_run-02_eeg.bdf\n",
      "Reading 0 ... 633855  =      0.000 ...   618.999 secs...\n"
     ]
    },
    {
     "name": "stderr",
     "output_type": "stream",
     "text": [
      "/var/folders/0q/b_1qyqsd0371q_0fyfzg1jt80000gn/T/ipykernel_4621/3441845767.py:36: FutureWarning: The events_data parameter has been deprecated in favor the new events parameter, to ensure better consistency  with MNE-Python. The events_data parameter will be removed in MNE-BIDS 0.14. Please use the events parameter instead.\n",
      "  write_raw_bids(raw, bids_path=bids_path, events_data=e_list, event_id=event_id, overwrite=True)\n"
     ]
    },
    {
     "name": "stdout",
     "output_type": "stream",
     "text": [
      "Writing '/Users/caroleguedj/Desktop/PULSATION_ANAL/ToBIDS/BIDS_data/sourcedata/sub-51/ses-01/sub-51_ses-01_scans.tsv'...\n",
      "Wrote /Users/caroleguedj/Desktop/PULSATION_ANAL/ToBIDS/BIDS_data/sourcedata/sub-51/ses-01/sub-51_ses-01_scans.tsv entry with eeg/sub-51_ses-01_task-N2pc_run-02_eeg.bdf.\n",
      "N2pc\n",
      "Extracting EDF parameters from /Users/caroleguedj/Desktop/PULSATION_ANAL/ToBIDS/test/S03_N2pc_r1.bdf...\n",
      "BDF file detected\n",
      "Setting channel info structure...\n",
      "Creating raw.info structure...\n",
      "462 events found\n",
      "Event IDs: [  1   2   3   4   5   6   7   8 128 129]\n",
      "Extracting EDF parameters from /Users/caroleguedj/Desktop/PULSATION_ANAL/ToBIDS/test/S03_N2pc_r1.bdf...\n",
      "BDF file detected\n",
      "Setting channel info structure...\n",
      "Creating raw.info structure...\n",
      "Writing '/Users/caroleguedj/Desktop/PULSATION_ANAL/ToBIDS/BIDS_data/sourcedata/participants.tsv'...\n",
      "Writing '/Users/caroleguedj/Desktop/PULSATION_ANAL/ToBIDS/BIDS_data/sourcedata/participants.json'...\n",
      "Used Annotations descriptions: ['response/correct', 'response/incorrect', 'stim/dis_bot/target_l', 'stim/dis_bot/target_r', 'stim/dis_left/target_r', 'stim/dis_right/target_l', 'stim/dis_top/target_l', 'stim/dis_top/target_r', 'stim/no_dis/target_l', 'stim/no_dis/target_r']\n",
      "Writing '/Users/caroleguedj/Desktop/PULSATION_ANAL/ToBIDS/BIDS_data/sourcedata/sub-03/ses-01/eeg/sub-03_ses-01_task-N2pc_run-01_events.tsv'...\n",
      "Writing '/Users/caroleguedj/Desktop/PULSATION_ANAL/ToBIDS/BIDS_data/sourcedata/dataset_description.json'...\n",
      "Writing '/Users/caroleguedj/Desktop/PULSATION_ANAL/ToBIDS/BIDS_data/sourcedata/sub-03/ses-01/eeg/sub-03_ses-01_task-N2pc_run-01_eeg.json'...\n",
      "Writing '/Users/caroleguedj/Desktop/PULSATION_ANAL/ToBIDS/BIDS_data/sourcedata/sub-03/ses-01/eeg/sub-03_ses-01_task-N2pc_run-01_channels.tsv'...\n",
      "Copying data files to sub-03_ses-01_task-N2pc_run-01_eeg.bdf\n",
      "Reading 0 ... 635903  =      0.000 ...   620.999 secs...\n"
     ]
    },
    {
     "name": "stderr",
     "output_type": "stream",
     "text": [
      "/var/folders/0q/b_1qyqsd0371q_0fyfzg1jt80000gn/T/ipykernel_4621/3441845767.py:36: FutureWarning: The events_data parameter has been deprecated in favor the new events parameter, to ensure better consistency  with MNE-Python. The events_data parameter will be removed in MNE-BIDS 0.14. Please use the events parameter instead.\n",
      "  write_raw_bids(raw, bids_path=bids_path, events_data=e_list, event_id=event_id, overwrite=True)\n"
     ]
    },
    {
     "name": "stdout",
     "output_type": "stream",
     "text": [
      "Writing '/Users/caroleguedj/Desktop/PULSATION_ANAL/ToBIDS/BIDS_data/sourcedata/sub-03/ses-01/sub-03_ses-01_scans.tsv'...\n",
      "Wrote /Users/caroleguedj/Desktop/PULSATION_ANAL/ToBIDS/BIDS_data/sourcedata/sub-03/ses-01/sub-03_ses-01_scans.tsv entry with eeg/sub-03_ses-01_task-N2pc_run-01_eeg.bdf.\n",
      "N2pc\n",
      "Extracting EDF parameters from /Users/caroleguedj/Desktop/PULSATION_ANAL/ToBIDS/test/S16_N2pc_r1.bdf...\n",
      "BDF file detected\n",
      "Setting channel info structure...\n",
      "Creating raw.info structure...\n",
      "Trigger channel has a non-zero initial value of 65536 (consider using initial_event=True to detect this event)\n",
      "484 events found\n",
      "Event IDs: [  1   2   3   4   5   6   7   8 128 129]\n",
      "Extracting EDF parameters from /Users/caroleguedj/Desktop/PULSATION_ANAL/ToBIDS/test/S16_N2pc_r1.bdf...\n",
      "BDF file detected\n",
      "Setting channel info structure...\n",
      "Creating raw.info structure...\n",
      "Writing '/Users/caroleguedj/Desktop/PULSATION_ANAL/ToBIDS/BIDS_data/sourcedata/participants.tsv'...\n",
      "Writing '/Users/caroleguedj/Desktop/PULSATION_ANAL/ToBIDS/BIDS_data/sourcedata/participants.json'...\n",
      "Used Annotations descriptions: ['response/correct', 'response/incorrect', 'stim/dis_bot/target_l', 'stim/dis_bot/target_r', 'stim/dis_left/target_r', 'stim/dis_right/target_l', 'stim/dis_top/target_l', 'stim/dis_top/target_r', 'stim/no_dis/target_l', 'stim/no_dis/target_r']\n",
      "Writing '/Users/caroleguedj/Desktop/PULSATION_ANAL/ToBIDS/BIDS_data/sourcedata/sub-16/ses-01/eeg/sub-16_ses-01_task-N2pc_run-01_events.tsv'...\n",
      "Writing '/Users/caroleguedj/Desktop/PULSATION_ANAL/ToBIDS/BIDS_data/sourcedata/dataset_description.json'...\n",
      "Writing '/Users/caroleguedj/Desktop/PULSATION_ANAL/ToBIDS/BIDS_data/sourcedata/sub-16/ses-01/eeg/sub-16_ses-01_task-N2pc_run-01_eeg.json'...\n",
      "Writing '/Users/caroleguedj/Desktop/PULSATION_ANAL/ToBIDS/BIDS_data/sourcedata/sub-16/ses-01/eeg/sub-16_ses-01_task-N2pc_run-01_channels.tsv'...\n",
      "Copying data files to sub-16_ses-01_task-N2pc_run-01_eeg.bdf\n",
      "Reading 0 ... 601087  =      0.000 ...   586.999 secs...\n"
     ]
    },
    {
     "name": "stderr",
     "output_type": "stream",
     "text": [
      "/var/folders/0q/b_1qyqsd0371q_0fyfzg1jt80000gn/T/ipykernel_4621/3441845767.py:36: FutureWarning: The events_data parameter has been deprecated in favor the new events parameter, to ensure better consistency  with MNE-Python. The events_data parameter will be removed in MNE-BIDS 0.14. Please use the events parameter instead.\n",
      "  write_raw_bids(raw, bids_path=bids_path, events_data=e_list, event_id=event_id, overwrite=True)\n"
     ]
    },
    {
     "name": "stdout",
     "output_type": "stream",
     "text": [
      "Writing '/Users/caroleguedj/Desktop/PULSATION_ANAL/ToBIDS/BIDS_data/sourcedata/sub-16/ses-01/sub-16_ses-01_scans.tsv'...\n",
      "Wrote /Users/caroleguedj/Desktop/PULSATION_ANAL/ToBIDS/BIDS_data/sourcedata/sub-16/ses-01/sub-16_ses-01_scans.tsv entry with eeg/sub-16_ses-01_task-N2pc_run-01_eeg.bdf.\n",
      "N2pc\n",
      "Extracting EDF parameters from /Users/caroleguedj/Desktop/PULSATION_ANAL/ToBIDS/test/P51_N2pc_r1.bdf...\n",
      "BDF file detected\n",
      "Setting channel info structure...\n",
      "Creating raw.info structure...\n",
      "Trigger channel has a non-zero initial value of 65536 (consider using initial_event=True to detect this event)\n",
      "481 events found\n",
      "Event IDs: [  1   2   3   4   5   6   7   8 128 129]\n",
      "Extracting EDF parameters from /Users/caroleguedj/Desktop/PULSATION_ANAL/ToBIDS/test/P51_N2pc_r1.bdf...\n",
      "BDF file detected\n",
      "Setting channel info structure...\n",
      "Creating raw.info structure...\n",
      "Writing '/Users/caroleguedj/Desktop/PULSATION_ANAL/ToBIDS/BIDS_data/sourcedata/participants.tsv'...\n",
      "Writing '/Users/caroleguedj/Desktop/PULSATION_ANAL/ToBIDS/BIDS_data/sourcedata/participants.json'...\n",
      "Used Annotations descriptions: ['response/correct', 'response/incorrect', 'stim/dis_bot/target_l', 'stim/dis_bot/target_r', 'stim/dis_left/target_r', 'stim/dis_right/target_l', 'stim/dis_top/target_l', 'stim/dis_top/target_r', 'stim/no_dis/target_l', 'stim/no_dis/target_r']\n",
      "Writing '/Users/caroleguedj/Desktop/PULSATION_ANAL/ToBIDS/BIDS_data/sourcedata/sub-51/ses-01/eeg/sub-51_ses-01_task-N2pc_run-01_events.tsv'...\n",
      "Writing '/Users/caroleguedj/Desktop/PULSATION_ANAL/ToBIDS/BIDS_data/sourcedata/dataset_description.json'...\n",
      "Writing '/Users/caroleguedj/Desktop/PULSATION_ANAL/ToBIDS/BIDS_data/sourcedata/sub-51/ses-01/eeg/sub-51_ses-01_task-N2pc_run-01_eeg.json'...\n",
      "Writing '/Users/caroleguedj/Desktop/PULSATION_ANAL/ToBIDS/BIDS_data/sourcedata/sub-51/ses-01/eeg/sub-51_ses-01_task-N2pc_run-01_channels.tsv'...\n",
      "Copying data files to sub-51_ses-01_task-N2pc_run-01_eeg.bdf\n",
      "Reading 0 ... 690175  =      0.000 ...   673.999 secs...\n"
     ]
    },
    {
     "name": "stderr",
     "output_type": "stream",
     "text": [
      "/var/folders/0q/b_1qyqsd0371q_0fyfzg1jt80000gn/T/ipykernel_4621/3441845767.py:36: FutureWarning: The events_data parameter has been deprecated in favor the new events parameter, to ensure better consistency  with MNE-Python. The events_data parameter will be removed in MNE-BIDS 0.14. Please use the events parameter instead.\n",
      "  write_raw_bids(raw, bids_path=bids_path, events_data=e_list, event_id=event_id, overwrite=True)\n"
     ]
    },
    {
     "name": "stdout",
     "output_type": "stream",
     "text": [
      "Writing '/Users/caroleguedj/Desktop/PULSATION_ANAL/ToBIDS/BIDS_data/sourcedata/sub-51/ses-01/sub-51_ses-01_scans.tsv'...\n",
      "Wrote /Users/caroleguedj/Desktop/PULSATION_ANAL/ToBIDS/BIDS_data/sourcedata/sub-51/ses-01/sub-51_ses-01_scans.tsv entry with eeg/sub-51_ses-01_task-N2pc_run-01_eeg.bdf.\n",
      "N2pc\n",
      "Extracting EDF parameters from /Users/caroleguedj/Desktop/PULSATION_ANAL/ToBIDS/test/S03_N2pc_r2.bdf...\n",
      "BDF file detected\n",
      "Setting channel info structure...\n",
      "Creating raw.info structure...\n",
      "485 events found\n",
      "Event IDs: [  1   2   3   4   5   6   7   8 128 129]\n",
      "Extracting EDF parameters from /Users/caroleguedj/Desktop/PULSATION_ANAL/ToBIDS/test/S03_N2pc_r2.bdf...\n",
      "BDF file detected\n",
      "Setting channel info structure...\n",
      "Creating raw.info structure...\n",
      "Writing '/Users/caroleguedj/Desktop/PULSATION_ANAL/ToBIDS/BIDS_data/sourcedata/participants.tsv'...\n",
      "Writing '/Users/caroleguedj/Desktop/PULSATION_ANAL/ToBIDS/BIDS_data/sourcedata/participants.json'...\n",
      "Used Annotations descriptions: ['response/correct', 'response/incorrect', 'stim/dis_bot/target_l', 'stim/dis_bot/target_r', 'stim/dis_left/target_r', 'stim/dis_right/target_l', 'stim/dis_top/target_l', 'stim/dis_top/target_r', 'stim/no_dis/target_l', 'stim/no_dis/target_r']\n",
      "Writing '/Users/caroleguedj/Desktop/PULSATION_ANAL/ToBIDS/BIDS_data/sourcedata/sub-03/ses-01/eeg/sub-03_ses-01_task-N2pc_run-02_events.tsv'...\n",
      "Writing '/Users/caroleguedj/Desktop/PULSATION_ANAL/ToBIDS/BIDS_data/sourcedata/dataset_description.json'...\n",
      "Writing '/Users/caroleguedj/Desktop/PULSATION_ANAL/ToBIDS/BIDS_data/sourcedata/sub-03/ses-01/eeg/sub-03_ses-01_task-N2pc_run-02_eeg.json'...\n",
      "Writing '/Users/caroleguedj/Desktop/PULSATION_ANAL/ToBIDS/BIDS_data/sourcedata/sub-03/ses-01/eeg/sub-03_ses-01_task-N2pc_run-02_channels.tsv'...\n",
      "Copying data files to sub-03_ses-01_task-N2pc_run-02_eeg.bdf\n",
      "Reading 0 ... 659455  =      0.000 ...   643.999 secs...\n"
     ]
    },
    {
     "name": "stderr",
     "output_type": "stream",
     "text": [
      "/var/folders/0q/b_1qyqsd0371q_0fyfzg1jt80000gn/T/ipykernel_4621/3441845767.py:36: FutureWarning: The events_data parameter has been deprecated in favor the new events parameter, to ensure better consistency  with MNE-Python. The events_data parameter will be removed in MNE-BIDS 0.14. Please use the events parameter instead.\n",
      "  write_raw_bids(raw, bids_path=bids_path, events_data=e_list, event_id=event_id, overwrite=True)\n"
     ]
    },
    {
     "name": "stdout",
     "output_type": "stream",
     "text": [
      "Writing '/Users/caroleguedj/Desktop/PULSATION_ANAL/ToBIDS/BIDS_data/sourcedata/sub-03/ses-01/sub-03_ses-01_scans.tsv'...\n",
      "Wrote /Users/caroleguedj/Desktop/PULSATION_ANAL/ToBIDS/BIDS_data/sourcedata/sub-03/ses-01/sub-03_ses-01_scans.tsv entry with eeg/sub-03_ses-01_task-N2pc_run-02_eeg.bdf.\n",
      "N2pc\n",
      "Extracting EDF parameters from /Users/caroleguedj/Desktop/PULSATION_ANAL/ToBIDS/test/S13_N2pc_r1.bdf...\n",
      "BDF file detected\n",
      "Setting channel info structure...\n",
      "Creating raw.info structure...\n",
      "Trigger channel has a non-zero initial value of 65536 (consider using initial_event=True to detect this event)\n",
      "452 events found\n",
      "Event IDs: [  1   2   3   4   5   6   7   8 128 129]\n",
      "Extracting EDF parameters from /Users/caroleguedj/Desktop/PULSATION_ANAL/ToBIDS/test/S13_N2pc_r1.bdf...\n",
      "BDF file detected\n",
      "Setting channel info structure...\n",
      "Creating raw.info structure...\n",
      "Writing '/Users/caroleguedj/Desktop/PULSATION_ANAL/ToBIDS/BIDS_data/sourcedata/participants.tsv'...\n",
      "Writing '/Users/caroleguedj/Desktop/PULSATION_ANAL/ToBIDS/BIDS_data/sourcedata/participants.json'...\n",
      "Used Annotations descriptions: ['response/correct', 'response/incorrect', 'stim/dis_bot/target_l', 'stim/dis_bot/target_r', 'stim/dis_left/target_r', 'stim/dis_right/target_l', 'stim/dis_top/target_l', 'stim/dis_top/target_r', 'stim/no_dis/target_l', 'stim/no_dis/target_r']\n",
      "Writing '/Users/caroleguedj/Desktop/PULSATION_ANAL/ToBIDS/BIDS_data/sourcedata/sub-13/ses-01/eeg/sub-13_ses-01_task-N2pc_run-01_events.tsv'...\n",
      "Writing '/Users/caroleguedj/Desktop/PULSATION_ANAL/ToBIDS/BIDS_data/sourcedata/dataset_description.json'...\n",
      "Writing '/Users/caroleguedj/Desktop/PULSATION_ANAL/ToBIDS/BIDS_data/sourcedata/sub-13/ses-01/eeg/sub-13_ses-01_task-N2pc_run-01_eeg.json'...\n",
      "Writing '/Users/caroleguedj/Desktop/PULSATION_ANAL/ToBIDS/BIDS_data/sourcedata/sub-13/ses-01/eeg/sub-13_ses-01_task-N2pc_run-01_channels.tsv'...\n",
      "Copying data files to sub-13_ses-01_task-N2pc_run-01_eeg.bdf\n",
      "Reading 0 ... 572415  =      0.000 ...   558.999 secs...\n"
     ]
    },
    {
     "name": "stderr",
     "output_type": "stream",
     "text": [
      "/var/folders/0q/b_1qyqsd0371q_0fyfzg1jt80000gn/T/ipykernel_4621/3441845767.py:36: FutureWarning: The events_data parameter has been deprecated in favor the new events parameter, to ensure better consistency  with MNE-Python. The events_data parameter will be removed in MNE-BIDS 0.14. Please use the events parameter instead.\n",
      "  write_raw_bids(raw, bids_path=bids_path, events_data=e_list, event_id=event_id, overwrite=True)\n"
     ]
    },
    {
     "name": "stdout",
     "output_type": "stream",
     "text": [
      "Writing '/Users/caroleguedj/Desktop/PULSATION_ANAL/ToBIDS/BIDS_data/sourcedata/sub-13/ses-01/sub-13_ses-01_scans.tsv'...\n",
      "Wrote /Users/caroleguedj/Desktop/PULSATION_ANAL/ToBIDS/BIDS_data/sourcedata/sub-13/ses-01/sub-13_ses-01_scans.tsv entry with eeg/sub-13_ses-01_task-N2pc_run-01_eeg.bdf.\n",
      "N2pc\n",
      "Extracting EDF parameters from /Users/caroleguedj/Desktop/PULSATION_ANAL/ToBIDS/test/P54_N2pc_r1.bdf...\n",
      "BDF file detected\n",
      "Setting channel info structure...\n",
      "Creating raw.info structure...\n",
      "Trigger channel has a non-zero initial value of 65540 (consider using initial_event=True to detect this event)\n",
      "Removing orphaned offset at the beginning of the file.\n",
      "484 events found\n",
      "Event IDs: [  1   2   3   4   5   6   7   8 128 129]\n",
      "Extracting EDF parameters from /Users/caroleguedj/Desktop/PULSATION_ANAL/ToBIDS/test/P54_N2pc_r1.bdf...\n",
      "BDF file detected\n",
      "Setting channel info structure...\n",
      "Creating raw.info structure...\n",
      "Writing '/Users/caroleguedj/Desktop/PULSATION_ANAL/ToBIDS/BIDS_data/sourcedata/participants.tsv'...\n",
      "Writing '/Users/caroleguedj/Desktop/PULSATION_ANAL/ToBIDS/BIDS_data/sourcedata/participants.json'...\n",
      "Used Annotations descriptions: ['response/correct', 'response/incorrect', 'stim/dis_bot/target_l', 'stim/dis_bot/target_r', 'stim/dis_left/target_r', 'stim/dis_right/target_l', 'stim/dis_top/target_l', 'stim/dis_top/target_r', 'stim/no_dis/target_l', 'stim/no_dis/target_r']\n",
      "Writing '/Users/caroleguedj/Desktop/PULSATION_ANAL/ToBIDS/BIDS_data/sourcedata/sub-54/ses-01/eeg/sub-54_ses-01_task-N2pc_run-01_events.tsv'...\n",
      "Writing '/Users/caroleguedj/Desktop/PULSATION_ANAL/ToBIDS/BIDS_data/sourcedata/dataset_description.json'...\n",
      "Writing '/Users/caroleguedj/Desktop/PULSATION_ANAL/ToBIDS/BIDS_data/sourcedata/sub-54/ses-01/eeg/sub-54_ses-01_task-N2pc_run-01_eeg.json'...\n",
      "Writing '/Users/caroleguedj/Desktop/PULSATION_ANAL/ToBIDS/BIDS_data/sourcedata/sub-54/ses-01/eeg/sub-54_ses-01_task-N2pc_run-01_channels.tsv'...\n",
      "Copying data files to sub-54_ses-01_task-N2pc_run-01_eeg.bdf\n",
      "Reading 0 ... 612351  =      0.000 ...   597.999 secs...\n"
     ]
    },
    {
     "name": "stderr",
     "output_type": "stream",
     "text": [
      "/var/folders/0q/b_1qyqsd0371q_0fyfzg1jt80000gn/T/ipykernel_4621/3441845767.py:36: FutureWarning: The events_data parameter has been deprecated in favor the new events parameter, to ensure better consistency  with MNE-Python. The events_data parameter will be removed in MNE-BIDS 0.14. Please use the events parameter instead.\n",
      "  write_raw_bids(raw, bids_path=bids_path, events_data=e_list, event_id=event_id, overwrite=True)\n"
     ]
    },
    {
     "name": "stdout",
     "output_type": "stream",
     "text": [
      "Writing '/Users/caroleguedj/Desktop/PULSATION_ANAL/ToBIDS/BIDS_data/sourcedata/sub-54/ses-01/sub-54_ses-01_scans.tsv'...\n",
      "Wrote /Users/caroleguedj/Desktop/PULSATION_ANAL/ToBIDS/BIDS_data/sourcedata/sub-54/ses-01/sub-54_ses-01_scans.tsv entry with eeg/sub-54_ses-01_task-N2pc_run-01_eeg.bdf.\n",
      "N2pc\n",
      "Extracting EDF parameters from /Users/caroleguedj/Desktop/PULSATION_ANAL/ToBIDS/test/S06_N2pc_r2.bdf...\n",
      "BDF file detected\n",
      "Setting channel info structure...\n",
      "Creating raw.info structure...\n",
      "Trigger channel has a non-zero initial value of 65536 (consider using initial_event=True to detect this event)\n",
      "483 events found\n",
      "Event IDs: [  1   2   3   4   5   6   7   8 128]\n",
      "Extracting EDF parameters from /Users/caroleguedj/Desktop/PULSATION_ANAL/ToBIDS/test/S06_N2pc_r2.bdf...\n",
      "BDF file detected\n",
      "Setting channel info structure...\n",
      "Creating raw.info structure...\n",
      "Writing '/Users/caroleguedj/Desktop/PULSATION_ANAL/ToBIDS/BIDS_data/sourcedata/participants.tsv'...\n",
      "Writing '/Users/caroleguedj/Desktop/PULSATION_ANAL/ToBIDS/BIDS_data/sourcedata/participants.json'...\n",
      "Used Annotations descriptions: ['response/correct', 'stim/dis_bot/target_l', 'stim/dis_bot/target_r', 'stim/dis_left/target_r', 'stim/dis_right/target_l', 'stim/dis_top/target_l', 'stim/dis_top/target_r', 'stim/no_dis/target_l', 'stim/no_dis/target_r']\n",
      "Writing '/Users/caroleguedj/Desktop/PULSATION_ANAL/ToBIDS/BIDS_data/sourcedata/sub-06/ses-01/eeg/sub-06_ses-01_task-N2pc_run-02_events.tsv'...\n",
      "Writing '/Users/caroleguedj/Desktop/PULSATION_ANAL/ToBIDS/BIDS_data/sourcedata/dataset_description.json'...\n",
      "Writing '/Users/caroleguedj/Desktop/PULSATION_ANAL/ToBIDS/BIDS_data/sourcedata/sub-06/ses-01/eeg/sub-06_ses-01_task-N2pc_run-02_eeg.json'...\n",
      "Writing '/Users/caroleguedj/Desktop/PULSATION_ANAL/ToBIDS/BIDS_data/sourcedata/sub-06/ses-01/eeg/sub-06_ses-01_task-N2pc_run-02_channels.tsv'...\n",
      "Copying data files to sub-06_ses-01_task-N2pc_run-02_eeg.bdf\n",
      "Reading 0 ... 581631  =      0.000 ...   567.999 secs...\n"
     ]
    },
    {
     "name": "stderr",
     "output_type": "stream",
     "text": [
      "/var/folders/0q/b_1qyqsd0371q_0fyfzg1jt80000gn/T/ipykernel_4621/3441845767.py:36: FutureWarning: The events_data parameter has been deprecated in favor the new events parameter, to ensure better consistency  with MNE-Python. The events_data parameter will be removed in MNE-BIDS 0.14. Please use the events parameter instead.\n",
      "  write_raw_bids(raw, bids_path=bids_path, events_data=e_list, event_id=event_id, overwrite=True)\n"
     ]
    },
    {
     "name": "stdout",
     "output_type": "stream",
     "text": [
      "Writing '/Users/caroleguedj/Desktop/PULSATION_ANAL/ToBIDS/BIDS_data/sourcedata/sub-06/ses-01/sub-06_ses-01_scans.tsv'...\n",
      "Wrote /Users/caroleguedj/Desktop/PULSATION_ANAL/ToBIDS/BIDS_data/sourcedata/sub-06/ses-01/sub-06_ses-01_scans.tsv entry with eeg/sub-06_ses-01_task-N2pc_run-02_eeg.bdf.\n",
      "N2pc\n",
      "Extracting EDF parameters from /Users/caroleguedj/Desktop/PULSATION_ANAL/ToBIDS/test/S21_N2pc_r1.bdf...\n",
      "BDF file detected\n",
      "Setting channel info structure...\n",
      "Creating raw.info structure...\n",
      "Trigger channel has a non-zero initial value of 65536 (consider using initial_event=True to detect this event)\n",
      "484 events found\n",
      "Event IDs: [  1   2   3   4   5   6   7   8 128]\n",
      "Extracting EDF parameters from /Users/caroleguedj/Desktop/PULSATION_ANAL/ToBIDS/test/S21_N2pc_r1.bdf...\n",
      "BDF file detected\n",
      "Setting channel info structure...\n",
      "Creating raw.info structure...\n",
      "Writing '/Users/caroleguedj/Desktop/PULSATION_ANAL/ToBIDS/BIDS_data/sourcedata/participants.tsv'...\n",
      "Writing '/Users/caroleguedj/Desktop/PULSATION_ANAL/ToBIDS/BIDS_data/sourcedata/participants.json'...\n",
      "Used Annotations descriptions: ['response/correct', 'stim/dis_bot/target_l', 'stim/dis_bot/target_r', 'stim/dis_left/target_r', 'stim/dis_right/target_l', 'stim/dis_top/target_l', 'stim/dis_top/target_r', 'stim/no_dis/target_l', 'stim/no_dis/target_r']\n",
      "Writing '/Users/caroleguedj/Desktop/PULSATION_ANAL/ToBIDS/BIDS_data/sourcedata/sub-21/ses-01/eeg/sub-21_ses-01_task-N2pc_run-01_events.tsv'...\n",
      "Writing '/Users/caroleguedj/Desktop/PULSATION_ANAL/ToBIDS/BIDS_data/sourcedata/dataset_description.json'...\n",
      "Writing '/Users/caroleguedj/Desktop/PULSATION_ANAL/ToBIDS/BIDS_data/sourcedata/sub-21/ses-01/eeg/sub-21_ses-01_task-N2pc_run-01_eeg.json'...\n",
      "Writing '/Users/caroleguedj/Desktop/PULSATION_ANAL/ToBIDS/BIDS_data/sourcedata/sub-21/ses-01/eeg/sub-21_ses-01_task-N2pc_run-01_channels.tsv'...\n",
      "Copying data files to sub-21_ses-01_task-N2pc_run-01_eeg.bdf\n",
      "Reading 0 ... 612351  =      0.000 ...   597.999 secs...\n"
     ]
    },
    {
     "name": "stderr",
     "output_type": "stream",
     "text": [
      "/var/folders/0q/b_1qyqsd0371q_0fyfzg1jt80000gn/T/ipykernel_4621/3441845767.py:36: FutureWarning: The events_data parameter has been deprecated in favor the new events parameter, to ensure better consistency  with MNE-Python. The events_data parameter will be removed in MNE-BIDS 0.14. Please use the events parameter instead.\n",
      "  write_raw_bids(raw, bids_path=bids_path, events_data=e_list, event_id=event_id, overwrite=True)\n"
     ]
    },
    {
     "name": "stdout",
     "output_type": "stream",
     "text": [
      "Writing '/Users/caroleguedj/Desktop/PULSATION_ANAL/ToBIDS/BIDS_data/sourcedata/sub-21/ses-01/sub-21_ses-01_scans.tsv'...\n",
      "Wrote /Users/caroleguedj/Desktop/PULSATION_ANAL/ToBIDS/BIDS_data/sourcedata/sub-21/ses-01/sub-21_ses-01_scans.tsv entry with eeg/sub-21_ses-01_task-N2pc_run-01_eeg.bdf.\n",
      "N2pc\n",
      "Extracting EDF parameters from /Users/caroleguedj/Desktop/PULSATION_ANAL/ToBIDS/test/S13_N2pc_r2.bdf...\n",
      "BDF file detected\n",
      "Setting channel info structure...\n",
      "Creating raw.info structure...\n",
      "Trigger channel has a non-zero initial value of 65536 (consider using initial_event=True to detect this event)\n",
      "485 events found\n",
      "Event IDs: [  1   2   3   4   5   6   7   8 128]\n",
      "Extracting EDF parameters from /Users/caroleguedj/Desktop/PULSATION_ANAL/ToBIDS/test/S13_N2pc_r2.bdf...\n",
      "BDF file detected\n",
      "Setting channel info structure...\n",
      "Creating raw.info structure...\n",
      "Writing '/Users/caroleguedj/Desktop/PULSATION_ANAL/ToBIDS/BIDS_data/sourcedata/participants.tsv'...\n",
      "Writing '/Users/caroleguedj/Desktop/PULSATION_ANAL/ToBIDS/BIDS_data/sourcedata/participants.json'...\n",
      "Used Annotations descriptions: ['response/correct', 'stim/dis_bot/target_l', 'stim/dis_bot/target_r', 'stim/dis_left/target_r', 'stim/dis_right/target_l', 'stim/dis_top/target_l', 'stim/dis_top/target_r', 'stim/no_dis/target_l', 'stim/no_dis/target_r']\n",
      "Writing '/Users/caroleguedj/Desktop/PULSATION_ANAL/ToBIDS/BIDS_data/sourcedata/sub-13/ses-01/eeg/sub-13_ses-01_task-N2pc_run-02_events.tsv'...\n",
      "Writing '/Users/caroleguedj/Desktop/PULSATION_ANAL/ToBIDS/BIDS_data/sourcedata/dataset_description.json'...\n",
      "Writing '/Users/caroleguedj/Desktop/PULSATION_ANAL/ToBIDS/BIDS_data/sourcedata/sub-13/ses-01/eeg/sub-13_ses-01_task-N2pc_run-02_eeg.json'...\n",
      "Writing '/Users/caroleguedj/Desktop/PULSATION_ANAL/ToBIDS/BIDS_data/sourcedata/sub-13/ses-01/eeg/sub-13_ses-01_task-N2pc_run-02_channels.tsv'...\n",
      "Copying data files to sub-13_ses-01_task-N2pc_run-02_eeg.bdf\n"
     ]
    },
    {
     "name": "stderr",
     "output_type": "stream",
     "text": [
      "/var/folders/0q/b_1qyqsd0371q_0fyfzg1jt80000gn/T/ipykernel_4621/3441845767.py:36: FutureWarning: The events_data parameter has been deprecated in favor the new events parameter, to ensure better consistency  with MNE-Python. The events_data parameter will be removed in MNE-BIDS 0.14. Please use the events parameter instead.\n",
      "  write_raw_bids(raw, bids_path=bids_path, events_data=e_list, event_id=event_id, overwrite=True)\n"
     ]
    },
    {
     "name": "stdout",
     "output_type": "stream",
     "text": [
      "Writing '/Users/caroleguedj/Desktop/PULSATION_ANAL/ToBIDS/BIDS_data/sourcedata/sub-13/ses-01/sub-13_ses-01_scans.tsv'...\n",
      "Wrote /Users/caroleguedj/Desktop/PULSATION_ANAL/ToBIDS/BIDS_data/sourcedata/sub-13/ses-01/sub-13_ses-01_scans.tsv entry with eeg/sub-13_ses-01_task-N2pc_run-02_eeg.bdf.\n",
      "N2pc\n",
      "Extracting EDF parameters from /Users/caroleguedj/Desktop/PULSATION_ANAL/ToBIDS/test/P54_N2pc_r2.bdf...\n",
      "BDF file detected\n",
      "Setting channel info structure...\n",
      "Creating raw.info structure...\n",
      "Trigger channel has a non-zero initial value of 65536 (consider using initial_event=True to detect this event)\n",
      "485 events found\n",
      "Event IDs: [  1   2   3   4   5   6   7   8 128 129]\n",
      "Extracting EDF parameters from /Users/caroleguedj/Desktop/PULSATION_ANAL/ToBIDS/test/P54_N2pc_r2.bdf...\n",
      "BDF file detected\n",
      "Setting channel info structure...\n",
      "Creating raw.info structure...\n",
      "Writing '/Users/caroleguedj/Desktop/PULSATION_ANAL/ToBIDS/BIDS_data/sourcedata/participants.tsv'...\n",
      "Writing '/Users/caroleguedj/Desktop/PULSATION_ANAL/ToBIDS/BIDS_data/sourcedata/participants.json'...\n",
      "Used Annotations descriptions: ['response/correct', 'response/incorrect', 'stim/dis_bot/target_l', 'stim/dis_bot/target_r', 'stim/dis_left/target_r', 'stim/dis_right/target_l', 'stim/dis_top/target_l', 'stim/dis_top/target_r', 'stim/no_dis/target_l', 'stim/no_dis/target_r']\n",
      "Writing '/Users/caroleguedj/Desktop/PULSATION_ANAL/ToBIDS/BIDS_data/sourcedata/sub-54/ses-01/eeg/sub-54_ses-01_task-N2pc_run-02_events.tsv'...\n",
      "Writing '/Users/caroleguedj/Desktop/PULSATION_ANAL/ToBIDS/BIDS_data/sourcedata/dataset_description.json'...\n",
      "Writing '/Users/caroleguedj/Desktop/PULSATION_ANAL/ToBIDS/BIDS_data/sourcedata/sub-54/ses-01/eeg/sub-54_ses-01_task-N2pc_run-02_eeg.json'...\n",
      "Writing '/Users/caroleguedj/Desktop/PULSATION_ANAL/ToBIDS/BIDS_data/sourcedata/sub-54/ses-01/eeg/sub-54_ses-01_task-N2pc_run-02_channels.tsv'...\n",
      "Copying data files to sub-54_ses-01_task-N2pc_run-02_eeg.bdf\n"
     ]
    },
    {
     "name": "stderr",
     "output_type": "stream",
     "text": [
      "/var/folders/0q/b_1qyqsd0371q_0fyfzg1jt80000gn/T/ipykernel_4621/3441845767.py:36: FutureWarning: The events_data parameter has been deprecated in favor the new events parameter, to ensure better consistency  with MNE-Python. The events_data parameter will be removed in MNE-BIDS 0.14. Please use the events parameter instead.\n",
      "  write_raw_bids(raw, bids_path=bids_path, events_data=e_list, event_id=event_id, overwrite=True)\n"
     ]
    },
    {
     "name": "stdout",
     "output_type": "stream",
     "text": [
      "Writing '/Users/caroleguedj/Desktop/PULSATION_ANAL/ToBIDS/BIDS_data/sourcedata/sub-54/ses-01/sub-54_ses-01_scans.tsv'...\n",
      "Wrote /Users/caroleguedj/Desktop/PULSATION_ANAL/ToBIDS/BIDS_data/sourcedata/sub-54/ses-01/sub-54_ses-01_scans.tsv entry with eeg/sub-54_ses-01_task-N2pc_run-02_eeg.bdf.\n",
      "N2pc\n",
      "Extracting EDF parameters from /Users/caroleguedj/Desktop/PULSATION_ANAL/ToBIDS/test/S06_N2pc_r1.bdf...\n",
      "BDF file detected\n",
      "Setting channel info structure...\n",
      "Creating raw.info structure...\n",
      "Trigger channel has a non-zero initial value of 65536 (consider using initial_event=True to detect this event)\n",
      "484 events found\n",
      "Event IDs: [  1   2   3   4   5   6   7   8 128]\n",
      "Extracting EDF parameters from /Users/caroleguedj/Desktop/PULSATION_ANAL/ToBIDS/test/S06_N2pc_r1.bdf...\n",
      "BDF file detected\n",
      "Setting channel info structure...\n",
      "Creating raw.info structure...\n",
      "Writing '/Users/caroleguedj/Desktop/PULSATION_ANAL/ToBIDS/BIDS_data/sourcedata/participants.tsv'...\n",
      "Writing '/Users/caroleguedj/Desktop/PULSATION_ANAL/ToBIDS/BIDS_data/sourcedata/participants.json'...\n",
      "Used Annotations descriptions: ['response/correct', 'stim/dis_bot/target_l', 'stim/dis_bot/target_r', 'stim/dis_left/target_r', 'stim/dis_right/target_l', 'stim/dis_top/target_l', 'stim/dis_top/target_r', 'stim/no_dis/target_l', 'stim/no_dis/target_r']\n",
      "Writing '/Users/caroleguedj/Desktop/PULSATION_ANAL/ToBIDS/BIDS_data/sourcedata/sub-06/ses-01/eeg/sub-06_ses-01_task-N2pc_run-01_events.tsv'...\n",
      "Writing '/Users/caroleguedj/Desktop/PULSATION_ANAL/ToBIDS/BIDS_data/sourcedata/dataset_description.json'...\n",
      "Writing '/Users/caroleguedj/Desktop/PULSATION_ANAL/ToBIDS/BIDS_data/sourcedata/sub-06/ses-01/eeg/sub-06_ses-01_task-N2pc_run-01_eeg.json'...\n",
      "Writing '/Users/caroleguedj/Desktop/PULSATION_ANAL/ToBIDS/BIDS_data/sourcedata/sub-06/ses-01/eeg/sub-06_ses-01_task-N2pc_run-01_channels.tsv'...\n",
      "Copying data files to sub-06_ses-01_task-N2pc_run-01_eeg.bdf\n"
     ]
    },
    {
     "name": "stderr",
     "output_type": "stream",
     "text": [
      "/var/folders/0q/b_1qyqsd0371q_0fyfzg1jt80000gn/T/ipykernel_4621/3441845767.py:36: FutureWarning: The events_data parameter has been deprecated in favor the new events parameter, to ensure better consistency  with MNE-Python. The events_data parameter will be removed in MNE-BIDS 0.14. Please use the events parameter instead.\n",
      "  write_raw_bids(raw, bids_path=bids_path, events_data=e_list, event_id=event_id, overwrite=True)\n"
     ]
    },
    {
     "name": "stdout",
     "output_type": "stream",
     "text": [
      "Writing '/Users/caroleguedj/Desktop/PULSATION_ANAL/ToBIDS/BIDS_data/sourcedata/sub-06/ses-01/sub-06_ses-01_scans.tsv'...\n",
      "Wrote /Users/caroleguedj/Desktop/PULSATION_ANAL/ToBIDS/BIDS_data/sourcedata/sub-06/ses-01/sub-06_ses-01_scans.tsv entry with eeg/sub-06_ses-01_task-N2pc_run-01_eeg.bdf.\n",
      "N2pc\n",
      "Extracting EDF parameters from /Users/caroleguedj/Desktop/PULSATION_ANAL/ToBIDS/test/S21_N2pc_r2.bdf...\n",
      "BDF file detected\n",
      "Setting channel info structure...\n",
      "Creating raw.info structure...\n",
      "Trigger channel has a non-zero initial value of 65536 (consider using initial_event=True to detect this event)\n",
      "484 events found\n",
      "Event IDs: [  1   2   3   4   5   6   7   8 128]\n",
      "Extracting EDF parameters from /Users/caroleguedj/Desktop/PULSATION_ANAL/ToBIDS/test/S21_N2pc_r2.bdf...\n",
      "BDF file detected\n",
      "Setting channel info structure...\n",
      "Creating raw.info structure...\n",
      "Writing '/Users/caroleguedj/Desktop/PULSATION_ANAL/ToBIDS/BIDS_data/sourcedata/participants.tsv'...\n",
      "Writing '/Users/caroleguedj/Desktop/PULSATION_ANAL/ToBIDS/BIDS_data/sourcedata/participants.json'...\n",
      "Used Annotations descriptions: ['response/correct', 'stim/dis_bot/target_l', 'stim/dis_bot/target_r', 'stim/dis_left/target_r', 'stim/dis_right/target_l', 'stim/dis_top/target_l', 'stim/dis_top/target_r', 'stim/no_dis/target_l', 'stim/no_dis/target_r']\n",
      "Writing '/Users/caroleguedj/Desktop/PULSATION_ANAL/ToBIDS/BIDS_data/sourcedata/sub-21/ses-01/eeg/sub-21_ses-01_task-N2pc_run-02_events.tsv'...\n",
      "Writing '/Users/caroleguedj/Desktop/PULSATION_ANAL/ToBIDS/BIDS_data/sourcedata/dataset_description.json'...\n",
      "Writing '/Users/caroleguedj/Desktop/PULSATION_ANAL/ToBIDS/BIDS_data/sourcedata/sub-21/ses-01/eeg/sub-21_ses-01_task-N2pc_run-02_eeg.json'...\n",
      "Writing '/Users/caroleguedj/Desktop/PULSATION_ANAL/ToBIDS/BIDS_data/sourcedata/sub-21/ses-01/eeg/sub-21_ses-01_task-N2pc_run-02_channels.tsv'...\n",
      "Copying data files to sub-21_ses-01_task-N2pc_run-02_eeg.bdf\n"
     ]
    },
    {
     "name": "stderr",
     "output_type": "stream",
     "text": [
      "/var/folders/0q/b_1qyqsd0371q_0fyfzg1jt80000gn/T/ipykernel_4621/3441845767.py:36: FutureWarning: The events_data parameter has been deprecated in favor the new events parameter, to ensure better consistency  with MNE-Python. The events_data parameter will be removed in MNE-BIDS 0.14. Please use the events parameter instead.\n",
      "  write_raw_bids(raw, bids_path=bids_path, events_data=e_list, event_id=event_id, overwrite=True)\n"
     ]
    },
    {
     "name": "stdout",
     "output_type": "stream",
     "text": [
      "Writing '/Users/caroleguedj/Desktop/PULSATION_ANAL/ToBIDS/BIDS_data/sourcedata/sub-21/ses-01/sub-21_ses-01_scans.tsv'...\n",
      "Wrote /Users/caroleguedj/Desktop/PULSATION_ANAL/ToBIDS/BIDS_data/sourcedata/sub-21/ses-01/sub-21_ses-01_scans.tsv entry with eeg/sub-21_ses-01_task-N2pc_run-02_eeg.bdf.\n",
      "N2pc\n",
      "Extracting EDF parameters from /Users/caroleguedj/Desktop/PULSATION_ANAL/ToBIDS/test/S19_N2pc_r1.bdf...\n",
      "BDF file detected\n",
      "Setting channel info structure...\n",
      "Creating raw.info structure...\n",
      "Trigger channel has a non-zero initial value of 65536 (consider using initial_event=True to detect this event)\n",
      "484 events found\n",
      "Event IDs: [  1   2   3   4   5   6   7   8 128]\n",
      "Extracting EDF parameters from /Users/caroleguedj/Desktop/PULSATION_ANAL/ToBIDS/test/S19_N2pc_r1.bdf...\n",
      "BDF file detected\n",
      "Setting channel info structure...\n",
      "Creating raw.info structure...\n",
      "Writing '/Users/caroleguedj/Desktop/PULSATION_ANAL/ToBIDS/BIDS_data/sourcedata/participants.tsv'...\n",
      "Writing '/Users/caroleguedj/Desktop/PULSATION_ANAL/ToBIDS/BIDS_data/sourcedata/participants.json'...\n",
      "Used Annotations descriptions: ['response/correct', 'stim/dis_bot/target_l', 'stim/dis_bot/target_r', 'stim/dis_left/target_r', 'stim/dis_right/target_l', 'stim/dis_top/target_l', 'stim/dis_top/target_r', 'stim/no_dis/target_l', 'stim/no_dis/target_r']\n",
      "Writing '/Users/caroleguedj/Desktop/PULSATION_ANAL/ToBIDS/BIDS_data/sourcedata/sub-19/ses-01/eeg/sub-19_ses-01_task-N2pc_run-01_events.tsv'...\n",
      "Writing '/Users/caroleguedj/Desktop/PULSATION_ANAL/ToBIDS/BIDS_data/sourcedata/dataset_description.json'...\n",
      "Writing '/Users/caroleguedj/Desktop/PULSATION_ANAL/ToBIDS/BIDS_data/sourcedata/sub-19/ses-01/eeg/sub-19_ses-01_task-N2pc_run-01_eeg.json'...\n",
      "Writing '/Users/caroleguedj/Desktop/PULSATION_ANAL/ToBIDS/BIDS_data/sourcedata/sub-19/ses-01/eeg/sub-19_ses-01_task-N2pc_run-01_channels.tsv'...\n",
      "Copying data files to sub-19_ses-01_task-N2pc_run-01_eeg.bdf\n"
     ]
    },
    {
     "name": "stderr",
     "output_type": "stream",
     "text": [
      "/var/folders/0q/b_1qyqsd0371q_0fyfzg1jt80000gn/T/ipykernel_4621/3441845767.py:36: FutureWarning: The events_data parameter has been deprecated in favor the new events parameter, to ensure better consistency  with MNE-Python. The events_data parameter will be removed in MNE-BIDS 0.14. Please use the events parameter instead.\n",
      "  write_raw_bids(raw, bids_path=bids_path, events_data=e_list, event_id=event_id, overwrite=True)\n"
     ]
    },
    {
     "name": "stdout",
     "output_type": "stream",
     "text": [
      "Writing '/Users/caroleguedj/Desktop/PULSATION_ANAL/ToBIDS/BIDS_data/sourcedata/sub-19/ses-01/sub-19_ses-01_scans.tsv'...\n",
      "Wrote /Users/caroleguedj/Desktop/PULSATION_ANAL/ToBIDS/BIDS_data/sourcedata/sub-19/ses-01/sub-19_ses-01_scans.tsv entry with eeg/sub-19_ses-01_task-N2pc_run-01_eeg.bdf.\n",
      "N2pc\n",
      "Extracting EDF parameters from /Users/caroleguedj/Desktop/PULSATION_ANAL/ToBIDS/test/S10_N2pc_r2.bdf...\n",
      "BDF file detected\n",
      "Setting channel info structure...\n",
      "Creating raw.info structure...\n",
      "Trigger channel has a non-zero initial value of 65536 (consider using initial_event=True to detect this event)\n",
      "476 events found\n",
      "Event IDs: [  1   2   3   4   5   6   7   8 128 129]\n",
      "Extracting EDF parameters from /Users/caroleguedj/Desktop/PULSATION_ANAL/ToBIDS/test/S10_N2pc_r2.bdf...\n",
      "BDF file detected\n",
      "Setting channel info structure...\n",
      "Creating raw.info structure...\n",
      "Writing '/Users/caroleguedj/Desktop/PULSATION_ANAL/ToBIDS/BIDS_data/sourcedata/participants.tsv'...\n",
      "Writing '/Users/caroleguedj/Desktop/PULSATION_ANAL/ToBIDS/BIDS_data/sourcedata/participants.json'...\n",
      "Used Annotations descriptions: ['response/correct', 'response/incorrect', 'stim/dis_bot/target_l', 'stim/dis_bot/target_r', 'stim/dis_left/target_r', 'stim/dis_right/target_l', 'stim/dis_top/target_l', 'stim/dis_top/target_r', 'stim/no_dis/target_l', 'stim/no_dis/target_r']\n",
      "Writing '/Users/caroleguedj/Desktop/PULSATION_ANAL/ToBIDS/BIDS_data/sourcedata/sub-10/ses-01/eeg/sub-10_ses-01_task-N2pc_run-02_events.tsv'...\n",
      "Writing '/Users/caroleguedj/Desktop/PULSATION_ANAL/ToBIDS/BIDS_data/sourcedata/dataset_description.json'...\n",
      "Writing '/Users/caroleguedj/Desktop/PULSATION_ANAL/ToBIDS/BIDS_data/sourcedata/sub-10/ses-01/eeg/sub-10_ses-01_task-N2pc_run-02_eeg.json'...\n",
      "Writing '/Users/caroleguedj/Desktop/PULSATION_ANAL/ToBIDS/BIDS_data/sourcedata/sub-10/ses-01/eeg/sub-10_ses-01_task-N2pc_run-02_channels.tsv'...\n",
      "Copying data files to sub-10_ses-01_task-N2pc_run-02_eeg.bdf\n"
     ]
    },
    {
     "name": "stderr",
     "output_type": "stream",
     "text": [
      "/var/folders/0q/b_1qyqsd0371q_0fyfzg1jt80000gn/T/ipykernel_4621/3441845767.py:36: FutureWarning: The events_data parameter has been deprecated in favor the new events parameter, to ensure better consistency  with MNE-Python. The events_data parameter will be removed in MNE-BIDS 0.14. Please use the events parameter instead.\n",
      "  write_raw_bids(raw, bids_path=bids_path, events_data=e_list, event_id=event_id, overwrite=True)\n"
     ]
    },
    {
     "name": "stdout",
     "output_type": "stream",
     "text": [
      "Writing '/Users/caroleguedj/Desktop/PULSATION_ANAL/ToBIDS/BIDS_data/sourcedata/sub-10/ses-01/sub-10_ses-01_scans.tsv'...\n",
      "Wrote /Users/caroleguedj/Desktop/PULSATION_ANAL/ToBIDS/BIDS_data/sourcedata/sub-10/ses-01/sub-10_ses-01_scans.tsv entry with eeg/sub-10_ses-01_task-N2pc_run-02_eeg.bdf.\n",
      "N2pc\n",
      "Extracting EDF parameters from /Users/caroleguedj/Desktop/PULSATION_ANAL/ToBIDS/test/S19_N2pc_r2.bdf...\n",
      "BDF file detected\n",
      "Setting channel info structure...\n",
      "Creating raw.info structure...\n",
      "Trigger channel has a non-zero initial value of 65536 (consider using initial_event=True to detect this event)\n",
      "484 events found\n",
      "Event IDs: [  1   2   3   4   5   6   7   8 128 129]\n",
      "Extracting EDF parameters from /Users/caroleguedj/Desktop/PULSATION_ANAL/ToBIDS/test/S19_N2pc_r2.bdf...\n",
      "BDF file detected\n",
      "Setting channel info structure...\n",
      "Creating raw.info structure...\n",
      "Writing '/Users/caroleguedj/Desktop/PULSATION_ANAL/ToBIDS/BIDS_data/sourcedata/participants.tsv'...\n",
      "Writing '/Users/caroleguedj/Desktop/PULSATION_ANAL/ToBIDS/BIDS_data/sourcedata/participants.json'...\n",
      "Used Annotations descriptions: ['response/correct', 'response/incorrect', 'stim/dis_bot/target_l', 'stim/dis_bot/target_r', 'stim/dis_left/target_r', 'stim/dis_right/target_l', 'stim/dis_top/target_l', 'stim/dis_top/target_r', 'stim/no_dis/target_l', 'stim/no_dis/target_r']\n",
      "Writing '/Users/caroleguedj/Desktop/PULSATION_ANAL/ToBIDS/BIDS_data/sourcedata/sub-19/ses-01/eeg/sub-19_ses-01_task-N2pc_run-02_events.tsv'...\n",
      "Writing '/Users/caroleguedj/Desktop/PULSATION_ANAL/ToBIDS/BIDS_data/sourcedata/dataset_description.json'...\n",
      "Writing '/Users/caroleguedj/Desktop/PULSATION_ANAL/ToBIDS/BIDS_data/sourcedata/sub-19/ses-01/eeg/sub-19_ses-01_task-N2pc_run-02_eeg.json'...\n",
      "Writing '/Users/caroleguedj/Desktop/PULSATION_ANAL/ToBIDS/BIDS_data/sourcedata/sub-19/ses-01/eeg/sub-19_ses-01_task-N2pc_run-02_channels.tsv'...\n",
      "Copying data files to sub-19_ses-01_task-N2pc_run-02_eeg.bdf\n"
     ]
    },
    {
     "name": "stderr",
     "output_type": "stream",
     "text": [
      "/var/folders/0q/b_1qyqsd0371q_0fyfzg1jt80000gn/T/ipykernel_4621/3441845767.py:36: FutureWarning: The events_data parameter has been deprecated in favor the new events parameter, to ensure better consistency  with MNE-Python. The events_data parameter will be removed in MNE-BIDS 0.14. Please use the events parameter instead.\n",
      "  write_raw_bids(raw, bids_path=bids_path, events_data=e_list, event_id=event_id, overwrite=True)\n"
     ]
    },
    {
     "name": "stdout",
     "output_type": "stream",
     "text": [
      "Writing '/Users/caroleguedj/Desktop/PULSATION_ANAL/ToBIDS/BIDS_data/sourcedata/sub-19/ses-01/sub-19_ses-01_scans.tsv'...\n",
      "Wrote /Users/caroleguedj/Desktop/PULSATION_ANAL/ToBIDS/BIDS_data/sourcedata/sub-19/ses-01/sub-19_ses-01_scans.tsv entry with eeg/sub-19_ses-01_task-N2pc_run-02_eeg.bdf.\n",
      "N2pc\n",
      "Extracting EDF parameters from /Users/caroleguedj/Desktop/PULSATION_ANAL/ToBIDS/test/S10_N2pc_r1.bdf...\n",
      "BDF file detected\n",
      "Setting channel info structure...\n",
      "Creating raw.info structure...\n",
      "Trigger channel has a non-zero initial value of 65536 (consider using initial_event=True to detect this event)\n",
      "484 events found\n",
      "Event IDs: [  1   2   3   4   5   6   7   8 128 129]\n",
      "Extracting EDF parameters from /Users/caroleguedj/Desktop/PULSATION_ANAL/ToBIDS/test/S10_N2pc_r1.bdf...\n",
      "BDF file detected\n",
      "Setting channel info structure...\n",
      "Creating raw.info structure...\n",
      "Writing '/Users/caroleguedj/Desktop/PULSATION_ANAL/ToBIDS/BIDS_data/sourcedata/participants.tsv'...\n",
      "Writing '/Users/caroleguedj/Desktop/PULSATION_ANAL/ToBIDS/BIDS_data/sourcedata/participants.json'...\n",
      "Used Annotations descriptions: ['response/correct', 'response/incorrect', 'stim/dis_bot/target_l', 'stim/dis_bot/target_r', 'stim/dis_left/target_r', 'stim/dis_right/target_l', 'stim/dis_top/target_l', 'stim/dis_top/target_r', 'stim/no_dis/target_l', 'stim/no_dis/target_r']\n",
      "Writing '/Users/caroleguedj/Desktop/PULSATION_ANAL/ToBIDS/BIDS_data/sourcedata/sub-10/ses-01/eeg/sub-10_ses-01_task-N2pc_run-01_events.tsv'...\n",
      "Writing '/Users/caroleguedj/Desktop/PULSATION_ANAL/ToBIDS/BIDS_data/sourcedata/dataset_description.json'...\n",
      "Writing '/Users/caroleguedj/Desktop/PULSATION_ANAL/ToBIDS/BIDS_data/sourcedata/sub-10/ses-01/eeg/sub-10_ses-01_task-N2pc_run-01_eeg.json'...\n",
      "Writing '/Users/caroleguedj/Desktop/PULSATION_ANAL/ToBIDS/BIDS_data/sourcedata/sub-10/ses-01/eeg/sub-10_ses-01_task-N2pc_run-01_channels.tsv'...\n",
      "Copying data files to sub-10_ses-01_task-N2pc_run-01_eeg.bdf\n"
     ]
    },
    {
     "name": "stderr",
     "output_type": "stream",
     "text": [
      "/var/folders/0q/b_1qyqsd0371q_0fyfzg1jt80000gn/T/ipykernel_4621/3441845767.py:36: FutureWarning: The events_data parameter has been deprecated in favor the new events parameter, to ensure better consistency  with MNE-Python. The events_data parameter will be removed in MNE-BIDS 0.14. Please use the events parameter instead.\n",
      "  write_raw_bids(raw, bids_path=bids_path, events_data=e_list, event_id=event_id, overwrite=True)\n"
     ]
    },
    {
     "name": "stdout",
     "output_type": "stream",
     "text": [
      "Writing '/Users/caroleguedj/Desktop/PULSATION_ANAL/ToBIDS/BIDS_data/sourcedata/sub-10/ses-01/sub-10_ses-01_scans.tsv'...\n",
      "Wrote /Users/caroleguedj/Desktop/PULSATION_ANAL/ToBIDS/BIDS_data/sourcedata/sub-10/ses-01/sub-10_ses-01_scans.tsv entry with eeg/sub-10_ses-01_task-N2pc_run-01_eeg.bdf.\n",
      "N2pc\n",
      "Extracting EDF parameters from /Users/caroleguedj/Desktop/PULSATION_ANAL/ToBIDS/test/P52_N2pc_r1.bdf...\n",
      "BDF file detected\n",
      "Setting channel info structure...\n",
      "Creating raw.info structure...\n",
      "Trigger channel has a non-zero initial value of 65536 (consider using initial_event=True to detect this event)\n",
      "480 events found\n",
      "Event IDs: [  1   2   3   4   5   6   7   8 128 129]\n",
      "Extracting EDF parameters from /Users/caroleguedj/Desktop/PULSATION_ANAL/ToBIDS/test/P52_N2pc_r1.bdf...\n",
      "BDF file detected\n",
      "Setting channel info structure...\n",
      "Creating raw.info structure...\n",
      "Writing '/Users/caroleguedj/Desktop/PULSATION_ANAL/ToBIDS/BIDS_data/sourcedata/participants.tsv'...\n",
      "Writing '/Users/caroleguedj/Desktop/PULSATION_ANAL/ToBIDS/BIDS_data/sourcedata/participants.json'...\n",
      "Used Annotations descriptions: ['response/correct', 'response/incorrect', 'stim/dis_bot/target_l', 'stim/dis_bot/target_r', 'stim/dis_left/target_r', 'stim/dis_right/target_l', 'stim/dis_top/target_l', 'stim/dis_top/target_r', 'stim/no_dis/target_l', 'stim/no_dis/target_r']\n",
      "Writing '/Users/caroleguedj/Desktop/PULSATION_ANAL/ToBIDS/BIDS_data/sourcedata/sub-52/ses-01/eeg/sub-52_ses-01_task-N2pc_run-01_events.tsv'...\n",
      "Writing '/Users/caroleguedj/Desktop/PULSATION_ANAL/ToBIDS/BIDS_data/sourcedata/dataset_description.json'...\n",
      "Writing '/Users/caroleguedj/Desktop/PULSATION_ANAL/ToBIDS/BIDS_data/sourcedata/sub-52/ses-01/eeg/sub-52_ses-01_task-N2pc_run-01_eeg.json'...\n",
      "Writing '/Users/caroleguedj/Desktop/PULSATION_ANAL/ToBIDS/BIDS_data/sourcedata/sub-52/ses-01/eeg/sub-52_ses-01_task-N2pc_run-01_channels.tsv'...\n",
      "Copying data files to sub-52_ses-01_task-N2pc_run-01_eeg.bdf\n"
     ]
    },
    {
     "name": "stderr",
     "output_type": "stream",
     "text": [
      "/var/folders/0q/b_1qyqsd0371q_0fyfzg1jt80000gn/T/ipykernel_4621/3441845767.py:36: FutureWarning: The events_data parameter has been deprecated in favor the new events parameter, to ensure better consistency  with MNE-Python. The events_data parameter will be removed in MNE-BIDS 0.14. Please use the events parameter instead.\n",
      "  write_raw_bids(raw, bids_path=bids_path, events_data=e_list, event_id=event_id, overwrite=True)\n"
     ]
    },
    {
     "name": "stdout",
     "output_type": "stream",
     "text": [
      "Writing '/Users/caroleguedj/Desktop/PULSATION_ANAL/ToBIDS/BIDS_data/sourcedata/sub-52/ses-01/sub-52_ses-01_scans.tsv'...\n",
      "Wrote /Users/caroleguedj/Desktop/PULSATION_ANAL/ToBIDS/BIDS_data/sourcedata/sub-52/ses-01/sub-52_ses-01_scans.tsv entry with eeg/sub-52_ses-01_task-N2pc_run-01_eeg.bdf.\n",
      "N2pc\n",
      "Extracting EDF parameters from /Users/caroleguedj/Desktop/PULSATION_ANAL/ToBIDS/test/S09_N2pc_r1.bdf...\n",
      "BDF file detected\n",
      "Setting channel info structure...\n",
      "Creating raw.info structure...\n",
      "Trigger channel has a non-zero initial value of 65536 (consider using initial_event=True to detect this event)\n",
      "483 events found\n",
      "Event IDs: [  1   2   3   4   5   6   7   8 128 129]\n",
      "Extracting EDF parameters from /Users/caroleguedj/Desktop/PULSATION_ANAL/ToBIDS/test/S09_N2pc_r1.bdf...\n",
      "BDF file detected\n",
      "Setting channel info structure...\n",
      "Creating raw.info structure...\n",
      "Writing '/Users/caroleguedj/Desktop/PULSATION_ANAL/ToBIDS/BIDS_data/sourcedata/participants.tsv'...\n",
      "Writing '/Users/caroleguedj/Desktop/PULSATION_ANAL/ToBIDS/BIDS_data/sourcedata/participants.json'...\n",
      "Used Annotations descriptions: ['response/correct', 'response/incorrect', 'stim/dis_bot/target_l', 'stim/dis_bot/target_r', 'stim/dis_left/target_r', 'stim/dis_right/target_l', 'stim/dis_top/target_l', 'stim/dis_top/target_r', 'stim/no_dis/target_l', 'stim/no_dis/target_r']\n",
      "Writing '/Users/caroleguedj/Desktop/PULSATION_ANAL/ToBIDS/BIDS_data/sourcedata/sub-09/ses-01/eeg/sub-09_ses-01_task-N2pc_run-01_events.tsv'...\n",
      "Writing '/Users/caroleguedj/Desktop/PULSATION_ANAL/ToBIDS/BIDS_data/sourcedata/dataset_description.json'...\n",
      "Writing '/Users/caroleguedj/Desktop/PULSATION_ANAL/ToBIDS/BIDS_data/sourcedata/sub-09/ses-01/eeg/sub-09_ses-01_task-N2pc_run-01_eeg.json'...\n",
      "Writing '/Users/caroleguedj/Desktop/PULSATION_ANAL/ToBIDS/BIDS_data/sourcedata/sub-09/ses-01/eeg/sub-09_ses-01_task-N2pc_run-01_channels.tsv'...\n",
      "Copying data files to sub-09_ses-01_task-N2pc_run-01_eeg.bdf\n"
     ]
    },
    {
     "name": "stderr",
     "output_type": "stream",
     "text": [
      "/var/folders/0q/b_1qyqsd0371q_0fyfzg1jt80000gn/T/ipykernel_4621/3441845767.py:36: FutureWarning: The events_data parameter has been deprecated in favor the new events parameter, to ensure better consistency  with MNE-Python. The events_data parameter will be removed in MNE-BIDS 0.14. Please use the events parameter instead.\n",
      "  write_raw_bids(raw, bids_path=bids_path, events_data=e_list, event_id=event_id, overwrite=True)\n"
     ]
    },
    {
     "name": "stdout",
     "output_type": "stream",
     "text": [
      "Writing '/Users/caroleguedj/Desktop/PULSATION_ANAL/ToBIDS/BIDS_data/sourcedata/sub-09/ses-01/sub-09_ses-01_scans.tsv'...\n",
      "Wrote /Users/caroleguedj/Desktop/PULSATION_ANAL/ToBIDS/BIDS_data/sourcedata/sub-09/ses-01/sub-09_ses-01_scans.tsv entry with eeg/sub-09_ses-01_task-N2pc_run-01_eeg.bdf.\n",
      "N2pc\n",
      "Extracting EDF parameters from /Users/caroleguedj/Desktop/PULSATION_ANAL/ToBIDS/test/S15_N2pc_r1.bdf...\n",
      "BDF file detected\n",
      "Setting channel info structure...\n",
      "Creating raw.info structure...\n",
      "Trigger channel has a non-zero initial value of 65540 (consider using initial_event=True to detect this event)\n",
      "485 events found\n",
      "Event IDs: [  1   2   3   4   5   6   7   8 128 129]\n",
      "Extracting EDF parameters from /Users/caroleguedj/Desktop/PULSATION_ANAL/ToBIDS/test/S15_N2pc_r1.bdf...\n",
      "BDF file detected\n",
      "Setting channel info structure...\n",
      "Creating raw.info structure...\n",
      "Writing '/Users/caroleguedj/Desktop/PULSATION_ANAL/ToBIDS/BIDS_data/sourcedata/participants.tsv'...\n",
      "Writing '/Users/caroleguedj/Desktop/PULSATION_ANAL/ToBIDS/BIDS_data/sourcedata/participants.json'...\n",
      "Used Annotations descriptions: ['response/correct', 'response/incorrect', 'stim/dis_bot/target_l', 'stim/dis_bot/target_r', 'stim/dis_left/target_r', 'stim/dis_right/target_l', 'stim/dis_top/target_l', 'stim/dis_top/target_r', 'stim/no_dis/target_l', 'stim/no_dis/target_r']\n",
      "Writing '/Users/caroleguedj/Desktop/PULSATION_ANAL/ToBIDS/BIDS_data/sourcedata/sub-15/ses-01/eeg/sub-15_ses-01_task-N2pc_run-01_events.tsv'...\n",
      "Writing '/Users/caroleguedj/Desktop/PULSATION_ANAL/ToBIDS/BIDS_data/sourcedata/dataset_description.json'...\n",
      "Writing '/Users/caroleguedj/Desktop/PULSATION_ANAL/ToBIDS/BIDS_data/sourcedata/sub-15/ses-01/eeg/sub-15_ses-01_task-N2pc_run-01_eeg.json'...\n",
      "Writing '/Users/caroleguedj/Desktop/PULSATION_ANAL/ToBIDS/BIDS_data/sourcedata/sub-15/ses-01/eeg/sub-15_ses-01_task-N2pc_run-01_channels.tsv'...\n",
      "Copying data files to sub-15_ses-01_task-N2pc_run-01_eeg.bdf\n"
     ]
    },
    {
     "name": "stderr",
     "output_type": "stream",
     "text": [
      "/var/folders/0q/b_1qyqsd0371q_0fyfzg1jt80000gn/T/ipykernel_4621/3441845767.py:36: FutureWarning: The events_data parameter has been deprecated in favor the new events parameter, to ensure better consistency  with MNE-Python. The events_data parameter will be removed in MNE-BIDS 0.14. Please use the events parameter instead.\n",
      "  write_raw_bids(raw, bids_path=bids_path, events_data=e_list, event_id=event_id, overwrite=True)\n"
     ]
    },
    {
     "name": "stdout",
     "output_type": "stream",
     "text": [
      "Writing '/Users/caroleguedj/Desktop/PULSATION_ANAL/ToBIDS/BIDS_data/sourcedata/sub-15/ses-01/sub-15_ses-01_scans.tsv'...\n",
      "Wrote /Users/caroleguedj/Desktop/PULSATION_ANAL/ToBIDS/BIDS_data/sourcedata/sub-15/ses-01/sub-15_ses-01_scans.tsv entry with eeg/sub-15_ses-01_task-N2pc_run-01_eeg.bdf.\n",
      "N2pc\n",
      "Extracting EDF parameters from /Users/caroleguedj/Desktop/PULSATION_ANAL/ToBIDS/test/P52_N2pc_r2.bdf...\n",
      "BDF file detected\n",
      "Setting channel info structure...\n",
      "Creating raw.info structure...\n",
      "Trigger channel has a non-zero initial value of 65536 (consider using initial_event=True to detect this event)\n",
      "482 events found\n",
      "Event IDs: [  1   2   3   4   5   6   7   8 128 129]\n",
      "Extracting EDF parameters from /Users/caroleguedj/Desktop/PULSATION_ANAL/ToBIDS/test/P52_N2pc_r2.bdf...\n",
      "BDF file detected\n",
      "Setting channel info structure...\n",
      "Creating raw.info structure...\n",
      "Writing '/Users/caroleguedj/Desktop/PULSATION_ANAL/ToBIDS/BIDS_data/sourcedata/participants.tsv'...\n",
      "Writing '/Users/caroleguedj/Desktop/PULSATION_ANAL/ToBIDS/BIDS_data/sourcedata/participants.json'...\n",
      "Used Annotations descriptions: ['response/correct', 'response/incorrect', 'stim/dis_bot/target_l', 'stim/dis_bot/target_r', 'stim/dis_left/target_r', 'stim/dis_right/target_l', 'stim/dis_top/target_l', 'stim/dis_top/target_r', 'stim/no_dis/target_l', 'stim/no_dis/target_r']\n",
      "Writing '/Users/caroleguedj/Desktop/PULSATION_ANAL/ToBIDS/BIDS_data/sourcedata/sub-52/ses-01/eeg/sub-52_ses-01_task-N2pc_run-02_events.tsv'...\n",
      "Writing '/Users/caroleguedj/Desktop/PULSATION_ANAL/ToBIDS/BIDS_data/sourcedata/dataset_description.json'...\n",
      "Writing '/Users/caroleguedj/Desktop/PULSATION_ANAL/ToBIDS/BIDS_data/sourcedata/sub-52/ses-01/eeg/sub-52_ses-01_task-N2pc_run-02_eeg.json'...\n",
      "Writing '/Users/caroleguedj/Desktop/PULSATION_ANAL/ToBIDS/BIDS_data/sourcedata/sub-52/ses-01/eeg/sub-52_ses-01_task-N2pc_run-02_channels.tsv'...\n",
      "Copying data files to sub-52_ses-01_task-N2pc_run-02_eeg.bdf\n"
     ]
    },
    {
     "name": "stderr",
     "output_type": "stream",
     "text": [
      "/var/folders/0q/b_1qyqsd0371q_0fyfzg1jt80000gn/T/ipykernel_4621/3441845767.py:36: FutureWarning: The events_data parameter has been deprecated in favor the new events parameter, to ensure better consistency  with MNE-Python. The events_data parameter will be removed in MNE-BIDS 0.14. Please use the events parameter instead.\n",
      "  write_raw_bids(raw, bids_path=bids_path, events_data=e_list, event_id=event_id, overwrite=True)\n"
     ]
    },
    {
     "name": "stdout",
     "output_type": "stream",
     "text": [
      "Writing '/Users/caroleguedj/Desktop/PULSATION_ANAL/ToBIDS/BIDS_data/sourcedata/sub-52/ses-01/sub-52_ses-01_scans.tsv'...\n",
      "Wrote /Users/caroleguedj/Desktop/PULSATION_ANAL/ToBIDS/BIDS_data/sourcedata/sub-52/ses-01/sub-52_ses-01_scans.tsv entry with eeg/sub-52_ses-01_task-N2pc_run-02_eeg.bdf.\n",
      "N2pc\n",
      "Extracting EDF parameters from /Users/caroleguedj/Desktop/PULSATION_ANAL/ToBIDS/test/S09_N2pc_r2.bdf...\n",
      "BDF file detected\n",
      "Setting channel info structure...\n",
      "Creating raw.info structure...\n",
      "Trigger channel has a non-zero initial value of 65536 (consider using initial_event=True to detect this event)\n",
      "485 events found\n",
      "Event IDs: [  1   2   3   4   5   6   7   8 128 129]\n",
      "Extracting EDF parameters from /Users/caroleguedj/Desktop/PULSATION_ANAL/ToBIDS/test/S09_N2pc_r2.bdf...\n",
      "BDF file detected\n",
      "Setting channel info structure...\n",
      "Creating raw.info structure...\n",
      "Writing '/Users/caroleguedj/Desktop/PULSATION_ANAL/ToBIDS/BIDS_data/sourcedata/participants.tsv'...\n",
      "Writing '/Users/caroleguedj/Desktop/PULSATION_ANAL/ToBIDS/BIDS_data/sourcedata/participants.json'...\n",
      "Used Annotations descriptions: ['response/correct', 'response/incorrect', 'stim/dis_bot/target_l', 'stim/dis_bot/target_r', 'stim/dis_left/target_r', 'stim/dis_right/target_l', 'stim/dis_top/target_l', 'stim/dis_top/target_r', 'stim/no_dis/target_l', 'stim/no_dis/target_r']\n",
      "Writing '/Users/caroleguedj/Desktop/PULSATION_ANAL/ToBIDS/BIDS_data/sourcedata/sub-09/ses-01/eeg/sub-09_ses-01_task-N2pc_run-02_events.tsv'...\n",
      "Writing '/Users/caroleguedj/Desktop/PULSATION_ANAL/ToBIDS/BIDS_data/sourcedata/dataset_description.json'...\n",
      "Writing '/Users/caroleguedj/Desktop/PULSATION_ANAL/ToBIDS/BIDS_data/sourcedata/sub-09/ses-01/eeg/sub-09_ses-01_task-N2pc_run-02_eeg.json'...\n",
      "Writing '/Users/caroleguedj/Desktop/PULSATION_ANAL/ToBIDS/BIDS_data/sourcedata/sub-09/ses-01/eeg/sub-09_ses-01_task-N2pc_run-02_channels.tsv'...\n",
      "Copying data files to sub-09_ses-01_task-N2pc_run-02_eeg.bdf\n"
     ]
    },
    {
     "name": "stderr",
     "output_type": "stream",
     "text": [
      "/var/folders/0q/b_1qyqsd0371q_0fyfzg1jt80000gn/T/ipykernel_4621/3441845767.py:36: FutureWarning: The events_data parameter has been deprecated in favor the new events parameter, to ensure better consistency  with MNE-Python. The events_data parameter will be removed in MNE-BIDS 0.14. Please use the events parameter instead.\n",
      "  write_raw_bids(raw, bids_path=bids_path, events_data=e_list, event_id=event_id, overwrite=True)\n"
     ]
    },
    {
     "name": "stdout",
     "output_type": "stream",
     "text": [
      "Writing '/Users/caroleguedj/Desktop/PULSATION_ANAL/ToBIDS/BIDS_data/sourcedata/sub-09/ses-01/sub-09_ses-01_scans.tsv'...\n",
      "Wrote /Users/caroleguedj/Desktop/PULSATION_ANAL/ToBIDS/BIDS_data/sourcedata/sub-09/ses-01/sub-09_ses-01_scans.tsv entry with eeg/sub-09_ses-01_task-N2pc_run-02_eeg.bdf.\n",
      "N2pc\n",
      "Extracting EDF parameters from /Users/caroleguedj/Desktop/PULSATION_ANAL/ToBIDS/test/S15_N2pc_r2.bdf...\n",
      "BDF file detected\n",
      "Setting channel info structure...\n",
      "Creating raw.info structure...\n",
      "Trigger channel has a non-zero initial value of 65536 (consider using initial_event=True to detect this event)\n",
      "484 events found\n",
      "Event IDs: [  1   2   3   4   5   6   7   8 128]\n",
      "Extracting EDF parameters from /Users/caroleguedj/Desktop/PULSATION_ANAL/ToBIDS/test/S15_N2pc_r2.bdf...\n",
      "BDF file detected\n",
      "Setting channel info structure...\n",
      "Creating raw.info structure...\n",
      "Writing '/Users/caroleguedj/Desktop/PULSATION_ANAL/ToBIDS/BIDS_data/sourcedata/participants.tsv'...\n",
      "Writing '/Users/caroleguedj/Desktop/PULSATION_ANAL/ToBIDS/BIDS_data/sourcedata/participants.json'...\n",
      "Used Annotations descriptions: ['response/correct', 'stim/dis_bot/target_l', 'stim/dis_bot/target_r', 'stim/dis_left/target_r', 'stim/dis_right/target_l', 'stim/dis_top/target_l', 'stim/dis_top/target_r', 'stim/no_dis/target_l', 'stim/no_dis/target_r']\n",
      "Writing '/Users/caroleguedj/Desktop/PULSATION_ANAL/ToBIDS/BIDS_data/sourcedata/sub-15/ses-01/eeg/sub-15_ses-01_task-N2pc_run-02_events.tsv'...\n",
      "Writing '/Users/caroleguedj/Desktop/PULSATION_ANAL/ToBIDS/BIDS_data/sourcedata/dataset_description.json'...\n",
      "Writing '/Users/caroleguedj/Desktop/PULSATION_ANAL/ToBIDS/BIDS_data/sourcedata/sub-15/ses-01/eeg/sub-15_ses-01_task-N2pc_run-02_eeg.json'...\n",
      "Writing '/Users/caroleguedj/Desktop/PULSATION_ANAL/ToBIDS/BIDS_data/sourcedata/sub-15/ses-01/eeg/sub-15_ses-01_task-N2pc_run-02_channels.tsv'...\n",
      "Copying data files to sub-15_ses-01_task-N2pc_run-02_eeg.bdf\n"
     ]
    },
    {
     "name": "stderr",
     "output_type": "stream",
     "text": [
      "/var/folders/0q/b_1qyqsd0371q_0fyfzg1jt80000gn/T/ipykernel_4621/3441845767.py:36: FutureWarning: The events_data parameter has been deprecated in favor the new events parameter, to ensure better consistency  with MNE-Python. The events_data parameter will be removed in MNE-BIDS 0.14. Please use the events parameter instead.\n",
      "  write_raw_bids(raw, bids_path=bids_path, events_data=e_list, event_id=event_id, overwrite=True)\n"
     ]
    },
    {
     "name": "stdout",
     "output_type": "stream",
     "text": [
      "Writing '/Users/caroleguedj/Desktop/PULSATION_ANAL/ToBIDS/BIDS_data/sourcedata/sub-15/ses-01/sub-15_ses-01_scans.tsv'...\n",
      "Wrote /Users/caroleguedj/Desktop/PULSATION_ANAL/ToBIDS/BIDS_data/sourcedata/sub-15/ses-01/sub-15_ses-01_scans.tsv entry with eeg/sub-15_ses-01_task-N2pc_run-02_eeg.bdf.\n",
      "N2pc\n",
      "Extracting EDF parameters from /Users/caroleguedj/Desktop/PULSATION_ANAL/ToBIDS/test/S07_N2pc_r1.bdf...\n",
      "BDF file detected\n",
      "Setting channel info structure...\n",
      "Creating raw.info structure...\n",
      "Trigger channel has a non-zero initial value of 65536 (consider using initial_event=True to detect this event)\n",
      "480 events found\n",
      "Event IDs: [  1   2   3   4   5   6   7   8 128 129]\n",
      "Extracting EDF parameters from /Users/caroleguedj/Desktop/PULSATION_ANAL/ToBIDS/test/S07_N2pc_r1.bdf...\n",
      "BDF file detected\n",
      "Setting channel info structure...\n",
      "Creating raw.info structure...\n",
      "Writing '/Users/caroleguedj/Desktop/PULSATION_ANAL/ToBIDS/BIDS_data/sourcedata/participants.tsv'...\n",
      "Writing '/Users/caroleguedj/Desktop/PULSATION_ANAL/ToBIDS/BIDS_data/sourcedata/participants.json'...\n",
      "Used Annotations descriptions: ['response/correct', 'response/incorrect', 'stim/dis_bot/target_l', 'stim/dis_bot/target_r', 'stim/dis_left/target_r', 'stim/dis_right/target_l', 'stim/dis_top/target_l', 'stim/dis_top/target_r', 'stim/no_dis/target_l', 'stim/no_dis/target_r']\n",
      "Writing '/Users/caroleguedj/Desktop/PULSATION_ANAL/ToBIDS/BIDS_data/sourcedata/sub-07/ses-01/eeg/sub-07_ses-01_task-N2pc_run-01_events.tsv'...\n",
      "Writing '/Users/caroleguedj/Desktop/PULSATION_ANAL/ToBIDS/BIDS_data/sourcedata/dataset_description.json'...\n",
      "Writing '/Users/caroleguedj/Desktop/PULSATION_ANAL/ToBIDS/BIDS_data/sourcedata/sub-07/ses-01/eeg/sub-07_ses-01_task-N2pc_run-01_eeg.json'...\n",
      "Writing '/Users/caroleguedj/Desktop/PULSATION_ANAL/ToBIDS/BIDS_data/sourcedata/sub-07/ses-01/eeg/sub-07_ses-01_task-N2pc_run-01_channels.tsv'...\n",
      "Copying data files to sub-07_ses-01_task-N2pc_run-01_eeg.bdf\n"
     ]
    },
    {
     "name": "stderr",
     "output_type": "stream",
     "text": [
      "/var/folders/0q/b_1qyqsd0371q_0fyfzg1jt80000gn/T/ipykernel_4621/3441845767.py:36: FutureWarning: The events_data parameter has been deprecated in favor the new events parameter, to ensure better consistency  with MNE-Python. The events_data parameter will be removed in MNE-BIDS 0.14. Please use the events parameter instead.\n",
      "  write_raw_bids(raw, bids_path=bids_path, events_data=e_list, event_id=event_id, overwrite=True)\n"
     ]
    },
    {
     "name": "stdout",
     "output_type": "stream",
     "text": [
      "Writing '/Users/caroleguedj/Desktop/PULSATION_ANAL/ToBIDS/BIDS_data/sourcedata/sub-07/ses-01/sub-07_ses-01_scans.tsv'...\n",
      "Wrote /Users/caroleguedj/Desktop/PULSATION_ANAL/ToBIDS/BIDS_data/sourcedata/sub-07/ses-01/sub-07_ses-01_scans.tsv entry with eeg/sub-07_ses-01_task-N2pc_run-01_eeg.bdf.\n",
      "N2pc\n",
      "Extracting EDF parameters from /Users/caroleguedj/Desktop/PULSATION_ANAL/ToBIDS/test/P55_N2pc_r2.bdf...\n",
      "BDF file detected\n",
      "Setting channel info structure...\n",
      "Creating raw.info structure...\n",
      "Trigger channel has a non-zero initial value of 65536 (consider using initial_event=True to detect this event)\n",
      "485 events found\n",
      "Event IDs: [  1   2   3   4   5   6   7   8 128 129]\n",
      "Extracting EDF parameters from /Users/caroleguedj/Desktop/PULSATION_ANAL/ToBIDS/test/P55_N2pc_r2.bdf...\n",
      "BDF file detected\n",
      "Setting channel info structure...\n",
      "Creating raw.info structure...\n",
      "Writing '/Users/caroleguedj/Desktop/PULSATION_ANAL/ToBIDS/BIDS_data/sourcedata/participants.tsv'...\n",
      "Writing '/Users/caroleguedj/Desktop/PULSATION_ANAL/ToBIDS/BIDS_data/sourcedata/participants.json'...\n",
      "Used Annotations descriptions: ['response/correct', 'response/incorrect', 'stim/dis_bot/target_l', 'stim/dis_bot/target_r', 'stim/dis_left/target_r', 'stim/dis_right/target_l', 'stim/dis_top/target_l', 'stim/dis_top/target_r', 'stim/no_dis/target_l', 'stim/no_dis/target_r']\n",
      "Writing '/Users/caroleguedj/Desktop/PULSATION_ANAL/ToBIDS/BIDS_data/sourcedata/sub-55/ses-01/eeg/sub-55_ses-01_task-N2pc_run-02_events.tsv'...\n",
      "Writing '/Users/caroleguedj/Desktop/PULSATION_ANAL/ToBIDS/BIDS_data/sourcedata/dataset_description.json'...\n",
      "Writing '/Users/caroleguedj/Desktop/PULSATION_ANAL/ToBIDS/BIDS_data/sourcedata/sub-55/ses-01/eeg/sub-55_ses-01_task-N2pc_run-02_eeg.json'...\n",
      "Writing '/Users/caroleguedj/Desktop/PULSATION_ANAL/ToBIDS/BIDS_data/sourcedata/sub-55/ses-01/eeg/sub-55_ses-01_task-N2pc_run-02_channels.tsv'...\n",
      "Copying data files to sub-55_ses-01_task-N2pc_run-02_eeg.bdf\n"
     ]
    },
    {
     "name": "stderr",
     "output_type": "stream",
     "text": [
      "/var/folders/0q/b_1qyqsd0371q_0fyfzg1jt80000gn/T/ipykernel_4621/3441845767.py:36: FutureWarning: The events_data parameter has been deprecated in favor the new events parameter, to ensure better consistency  with MNE-Python. The events_data parameter will be removed in MNE-BIDS 0.14. Please use the events parameter instead.\n",
      "  write_raw_bids(raw, bids_path=bids_path, events_data=e_list, event_id=event_id, overwrite=True)\n"
     ]
    },
    {
     "name": "stdout",
     "output_type": "stream",
     "text": [
      "Writing '/Users/caroleguedj/Desktop/PULSATION_ANAL/ToBIDS/BIDS_data/sourcedata/sub-55/ses-01/sub-55_ses-01_scans.tsv'...\n",
      "Wrote /Users/caroleguedj/Desktop/PULSATION_ANAL/ToBIDS/BIDS_data/sourcedata/sub-55/ses-01/sub-55_ses-01_scans.tsv entry with eeg/sub-55_ses-01_task-N2pc_run-02_eeg.bdf.\n",
      "N2pc\n",
      "Extracting EDF parameters from /Users/caroleguedj/Desktop/PULSATION_ANAL/ToBIDS/test/S20_N2pc_r2.bdf...\n",
      "BDF file detected\n",
      "Setting channel info structure...\n",
      "Creating raw.info structure...\n",
      "Trigger channel has a non-zero initial value of 65536 (consider using initial_event=True to detect this event)\n",
      "485 events found\n",
      "Event IDs: [  1   2   3   4   5   6   7   8 128]\n",
      "Extracting EDF parameters from /Users/caroleguedj/Desktop/PULSATION_ANAL/ToBIDS/test/S20_N2pc_r2.bdf...\n",
      "BDF file detected\n",
      "Setting channel info structure...\n",
      "Creating raw.info structure...\n",
      "Writing '/Users/caroleguedj/Desktop/PULSATION_ANAL/ToBIDS/BIDS_data/sourcedata/participants.tsv'...\n",
      "Writing '/Users/caroleguedj/Desktop/PULSATION_ANAL/ToBIDS/BIDS_data/sourcedata/participants.json'...\n",
      "Used Annotations descriptions: ['response/correct', 'stim/dis_bot/target_l', 'stim/dis_bot/target_r', 'stim/dis_left/target_r', 'stim/dis_right/target_l', 'stim/dis_top/target_l', 'stim/dis_top/target_r', 'stim/no_dis/target_l', 'stim/no_dis/target_r']\n",
      "Writing '/Users/caroleguedj/Desktop/PULSATION_ANAL/ToBIDS/BIDS_data/sourcedata/sub-20/ses-01/eeg/sub-20_ses-01_task-N2pc_run-02_events.tsv'...\n",
      "Writing '/Users/caroleguedj/Desktop/PULSATION_ANAL/ToBIDS/BIDS_data/sourcedata/dataset_description.json'...\n",
      "Writing '/Users/caroleguedj/Desktop/PULSATION_ANAL/ToBIDS/BIDS_data/sourcedata/sub-20/ses-01/eeg/sub-20_ses-01_task-N2pc_run-02_eeg.json'...\n",
      "Writing '/Users/caroleguedj/Desktop/PULSATION_ANAL/ToBIDS/BIDS_data/sourcedata/sub-20/ses-01/eeg/sub-20_ses-01_task-N2pc_run-02_channels.tsv'...\n",
      "Copying data files to sub-20_ses-01_task-N2pc_run-02_eeg.bdf\n"
     ]
    },
    {
     "name": "stderr",
     "output_type": "stream",
     "text": [
      "/var/folders/0q/b_1qyqsd0371q_0fyfzg1jt80000gn/T/ipykernel_4621/3441845767.py:36: FutureWarning: The events_data parameter has been deprecated in favor the new events parameter, to ensure better consistency  with MNE-Python. The events_data parameter will be removed in MNE-BIDS 0.14. Please use the events parameter instead.\n",
      "  write_raw_bids(raw, bids_path=bids_path, events_data=e_list, event_id=event_id, overwrite=True)\n"
     ]
    },
    {
     "name": "stdout",
     "output_type": "stream",
     "text": [
      "Writing '/Users/caroleguedj/Desktop/PULSATION_ANAL/ToBIDS/BIDS_data/sourcedata/sub-20/ses-01/sub-20_ses-01_scans.tsv'...\n",
      "Wrote /Users/caroleguedj/Desktop/PULSATION_ANAL/ToBIDS/BIDS_data/sourcedata/sub-20/ses-01/sub-20_ses-01_scans.tsv entry with eeg/sub-20_ses-01_task-N2pc_run-02_eeg.bdf.\n",
      "N2pc\n",
      "Extracting EDF parameters from /Users/caroleguedj/Desktop/PULSATION_ANAL/ToBIDS/test/S12_N2pc_r2.bdf...\n",
      "BDF file detected\n",
      "Setting channel info structure...\n",
      "Creating raw.info structure...\n",
      "Trigger channel has a non-zero initial value of 65536 (consider using initial_event=True to detect this event)\n",
      "484 events found\n",
      "Event IDs: [  1   2   3   4   5   6   7   8 128 129]\n",
      "Extracting EDF parameters from /Users/caroleguedj/Desktop/PULSATION_ANAL/ToBIDS/test/S12_N2pc_r2.bdf...\n",
      "BDF file detected\n",
      "Setting channel info structure...\n",
      "Creating raw.info structure...\n",
      "Writing '/Users/caroleguedj/Desktop/PULSATION_ANAL/ToBIDS/BIDS_data/sourcedata/participants.tsv'...\n",
      "Writing '/Users/caroleguedj/Desktop/PULSATION_ANAL/ToBIDS/BIDS_data/sourcedata/participants.json'...\n",
      "Used Annotations descriptions: ['response/correct', 'response/incorrect', 'stim/dis_bot/target_l', 'stim/dis_bot/target_r', 'stim/dis_left/target_r', 'stim/dis_right/target_l', 'stim/dis_top/target_l', 'stim/dis_top/target_r', 'stim/no_dis/target_l', 'stim/no_dis/target_r']\n",
      "Writing '/Users/caroleguedj/Desktop/PULSATION_ANAL/ToBIDS/BIDS_data/sourcedata/sub-12/ses-01/eeg/sub-12_ses-01_task-N2pc_run-02_events.tsv'...\n",
      "Writing '/Users/caroleguedj/Desktop/PULSATION_ANAL/ToBIDS/BIDS_data/sourcedata/dataset_description.json'...\n",
      "Writing '/Users/caroleguedj/Desktop/PULSATION_ANAL/ToBIDS/BIDS_data/sourcedata/sub-12/ses-01/eeg/sub-12_ses-01_task-N2pc_run-02_eeg.json'...\n",
      "Writing '/Users/caroleguedj/Desktop/PULSATION_ANAL/ToBIDS/BIDS_data/sourcedata/sub-12/ses-01/eeg/sub-12_ses-01_task-N2pc_run-02_channels.tsv'...\n",
      "Copying data files to sub-12_ses-01_task-N2pc_run-02_eeg.bdf\n"
     ]
    },
    {
     "name": "stderr",
     "output_type": "stream",
     "text": [
      "/var/folders/0q/b_1qyqsd0371q_0fyfzg1jt80000gn/T/ipykernel_4621/3441845767.py:36: FutureWarning: The events_data parameter has been deprecated in favor the new events parameter, to ensure better consistency  with MNE-Python. The events_data parameter will be removed in MNE-BIDS 0.14. Please use the events parameter instead.\n",
      "  write_raw_bids(raw, bids_path=bids_path, events_data=e_list, event_id=event_id, overwrite=True)\n"
     ]
    },
    {
     "name": "stdout",
     "output_type": "stream",
     "text": [
      "Writing '/Users/caroleguedj/Desktop/PULSATION_ANAL/ToBIDS/BIDS_data/sourcedata/sub-12/ses-01/sub-12_ses-01_scans.tsv'...\n",
      "Wrote /Users/caroleguedj/Desktop/PULSATION_ANAL/ToBIDS/BIDS_data/sourcedata/sub-12/ses-01/sub-12_ses-01_scans.tsv entry with eeg/sub-12_ses-01_task-N2pc_run-02_eeg.bdf.\n",
      "N2pc\n",
      "Extracting EDF parameters from /Users/caroleguedj/Desktop/PULSATION_ANAL/ToBIDS/test/S07_N2pc_r2.bdf...\n",
      "BDF file detected\n",
      "Setting channel info structure...\n",
      "Creating raw.info structure...\n",
      "485 events found\n",
      "Event IDs: [  1   2   3   4   5   6   7   8 128]\n",
      "Extracting EDF parameters from /Users/caroleguedj/Desktop/PULSATION_ANAL/ToBIDS/test/S07_N2pc_r2.bdf...\n",
      "BDF file detected\n",
      "Setting channel info structure...\n",
      "Creating raw.info structure...\n",
      "Writing '/Users/caroleguedj/Desktop/PULSATION_ANAL/ToBIDS/BIDS_data/sourcedata/participants.tsv'...\n",
      "Writing '/Users/caroleguedj/Desktop/PULSATION_ANAL/ToBIDS/BIDS_data/sourcedata/participants.json'...\n",
      "Used Annotations descriptions: ['response/correct', 'stim/dis_bot/target_l', 'stim/dis_bot/target_r', 'stim/dis_left/target_r', 'stim/dis_right/target_l', 'stim/dis_top/target_l', 'stim/dis_top/target_r', 'stim/no_dis/target_l', 'stim/no_dis/target_r']\n",
      "Writing '/Users/caroleguedj/Desktop/PULSATION_ANAL/ToBIDS/BIDS_data/sourcedata/sub-07/ses-01/eeg/sub-07_ses-01_task-N2pc_run-02_events.tsv'...\n",
      "Writing '/Users/caroleguedj/Desktop/PULSATION_ANAL/ToBIDS/BIDS_data/sourcedata/dataset_description.json'...\n",
      "Writing '/Users/caroleguedj/Desktop/PULSATION_ANAL/ToBIDS/BIDS_data/sourcedata/sub-07/ses-01/eeg/sub-07_ses-01_task-N2pc_run-02_eeg.json'...\n",
      "Writing '/Users/caroleguedj/Desktop/PULSATION_ANAL/ToBIDS/BIDS_data/sourcedata/sub-07/ses-01/eeg/sub-07_ses-01_task-N2pc_run-02_channels.tsv'...\n",
      "Copying data files to sub-07_ses-01_task-N2pc_run-02_eeg.bdf\n"
     ]
    },
    {
     "name": "stderr",
     "output_type": "stream",
     "text": [
      "/var/folders/0q/b_1qyqsd0371q_0fyfzg1jt80000gn/T/ipykernel_4621/3441845767.py:36: FutureWarning: The events_data parameter has been deprecated in favor the new events parameter, to ensure better consistency  with MNE-Python. The events_data parameter will be removed in MNE-BIDS 0.14. Please use the events parameter instead.\n",
      "  write_raw_bids(raw, bids_path=bids_path, events_data=e_list, event_id=event_id, overwrite=True)\n"
     ]
    },
    {
     "name": "stdout",
     "output_type": "stream",
     "text": [
      "Writing '/Users/caroleguedj/Desktop/PULSATION_ANAL/ToBIDS/BIDS_data/sourcedata/sub-07/ses-01/sub-07_ses-01_scans.tsv'...\n",
      "Wrote /Users/caroleguedj/Desktop/PULSATION_ANAL/ToBIDS/BIDS_data/sourcedata/sub-07/ses-01/sub-07_ses-01_scans.tsv entry with eeg/sub-07_ses-01_task-N2pc_run-02_eeg.bdf.\n",
      "N2pc\n",
      "Extracting EDF parameters from /Users/caroleguedj/Desktop/PULSATION_ANAL/ToBIDS/test/P55_N2pc_r1.bdf...\n",
      "BDF file detected\n",
      "Setting channel info structure...\n",
      "Creating raw.info structure...\n",
      "Trigger channel has a non-zero initial value of 65540 (consider using initial_event=True to detect this event)\n",
      "485 events found\n",
      "Event IDs: [  1   2   3   4   5   6   7   8 128 129]\n",
      "Extracting EDF parameters from /Users/caroleguedj/Desktop/PULSATION_ANAL/ToBIDS/test/P55_N2pc_r1.bdf...\n",
      "BDF file detected\n",
      "Setting channel info structure...\n",
      "Creating raw.info structure...\n",
      "Writing '/Users/caroleguedj/Desktop/PULSATION_ANAL/ToBIDS/BIDS_data/sourcedata/participants.tsv'...\n",
      "Writing '/Users/caroleguedj/Desktop/PULSATION_ANAL/ToBIDS/BIDS_data/sourcedata/participants.json'...\n",
      "Used Annotations descriptions: ['response/correct', 'response/incorrect', 'stim/dis_bot/target_l', 'stim/dis_bot/target_r', 'stim/dis_left/target_r', 'stim/dis_right/target_l', 'stim/dis_top/target_l', 'stim/dis_top/target_r', 'stim/no_dis/target_l', 'stim/no_dis/target_r']\n",
      "Writing '/Users/caroleguedj/Desktop/PULSATION_ANAL/ToBIDS/BIDS_data/sourcedata/sub-55/ses-01/eeg/sub-55_ses-01_task-N2pc_run-01_events.tsv'...\n",
      "Writing '/Users/caroleguedj/Desktop/PULSATION_ANAL/ToBIDS/BIDS_data/sourcedata/dataset_description.json'...\n",
      "Writing '/Users/caroleguedj/Desktop/PULSATION_ANAL/ToBIDS/BIDS_data/sourcedata/sub-55/ses-01/eeg/sub-55_ses-01_task-N2pc_run-01_eeg.json'...\n",
      "Writing '/Users/caroleguedj/Desktop/PULSATION_ANAL/ToBIDS/BIDS_data/sourcedata/sub-55/ses-01/eeg/sub-55_ses-01_task-N2pc_run-01_channels.tsv'...\n",
      "Copying data files to sub-55_ses-01_task-N2pc_run-01_eeg.bdf\n"
     ]
    },
    {
     "name": "stderr",
     "output_type": "stream",
     "text": [
      "/var/folders/0q/b_1qyqsd0371q_0fyfzg1jt80000gn/T/ipykernel_4621/3441845767.py:36: FutureWarning: The events_data parameter has been deprecated in favor the new events parameter, to ensure better consistency  with MNE-Python. The events_data parameter will be removed in MNE-BIDS 0.14. Please use the events parameter instead.\n",
      "  write_raw_bids(raw, bids_path=bids_path, events_data=e_list, event_id=event_id, overwrite=True)\n"
     ]
    },
    {
     "name": "stdout",
     "output_type": "stream",
     "text": [
      "Writing '/Users/caroleguedj/Desktop/PULSATION_ANAL/ToBIDS/BIDS_data/sourcedata/sub-55/ses-01/sub-55_ses-01_scans.tsv'...\n",
      "Wrote /Users/caroleguedj/Desktop/PULSATION_ANAL/ToBIDS/BIDS_data/sourcedata/sub-55/ses-01/sub-55_ses-01_scans.tsv entry with eeg/sub-55_ses-01_task-N2pc_run-01_eeg.bdf.\n",
      "N2pc\n",
      "Extracting EDF parameters from /Users/caroleguedj/Desktop/PULSATION_ANAL/ToBIDS/test/S20_N2pc_r1.bdf...\n",
      "BDF file detected\n",
      "Setting channel info structure...\n",
      "Creating raw.info structure...\n",
      "Trigger channel has a non-zero initial value of 65540 (consider using initial_event=True to detect this event)\n",
      "Removing orphaned offset at the beginning of the file.\n",
      "484 events found\n",
      "Event IDs: [  1   2   3   4   5   6   7   8 128 129]\n",
      "Extracting EDF parameters from /Users/caroleguedj/Desktop/PULSATION_ANAL/ToBIDS/test/S20_N2pc_r1.bdf...\n",
      "BDF file detected\n",
      "Setting channel info structure...\n",
      "Creating raw.info structure...\n",
      "Writing '/Users/caroleguedj/Desktop/PULSATION_ANAL/ToBIDS/BIDS_data/sourcedata/participants.tsv'...\n",
      "Writing '/Users/caroleguedj/Desktop/PULSATION_ANAL/ToBIDS/BIDS_data/sourcedata/participants.json'...\n",
      "Used Annotations descriptions: ['response/correct', 'response/incorrect', 'stim/dis_bot/target_l', 'stim/dis_bot/target_r', 'stim/dis_left/target_r', 'stim/dis_right/target_l', 'stim/dis_top/target_l', 'stim/dis_top/target_r', 'stim/no_dis/target_l', 'stim/no_dis/target_r']\n",
      "Writing '/Users/caroleguedj/Desktop/PULSATION_ANAL/ToBIDS/BIDS_data/sourcedata/sub-20/ses-01/eeg/sub-20_ses-01_task-N2pc_run-01_events.tsv'...\n",
      "Writing '/Users/caroleguedj/Desktop/PULSATION_ANAL/ToBIDS/BIDS_data/sourcedata/dataset_description.json'...\n",
      "Writing '/Users/caroleguedj/Desktop/PULSATION_ANAL/ToBIDS/BIDS_data/sourcedata/sub-20/ses-01/eeg/sub-20_ses-01_task-N2pc_run-01_eeg.json'...\n",
      "Writing '/Users/caroleguedj/Desktop/PULSATION_ANAL/ToBIDS/BIDS_data/sourcedata/sub-20/ses-01/eeg/sub-20_ses-01_task-N2pc_run-01_channels.tsv'...\n",
      "Copying data files to sub-20_ses-01_task-N2pc_run-01_eeg.bdf\n"
     ]
    },
    {
     "name": "stderr",
     "output_type": "stream",
     "text": [
      "/var/folders/0q/b_1qyqsd0371q_0fyfzg1jt80000gn/T/ipykernel_4621/3441845767.py:36: FutureWarning: The events_data parameter has been deprecated in favor the new events parameter, to ensure better consistency  with MNE-Python. The events_data parameter will be removed in MNE-BIDS 0.14. Please use the events parameter instead.\n",
      "  write_raw_bids(raw, bids_path=bids_path, events_data=e_list, event_id=event_id, overwrite=True)\n"
     ]
    },
    {
     "name": "stdout",
     "output_type": "stream",
     "text": [
      "Writing '/Users/caroleguedj/Desktop/PULSATION_ANAL/ToBIDS/BIDS_data/sourcedata/sub-20/ses-01/sub-20_ses-01_scans.tsv'...\n",
      "Wrote /Users/caroleguedj/Desktop/PULSATION_ANAL/ToBIDS/BIDS_data/sourcedata/sub-20/ses-01/sub-20_ses-01_scans.tsv entry with eeg/sub-20_ses-01_task-N2pc_run-01_eeg.bdf.\n",
      "N2pc\n",
      "Extracting EDF parameters from /Users/caroleguedj/Desktop/PULSATION_ANAL/ToBIDS/test/S12_N2pc_r1.bdf...\n",
      "BDF file detected\n",
      "Setting channel info structure...\n",
      "Creating raw.info structure...\n",
      "Trigger channel has a non-zero initial value of 65536 (consider using initial_event=True to detect this event)\n",
      "477 events found\n",
      "Event IDs: [  1   2   3   4   5   6   7   8 128 129]\n",
      "Extracting EDF parameters from /Users/caroleguedj/Desktop/PULSATION_ANAL/ToBIDS/test/S12_N2pc_r1.bdf...\n",
      "BDF file detected\n",
      "Setting channel info structure...\n",
      "Creating raw.info structure...\n",
      "Writing '/Users/caroleguedj/Desktop/PULSATION_ANAL/ToBIDS/BIDS_data/sourcedata/participants.tsv'...\n",
      "Writing '/Users/caroleguedj/Desktop/PULSATION_ANAL/ToBIDS/BIDS_data/sourcedata/participants.json'...\n",
      "Used Annotations descriptions: ['response/correct', 'response/incorrect', 'stim/dis_bot/target_l', 'stim/dis_bot/target_r', 'stim/dis_left/target_r', 'stim/dis_right/target_l', 'stim/dis_top/target_l', 'stim/dis_top/target_r', 'stim/no_dis/target_l', 'stim/no_dis/target_r']\n",
      "Writing '/Users/caroleguedj/Desktop/PULSATION_ANAL/ToBIDS/BIDS_data/sourcedata/sub-12/ses-01/eeg/sub-12_ses-01_task-N2pc_run-01_events.tsv'...\n",
      "Writing '/Users/caroleguedj/Desktop/PULSATION_ANAL/ToBIDS/BIDS_data/sourcedata/dataset_description.json'...\n",
      "Writing '/Users/caroleguedj/Desktop/PULSATION_ANAL/ToBIDS/BIDS_data/sourcedata/sub-12/ses-01/eeg/sub-12_ses-01_task-N2pc_run-01_eeg.json'...\n",
      "Writing '/Users/caroleguedj/Desktop/PULSATION_ANAL/ToBIDS/BIDS_data/sourcedata/sub-12/ses-01/eeg/sub-12_ses-01_task-N2pc_run-01_channels.tsv'...\n",
      "Copying data files to sub-12_ses-01_task-N2pc_run-01_eeg.bdf\n"
     ]
    },
    {
     "name": "stderr",
     "output_type": "stream",
     "text": [
      "/var/folders/0q/b_1qyqsd0371q_0fyfzg1jt80000gn/T/ipykernel_4621/3441845767.py:36: FutureWarning: The events_data parameter has been deprecated in favor the new events parameter, to ensure better consistency  with MNE-Python. The events_data parameter will be removed in MNE-BIDS 0.14. Please use the events parameter instead.\n",
      "  write_raw_bids(raw, bids_path=bids_path, events_data=e_list, event_id=event_id, overwrite=True)\n"
     ]
    },
    {
     "name": "stdout",
     "output_type": "stream",
     "text": [
      "Writing '/Users/caroleguedj/Desktop/PULSATION_ANAL/ToBIDS/BIDS_data/sourcedata/sub-12/ses-01/sub-12_ses-01_scans.tsv'...\n",
      "Wrote /Users/caroleguedj/Desktop/PULSATION_ANAL/ToBIDS/BIDS_data/sourcedata/sub-12/ses-01/sub-12_ses-01_scans.tsv entry with eeg/sub-12_ses-01_task-N2pc_run-01_eeg.bdf.\n",
      "N2pc\n",
      "Extracting EDF parameters from /Users/caroleguedj/Desktop/PULSATION_ANAL/ToBIDS/test/S02_N2pc_r2.bdf...\n",
      "BDF file detected\n",
      "Setting channel info structure...\n",
      "Creating raw.info structure...\n",
      "485 events found\n",
      "Event IDs: [  1   2   3   4   5   6   7   8 128 129]\n",
      "Extracting EDF parameters from /Users/caroleguedj/Desktop/PULSATION_ANAL/ToBIDS/test/S02_N2pc_r2.bdf...\n",
      "BDF file detected\n",
      "Setting channel info structure...\n",
      "Creating raw.info structure...\n",
      "Writing '/Users/caroleguedj/Desktop/PULSATION_ANAL/ToBIDS/BIDS_data/sourcedata/participants.tsv'...\n",
      "Writing '/Users/caroleguedj/Desktop/PULSATION_ANAL/ToBIDS/BIDS_data/sourcedata/participants.json'...\n",
      "Used Annotations descriptions: ['response/correct', 'response/incorrect', 'stim/dis_bot/target_l', 'stim/dis_bot/target_r', 'stim/dis_left/target_r', 'stim/dis_right/target_l', 'stim/dis_top/target_l', 'stim/dis_top/target_r', 'stim/no_dis/target_l', 'stim/no_dis/target_r']\n",
      "Writing '/Users/caroleguedj/Desktop/PULSATION_ANAL/ToBIDS/BIDS_data/sourcedata/sub-02/ses-01/eeg/sub-02_ses-01_task-N2pc_run-02_events.tsv'...\n",
      "Writing '/Users/caroleguedj/Desktop/PULSATION_ANAL/ToBIDS/BIDS_data/sourcedata/dataset_description.json'...\n",
      "Writing '/Users/caroleguedj/Desktop/PULSATION_ANAL/ToBIDS/BIDS_data/sourcedata/sub-02/ses-01/eeg/sub-02_ses-01_task-N2pc_run-02_eeg.json'...\n",
      "Writing '/Users/caroleguedj/Desktop/PULSATION_ANAL/ToBIDS/BIDS_data/sourcedata/sub-02/ses-01/eeg/sub-02_ses-01_task-N2pc_run-02_channels.tsv'...\n",
      "Copying data files to sub-02_ses-01_task-N2pc_run-02_eeg.bdf\n"
     ]
    },
    {
     "name": "stderr",
     "output_type": "stream",
     "text": [
      "/var/folders/0q/b_1qyqsd0371q_0fyfzg1jt80000gn/T/ipykernel_4621/3441845767.py:36: FutureWarning: The events_data parameter has been deprecated in favor the new events parameter, to ensure better consistency  with MNE-Python. The events_data parameter will be removed in MNE-BIDS 0.14. Please use the events parameter instead.\n",
      "  write_raw_bids(raw, bids_path=bids_path, events_data=e_list, event_id=event_id, overwrite=True)\n"
     ]
    },
    {
     "name": "stdout",
     "output_type": "stream",
     "text": [
      "Writing '/Users/caroleguedj/Desktop/PULSATION_ANAL/ToBIDS/BIDS_data/sourcedata/sub-02/ses-01/sub-02_ses-01_scans.tsv'...\n",
      "Wrote /Users/caroleguedj/Desktop/PULSATION_ANAL/ToBIDS/BIDS_data/sourcedata/sub-02/ses-01/sub-02_ses-01_scans.tsv entry with eeg/sub-02_ses-01_task-N2pc_run-02_eeg.bdf.\n",
      "N2pc\n",
      "Extracting EDF parameters from /Users/caroleguedj/Desktop/PULSATION_ANAL/ToBIDS/test/S17_N2pc_r1.bdf...\n",
      "BDF file detected\n",
      "Setting channel info structure...\n",
      "Creating raw.info structure...\n",
      "Trigger channel has a non-zero initial value of 65536 (consider using initial_event=True to detect this event)\n",
      "484 events found\n",
      "Event IDs: [  1   2   3   4   5   6   7   8 128 129]\n",
      "Extracting EDF parameters from /Users/caroleguedj/Desktop/PULSATION_ANAL/ToBIDS/test/S17_N2pc_r1.bdf...\n",
      "BDF file detected\n",
      "Setting channel info structure...\n",
      "Creating raw.info structure...\n",
      "Writing '/Users/caroleguedj/Desktop/PULSATION_ANAL/ToBIDS/BIDS_data/sourcedata/participants.tsv'...\n",
      "Writing '/Users/caroleguedj/Desktop/PULSATION_ANAL/ToBIDS/BIDS_data/sourcedata/participants.json'...\n",
      "Used Annotations descriptions: ['response/correct', 'response/incorrect', 'stim/dis_bot/target_l', 'stim/dis_bot/target_r', 'stim/dis_left/target_r', 'stim/dis_right/target_l', 'stim/dis_top/target_l', 'stim/dis_top/target_r', 'stim/no_dis/target_l', 'stim/no_dis/target_r']\n",
      "Writing '/Users/caroleguedj/Desktop/PULSATION_ANAL/ToBIDS/BIDS_data/sourcedata/sub-17/ses-01/eeg/sub-17_ses-01_task-N2pc_run-01_events.tsv'...\n",
      "Writing '/Users/caroleguedj/Desktop/PULSATION_ANAL/ToBIDS/BIDS_data/sourcedata/dataset_description.json'...\n",
      "Writing '/Users/caroleguedj/Desktop/PULSATION_ANAL/ToBIDS/BIDS_data/sourcedata/sub-17/ses-01/eeg/sub-17_ses-01_task-N2pc_run-01_eeg.json'...\n",
      "Writing '/Users/caroleguedj/Desktop/PULSATION_ANAL/ToBIDS/BIDS_data/sourcedata/sub-17/ses-01/eeg/sub-17_ses-01_task-N2pc_run-01_channels.tsv'...\n",
      "Copying data files to sub-17_ses-01_task-N2pc_run-01_eeg.bdf\n"
     ]
    },
    {
     "name": "stderr",
     "output_type": "stream",
     "text": [
      "/var/folders/0q/b_1qyqsd0371q_0fyfzg1jt80000gn/T/ipykernel_4621/3441845767.py:36: FutureWarning: The events_data parameter has been deprecated in favor the new events parameter, to ensure better consistency  with MNE-Python. The events_data parameter will be removed in MNE-BIDS 0.14. Please use the events parameter instead.\n",
      "  write_raw_bids(raw, bids_path=bids_path, events_data=e_list, event_id=event_id, overwrite=True)\n"
     ]
    },
    {
     "name": "stdout",
     "output_type": "stream",
     "text": [
      "Writing '/Users/caroleguedj/Desktop/PULSATION_ANAL/ToBIDS/BIDS_data/sourcedata/sub-17/ses-01/sub-17_ses-01_scans.tsv'...\n",
      "Wrote /Users/caroleguedj/Desktop/PULSATION_ANAL/ToBIDS/BIDS_data/sourcedata/sub-17/ses-01/sub-17_ses-01_scans.tsv entry with eeg/sub-17_ses-01_task-N2pc_run-01_eeg.bdf.\n",
      "N2pc\n",
      "Extracting EDF parameters from /Users/caroleguedj/Desktop/PULSATION_ANAL/ToBIDS/test/S02_N2pc_r1.bdf...\n",
      "BDF file detected\n",
      "Setting channel info structure...\n",
      "Creating raw.info structure...\n",
      "Trigger channel has a non-zero initial value of 4 (consider using initial_event=True to detect this event)\n",
      "485 events found\n",
      "Event IDs: [  1   2   3   4   5   6   7   8 128 129]\n",
      "Extracting EDF parameters from /Users/caroleguedj/Desktop/PULSATION_ANAL/ToBIDS/test/S02_N2pc_r1.bdf...\n",
      "BDF file detected\n",
      "Setting channel info structure...\n",
      "Creating raw.info structure...\n",
      "Writing '/Users/caroleguedj/Desktop/PULSATION_ANAL/ToBIDS/BIDS_data/sourcedata/participants.tsv'...\n",
      "Writing '/Users/caroleguedj/Desktop/PULSATION_ANAL/ToBIDS/BIDS_data/sourcedata/participants.json'...\n",
      "Used Annotations descriptions: ['response/correct', 'response/incorrect', 'stim/dis_bot/target_l', 'stim/dis_bot/target_r', 'stim/dis_left/target_r', 'stim/dis_right/target_l', 'stim/dis_top/target_l', 'stim/dis_top/target_r', 'stim/no_dis/target_l', 'stim/no_dis/target_r']\n",
      "Writing '/Users/caroleguedj/Desktop/PULSATION_ANAL/ToBIDS/BIDS_data/sourcedata/sub-02/ses-01/eeg/sub-02_ses-01_task-N2pc_run-01_events.tsv'...\n",
      "Writing '/Users/caroleguedj/Desktop/PULSATION_ANAL/ToBIDS/BIDS_data/sourcedata/dataset_description.json'...\n",
      "Writing '/Users/caroleguedj/Desktop/PULSATION_ANAL/ToBIDS/BIDS_data/sourcedata/sub-02/ses-01/eeg/sub-02_ses-01_task-N2pc_run-01_eeg.json'...\n",
      "Writing '/Users/caroleguedj/Desktop/PULSATION_ANAL/ToBIDS/BIDS_data/sourcedata/sub-02/ses-01/eeg/sub-02_ses-01_task-N2pc_run-01_channels.tsv'...\n",
      "Copying data files to sub-02_ses-01_task-N2pc_run-01_eeg.bdf\n"
     ]
    },
    {
     "name": "stderr",
     "output_type": "stream",
     "text": [
      "/var/folders/0q/b_1qyqsd0371q_0fyfzg1jt80000gn/T/ipykernel_4621/3441845767.py:36: FutureWarning: The events_data parameter has been deprecated in favor the new events parameter, to ensure better consistency  with MNE-Python. The events_data parameter will be removed in MNE-BIDS 0.14. Please use the events parameter instead.\n",
      "  write_raw_bids(raw, bids_path=bids_path, events_data=e_list, event_id=event_id, overwrite=True)\n"
     ]
    },
    {
     "name": "stdout",
     "output_type": "stream",
     "text": [
      "Writing '/Users/caroleguedj/Desktop/PULSATION_ANAL/ToBIDS/BIDS_data/sourcedata/sub-02/ses-01/sub-02_ses-01_scans.tsv'...\n",
      "Wrote /Users/caroleguedj/Desktop/PULSATION_ANAL/ToBIDS/BIDS_data/sourcedata/sub-02/ses-01/sub-02_ses-01_scans.tsv entry with eeg/sub-02_ses-01_task-N2pc_run-01_eeg.bdf.\n",
      "N2pc\n",
      "Extracting EDF parameters from /Users/caroleguedj/Desktop/PULSATION_ANAL/ToBIDS/test/S17_N2pc_r2.bdf...\n",
      "BDF file detected\n",
      "Setting channel info structure...\n",
      "Creating raw.info structure...\n",
      "Trigger channel has a non-zero initial value of 65536 (consider using initial_event=True to detect this event)\n",
      "484 events found\n",
      "Event IDs: [  1   2   3   4   5   6   7   8 128]\n",
      "Extracting EDF parameters from /Users/caroleguedj/Desktop/PULSATION_ANAL/ToBIDS/test/S17_N2pc_r2.bdf...\n",
      "BDF file detected\n",
      "Setting channel info structure...\n",
      "Creating raw.info structure...\n",
      "Writing '/Users/caroleguedj/Desktop/PULSATION_ANAL/ToBIDS/BIDS_data/sourcedata/participants.tsv'...\n",
      "Writing '/Users/caroleguedj/Desktop/PULSATION_ANAL/ToBIDS/BIDS_data/sourcedata/participants.json'...\n",
      "Used Annotations descriptions: ['response/correct', 'stim/dis_bot/target_l', 'stim/dis_bot/target_r', 'stim/dis_left/target_r', 'stim/dis_right/target_l', 'stim/dis_top/target_l', 'stim/dis_top/target_r', 'stim/no_dis/target_l', 'stim/no_dis/target_r']\n",
      "Writing '/Users/caroleguedj/Desktop/PULSATION_ANAL/ToBIDS/BIDS_data/sourcedata/sub-17/ses-01/eeg/sub-17_ses-01_task-N2pc_run-02_events.tsv'...\n",
      "Writing '/Users/caroleguedj/Desktop/PULSATION_ANAL/ToBIDS/BIDS_data/sourcedata/dataset_description.json'...\n",
      "Writing '/Users/caroleguedj/Desktop/PULSATION_ANAL/ToBIDS/BIDS_data/sourcedata/sub-17/ses-01/eeg/sub-17_ses-01_task-N2pc_run-02_eeg.json'...\n",
      "Writing '/Users/caroleguedj/Desktop/PULSATION_ANAL/ToBIDS/BIDS_data/sourcedata/sub-17/ses-01/eeg/sub-17_ses-01_task-N2pc_run-02_channels.tsv'...\n",
      "Copying data files to sub-17_ses-01_task-N2pc_run-02_eeg.bdf\n"
     ]
    },
    {
     "name": "stderr",
     "output_type": "stream",
     "text": [
      "/var/folders/0q/b_1qyqsd0371q_0fyfzg1jt80000gn/T/ipykernel_4621/3441845767.py:36: FutureWarning: The events_data parameter has been deprecated in favor the new events parameter, to ensure better consistency  with MNE-Python. The events_data parameter will be removed in MNE-BIDS 0.14. Please use the events parameter instead.\n",
      "  write_raw_bids(raw, bids_path=bids_path, events_data=e_list, event_id=event_id, overwrite=True)\n"
     ]
    },
    {
     "name": "stdout",
     "output_type": "stream",
     "text": [
      "Writing '/Users/caroleguedj/Desktop/PULSATION_ANAL/ToBIDS/BIDS_data/sourcedata/sub-17/ses-01/sub-17_ses-01_scans.tsv'...\n",
      "Wrote /Users/caroleguedj/Desktop/PULSATION_ANAL/ToBIDS/BIDS_data/sourcedata/sub-17/ses-01/sub-17_ses-01_scans.tsv entry with eeg/sub-17_ses-01_task-N2pc_run-02_eeg.bdf.\n",
      "N2pc\n",
      "Extracting EDF parameters from /Users/caroleguedj/Desktop/PULSATION_ANAL/ToBIDS/test/S14_N2pc_r2.bdf...\n",
      "BDF file detected\n",
      "Setting channel info structure...\n",
      "Creating raw.info structure...\n",
      "Trigger channel has a non-zero initial value of 65536 (consider using initial_event=True to detect this event)\n",
      "484 events found\n",
      "Event IDs: [  1   2   3   4   5   6   7   8 128]\n",
      "Extracting EDF parameters from /Users/caroleguedj/Desktop/PULSATION_ANAL/ToBIDS/test/S14_N2pc_r2.bdf...\n",
      "BDF file detected\n",
      "Setting channel info structure...\n",
      "Creating raw.info structure...\n",
      "Writing '/Users/caroleguedj/Desktop/PULSATION_ANAL/ToBIDS/BIDS_data/sourcedata/participants.tsv'...\n",
      "Writing '/Users/caroleguedj/Desktop/PULSATION_ANAL/ToBIDS/BIDS_data/sourcedata/participants.json'...\n",
      "Used Annotations descriptions: ['response/correct', 'stim/dis_bot/target_l', 'stim/dis_bot/target_r', 'stim/dis_left/target_r', 'stim/dis_right/target_l', 'stim/dis_top/target_l', 'stim/dis_top/target_r', 'stim/no_dis/target_l', 'stim/no_dis/target_r']\n",
      "Writing '/Users/caroleguedj/Desktop/PULSATION_ANAL/ToBIDS/BIDS_data/sourcedata/sub-14/ses-01/eeg/sub-14_ses-01_task-N2pc_run-02_events.tsv'...\n",
      "Writing '/Users/caroleguedj/Desktop/PULSATION_ANAL/ToBIDS/BIDS_data/sourcedata/dataset_description.json'...\n",
      "Writing '/Users/caroleguedj/Desktop/PULSATION_ANAL/ToBIDS/BIDS_data/sourcedata/sub-14/ses-01/eeg/sub-14_ses-01_task-N2pc_run-02_eeg.json'...\n",
      "Writing '/Users/caroleguedj/Desktop/PULSATION_ANAL/ToBIDS/BIDS_data/sourcedata/sub-14/ses-01/eeg/sub-14_ses-01_task-N2pc_run-02_channels.tsv'...\n",
      "Copying data files to sub-14_ses-01_task-N2pc_run-02_eeg.bdf\n"
     ]
    },
    {
     "name": "stderr",
     "output_type": "stream",
     "text": [
      "/var/folders/0q/b_1qyqsd0371q_0fyfzg1jt80000gn/T/ipykernel_4621/3441845767.py:36: FutureWarning: The events_data parameter has been deprecated in favor the new events parameter, to ensure better consistency  with MNE-Python. The events_data parameter will be removed in MNE-BIDS 0.14. Please use the events parameter instead.\n",
      "  write_raw_bids(raw, bids_path=bids_path, events_data=e_list, event_id=event_id, overwrite=True)\n"
     ]
    },
    {
     "name": "stdout",
     "output_type": "stream",
     "text": [
      "Writing '/Users/caroleguedj/Desktop/PULSATION_ANAL/ToBIDS/BIDS_data/sourcedata/sub-14/ses-01/sub-14_ses-01_scans.tsv'...\n",
      "Wrote /Users/caroleguedj/Desktop/PULSATION_ANAL/ToBIDS/BIDS_data/sourcedata/sub-14/ses-01/sub-14_ses-01_scans.tsv entry with eeg/sub-14_ses-01_task-N2pc_run-02_eeg.bdf.\n",
      "N2pc\n",
      "Extracting EDF parameters from /Users/caroleguedj/Desktop/PULSATION_ANAL/ToBIDS/test/S08_N2pc_r2.bdf...\n",
      "BDF file detected\n",
      "Setting channel info structure...\n",
      "Creating raw.info structure...\n",
      "485 events found\n",
      "Event IDs: [  1   2   3   4   5   6   7   8 128]\n",
      "Extracting EDF parameters from /Users/caroleguedj/Desktop/PULSATION_ANAL/ToBIDS/test/S08_N2pc_r2.bdf...\n",
      "BDF file detected\n",
      "Setting channel info structure...\n",
      "Creating raw.info structure...\n",
      "Writing '/Users/caroleguedj/Desktop/PULSATION_ANAL/ToBIDS/BIDS_data/sourcedata/participants.tsv'...\n",
      "Writing '/Users/caroleguedj/Desktop/PULSATION_ANAL/ToBIDS/BIDS_data/sourcedata/participants.json'...\n",
      "Used Annotations descriptions: ['response/correct', 'stim/dis_bot/target_l', 'stim/dis_bot/target_r', 'stim/dis_left/target_r', 'stim/dis_right/target_l', 'stim/dis_top/target_l', 'stim/dis_top/target_r', 'stim/no_dis/target_l', 'stim/no_dis/target_r']\n",
      "Writing '/Users/caroleguedj/Desktop/PULSATION_ANAL/ToBIDS/BIDS_data/sourcedata/sub-08/ses-01/eeg/sub-08_ses-01_task-N2pc_run-02_events.tsv'...\n",
      "Writing '/Users/caroleguedj/Desktop/PULSATION_ANAL/ToBIDS/BIDS_data/sourcedata/dataset_description.json'...\n",
      "Writing '/Users/caroleguedj/Desktop/PULSATION_ANAL/ToBIDS/BIDS_data/sourcedata/sub-08/ses-01/eeg/sub-08_ses-01_task-N2pc_run-02_eeg.json'...\n",
      "Writing '/Users/caroleguedj/Desktop/PULSATION_ANAL/ToBIDS/BIDS_data/sourcedata/sub-08/ses-01/eeg/sub-08_ses-01_task-N2pc_run-02_channels.tsv'...\n",
      "Copying data files to sub-08_ses-01_task-N2pc_run-02_eeg.bdf\n"
     ]
    },
    {
     "name": "stderr",
     "output_type": "stream",
     "text": [
      "/var/folders/0q/b_1qyqsd0371q_0fyfzg1jt80000gn/T/ipykernel_4621/3441845767.py:36: FutureWarning: The events_data parameter has been deprecated in favor the new events parameter, to ensure better consistency  with MNE-Python. The events_data parameter will be removed in MNE-BIDS 0.14. Please use the events parameter instead.\n",
      "  write_raw_bids(raw, bids_path=bids_path, events_data=e_list, event_id=event_id, overwrite=True)\n"
     ]
    },
    {
     "name": "stdout",
     "output_type": "stream",
     "text": [
      "Writing '/Users/caroleguedj/Desktop/PULSATION_ANAL/ToBIDS/BIDS_data/sourcedata/sub-08/ses-01/sub-08_ses-01_scans.tsv'...\n",
      "Wrote /Users/caroleguedj/Desktop/PULSATION_ANAL/ToBIDS/BIDS_data/sourcedata/sub-08/ses-01/sub-08_ses-01_scans.tsv entry with eeg/sub-08_ses-01_task-N2pc_run-02_eeg.bdf.\n",
      "N2pc\n",
      "Extracting EDF parameters from /Users/caroleguedj/Desktop/PULSATION_ANAL/ToBIDS/test/P53_N2pc_r2.bdf...\n",
      "BDF file detected\n",
      "Setting channel info structure...\n",
      "Creating raw.info structure...\n",
      "Trigger channel has a non-zero initial value of 65536 (consider using initial_event=True to detect this event)\n",
      "483 events found\n",
      "Event IDs: [  1   2   3   4   5   6   7   8 128 129]\n",
      "Extracting EDF parameters from /Users/caroleguedj/Desktop/PULSATION_ANAL/ToBIDS/test/P53_N2pc_r2.bdf...\n",
      "BDF file detected\n",
      "Setting channel info structure...\n",
      "Creating raw.info structure...\n",
      "Writing '/Users/caroleguedj/Desktop/PULSATION_ANAL/ToBIDS/BIDS_data/sourcedata/participants.tsv'...\n",
      "Writing '/Users/caroleguedj/Desktop/PULSATION_ANAL/ToBIDS/BIDS_data/sourcedata/participants.json'...\n",
      "Used Annotations descriptions: ['response/correct', 'response/incorrect', 'stim/dis_bot/target_l', 'stim/dis_bot/target_r', 'stim/dis_left/target_r', 'stim/dis_right/target_l', 'stim/dis_top/target_l', 'stim/dis_top/target_r', 'stim/no_dis/target_l', 'stim/no_dis/target_r']\n",
      "Writing '/Users/caroleguedj/Desktop/PULSATION_ANAL/ToBIDS/BIDS_data/sourcedata/sub-53/ses-01/eeg/sub-53_ses-01_task-N2pc_run-02_events.tsv'...\n",
      "Writing '/Users/caroleguedj/Desktop/PULSATION_ANAL/ToBIDS/BIDS_data/sourcedata/dataset_description.json'...\n",
      "Writing '/Users/caroleguedj/Desktop/PULSATION_ANAL/ToBIDS/BIDS_data/sourcedata/sub-53/ses-01/eeg/sub-53_ses-01_task-N2pc_run-02_eeg.json'...\n",
      "Writing '/Users/caroleguedj/Desktop/PULSATION_ANAL/ToBIDS/BIDS_data/sourcedata/sub-53/ses-01/eeg/sub-53_ses-01_task-N2pc_run-02_channels.tsv'...\n",
      "Copying data files to sub-53_ses-01_task-N2pc_run-02_eeg.bdf\n"
     ]
    },
    {
     "name": "stderr",
     "output_type": "stream",
     "text": [
      "/var/folders/0q/b_1qyqsd0371q_0fyfzg1jt80000gn/T/ipykernel_4621/3441845767.py:36: FutureWarning: The events_data parameter has been deprecated in favor the new events parameter, to ensure better consistency  with MNE-Python. The events_data parameter will be removed in MNE-BIDS 0.14. Please use the events parameter instead.\n",
      "  write_raw_bids(raw, bids_path=bids_path, events_data=e_list, event_id=event_id, overwrite=True)\n"
     ]
    },
    {
     "name": "stdout",
     "output_type": "stream",
     "text": [
      "Writing '/Users/caroleguedj/Desktop/PULSATION_ANAL/ToBIDS/BIDS_data/sourcedata/sub-53/ses-01/sub-53_ses-01_scans.tsv'...\n",
      "Wrote /Users/caroleguedj/Desktop/PULSATION_ANAL/ToBIDS/BIDS_data/sourcedata/sub-53/ses-01/sub-53_ses-01_scans.tsv entry with eeg/sub-53_ses-01_task-N2pc_run-02_eeg.bdf.\n",
      "N2pc\n",
      "Extracting EDF parameters from /Users/caroleguedj/Desktop/PULSATION_ANAL/ToBIDS/test/S01_N2pc_r1.bdf...\n",
      "BDF file detected\n",
      "Setting channel info structure...\n",
      "Creating raw.info structure...\n",
      "Trigger channel has a non-zero initial value of 65536 (consider using initial_event=True to detect this event)\n",
      "63 events found\n",
      "Event IDs: [  1   2   3   4   5   6   7   8 128]\n",
      "Extracting EDF parameters from /Users/caroleguedj/Desktop/PULSATION_ANAL/ToBIDS/test/S01_N2pc_r1.bdf...\n",
      "BDF file detected\n",
      "Setting channel info structure...\n",
      "Creating raw.info structure...\n",
      "Writing '/Users/caroleguedj/Desktop/PULSATION_ANAL/ToBIDS/BIDS_data/sourcedata/participants.tsv'...\n",
      "Writing '/Users/caroleguedj/Desktop/PULSATION_ANAL/ToBIDS/BIDS_data/sourcedata/participants.json'...\n",
      "Used Annotations descriptions: ['response/correct', 'stim/dis_bot/target_l', 'stim/dis_bot/target_r', 'stim/dis_left/target_r', 'stim/dis_right/target_l', 'stim/dis_top/target_l', 'stim/dis_top/target_r', 'stim/no_dis/target_l', 'stim/no_dis/target_r']\n",
      "Writing '/Users/caroleguedj/Desktop/PULSATION_ANAL/ToBIDS/BIDS_data/sourcedata/sub-01/ses-01/eeg/sub-01_ses-01_task-N2pc_run-01_events.tsv'...\n",
      "Writing '/Users/caroleguedj/Desktop/PULSATION_ANAL/ToBIDS/BIDS_data/sourcedata/dataset_description.json'...\n",
      "Writing '/Users/caroleguedj/Desktop/PULSATION_ANAL/ToBIDS/BIDS_data/sourcedata/sub-01/ses-01/eeg/sub-01_ses-01_task-N2pc_run-01_eeg.json'...\n",
      "Writing '/Users/caroleguedj/Desktop/PULSATION_ANAL/ToBIDS/BIDS_data/sourcedata/sub-01/ses-01/eeg/sub-01_ses-01_task-N2pc_run-01_channels.tsv'...\n",
      "Copying data files to sub-01_ses-01_task-N2pc_run-01_eeg.bdf\n",
      "Writing '/Users/caroleguedj/Desktop/PULSATION_ANAL/ToBIDS/BIDS_data/sourcedata/sub-01/ses-01/sub-01_ses-01_scans.tsv'...\n",
      "Wrote /Users/caroleguedj/Desktop/PULSATION_ANAL/ToBIDS/BIDS_data/sourcedata/sub-01/ses-01/sub-01_ses-01_scans.tsv entry with eeg/sub-01_ses-01_task-N2pc_run-01_eeg.bdf.\n",
      "N2pc\n",
      "Extracting EDF parameters from /Users/caroleguedj/Desktop/PULSATION_ANAL/ToBIDS/test/S14_N2pc_r1.bdf...\n",
      "BDF file detected\n",
      "Setting channel info structure...\n",
      "Creating raw.info structure...\n"
     ]
    },
    {
     "name": "stderr",
     "output_type": "stream",
     "text": [
      "/var/folders/0q/b_1qyqsd0371q_0fyfzg1jt80000gn/T/ipykernel_4621/3441845767.py:36: FutureWarning: The events_data parameter has been deprecated in favor the new events parameter, to ensure better consistency  with MNE-Python. The events_data parameter will be removed in MNE-BIDS 0.14. Please use the events parameter instead.\n",
      "  write_raw_bids(raw, bids_path=bids_path, events_data=e_list, event_id=event_id, overwrite=True)\n"
     ]
    },
    {
     "name": "stdout",
     "output_type": "stream",
     "text": [
      "Trigger channel has a non-zero initial value of 65540 (consider using initial_event=True to detect this event)\n",
      "Removing orphaned offset at the beginning of the file.\n",
      "483 events found\n",
      "Event IDs: [  1   2   3   4   5   6   7   8 128 129]\n",
      "Extracting EDF parameters from /Users/caroleguedj/Desktop/PULSATION_ANAL/ToBIDS/test/S14_N2pc_r1.bdf...\n",
      "BDF file detected\n",
      "Setting channel info structure...\n",
      "Creating raw.info structure...\n",
      "Writing '/Users/caroleguedj/Desktop/PULSATION_ANAL/ToBIDS/BIDS_data/sourcedata/participants.tsv'...\n",
      "Writing '/Users/caroleguedj/Desktop/PULSATION_ANAL/ToBIDS/BIDS_data/sourcedata/participants.json'...\n",
      "Used Annotations descriptions: ['response/correct', 'response/incorrect', 'stim/dis_bot/target_l', 'stim/dis_bot/target_r', 'stim/dis_left/target_r', 'stim/dis_right/target_l', 'stim/dis_top/target_l', 'stim/dis_top/target_r', 'stim/no_dis/target_l', 'stim/no_dis/target_r']\n",
      "Writing '/Users/caroleguedj/Desktop/PULSATION_ANAL/ToBIDS/BIDS_data/sourcedata/sub-14/ses-01/eeg/sub-14_ses-01_task-N2pc_run-01_events.tsv'...\n",
      "Writing '/Users/caroleguedj/Desktop/PULSATION_ANAL/ToBIDS/BIDS_data/sourcedata/dataset_description.json'...\n",
      "Writing '/Users/caroleguedj/Desktop/PULSATION_ANAL/ToBIDS/BIDS_data/sourcedata/sub-14/ses-01/eeg/sub-14_ses-01_task-N2pc_run-01_eeg.json'...\n",
      "Writing '/Users/caroleguedj/Desktop/PULSATION_ANAL/ToBIDS/BIDS_data/sourcedata/sub-14/ses-01/eeg/sub-14_ses-01_task-N2pc_run-01_channels.tsv'...\n",
      "Copying data files to sub-14_ses-01_task-N2pc_run-01_eeg.bdf\n"
     ]
    },
    {
     "name": "stderr",
     "output_type": "stream",
     "text": [
      "/var/folders/0q/b_1qyqsd0371q_0fyfzg1jt80000gn/T/ipykernel_4621/3441845767.py:36: FutureWarning: The events_data parameter has been deprecated in favor the new events parameter, to ensure better consistency  with MNE-Python. The events_data parameter will be removed in MNE-BIDS 0.14. Please use the events parameter instead.\n",
      "  write_raw_bids(raw, bids_path=bids_path, events_data=e_list, event_id=event_id, overwrite=True)\n"
     ]
    },
    {
     "name": "stdout",
     "output_type": "stream",
     "text": [
      "Writing '/Users/caroleguedj/Desktop/PULSATION_ANAL/ToBIDS/BIDS_data/sourcedata/sub-14/ses-01/sub-14_ses-01_scans.tsv'...\n",
      "Wrote /Users/caroleguedj/Desktop/PULSATION_ANAL/ToBIDS/BIDS_data/sourcedata/sub-14/ses-01/sub-14_ses-01_scans.tsv entry with eeg/sub-14_ses-01_task-N2pc_run-01_eeg.bdf.\n",
      "N2pc\n",
      "Extracting EDF parameters from /Users/caroleguedj/Desktop/PULSATION_ANAL/ToBIDS/test/S08_N2pc_r1.bdf...\n",
      "BDF file detected\n",
      "Setting channel info structure...\n",
      "Creating raw.info structure...\n",
      "Trigger channel has a non-zero initial value of 65536 (consider using initial_event=True to detect this event)\n",
      "480 events found\n",
      "Event IDs: [  1   2   3   4   5   6   7   8 128 129]\n",
      "Extracting EDF parameters from /Users/caroleguedj/Desktop/PULSATION_ANAL/ToBIDS/test/S08_N2pc_r1.bdf...\n",
      "BDF file detected\n",
      "Setting channel info structure...\n",
      "Creating raw.info structure...\n",
      "Writing '/Users/caroleguedj/Desktop/PULSATION_ANAL/ToBIDS/BIDS_data/sourcedata/participants.tsv'...\n",
      "Writing '/Users/caroleguedj/Desktop/PULSATION_ANAL/ToBIDS/BIDS_data/sourcedata/participants.json'...\n",
      "Used Annotations descriptions: ['response/correct', 'response/incorrect', 'stim/dis_bot/target_l', 'stim/dis_bot/target_r', 'stim/dis_left/target_r', 'stim/dis_right/target_l', 'stim/dis_top/target_l', 'stim/dis_top/target_r', 'stim/no_dis/target_l', 'stim/no_dis/target_r']\n",
      "Writing '/Users/caroleguedj/Desktop/PULSATION_ANAL/ToBIDS/BIDS_data/sourcedata/sub-08/ses-01/eeg/sub-08_ses-01_task-N2pc_run-01_events.tsv'...\n",
      "Writing '/Users/caroleguedj/Desktop/PULSATION_ANAL/ToBIDS/BIDS_data/sourcedata/dataset_description.json'...\n",
      "Writing '/Users/caroleguedj/Desktop/PULSATION_ANAL/ToBIDS/BIDS_data/sourcedata/sub-08/ses-01/eeg/sub-08_ses-01_task-N2pc_run-01_eeg.json'...\n",
      "Writing '/Users/caroleguedj/Desktop/PULSATION_ANAL/ToBIDS/BIDS_data/sourcedata/sub-08/ses-01/eeg/sub-08_ses-01_task-N2pc_run-01_channels.tsv'...\n",
      "Copying data files to sub-08_ses-01_task-N2pc_run-01_eeg.bdf\n"
     ]
    },
    {
     "name": "stderr",
     "output_type": "stream",
     "text": [
      "/var/folders/0q/b_1qyqsd0371q_0fyfzg1jt80000gn/T/ipykernel_4621/3441845767.py:36: FutureWarning: The events_data parameter has been deprecated in favor the new events parameter, to ensure better consistency  with MNE-Python. The events_data parameter will be removed in MNE-BIDS 0.14. Please use the events parameter instead.\n",
      "  write_raw_bids(raw, bids_path=bids_path, events_data=e_list, event_id=event_id, overwrite=True)\n"
     ]
    },
    {
     "name": "stdout",
     "output_type": "stream",
     "text": [
      "Writing '/Users/caroleguedj/Desktop/PULSATION_ANAL/ToBIDS/BIDS_data/sourcedata/sub-08/ses-01/sub-08_ses-01_scans.tsv'...\n",
      "Wrote /Users/caroleguedj/Desktop/PULSATION_ANAL/ToBIDS/BIDS_data/sourcedata/sub-08/ses-01/sub-08_ses-01_scans.tsv entry with eeg/sub-08_ses-01_task-N2pc_run-01_eeg.bdf.\n",
      "N2pc\n",
      "Extracting EDF parameters from /Users/caroleguedj/Desktop/PULSATION_ANAL/ToBIDS/test/P53_N2pc_r1.bdf...\n",
      "BDF file detected\n",
      "Setting channel info structure...\n",
      "Creating raw.info structure...\n",
      "Trigger channel has a non-zero initial value of 65536 (consider using initial_event=True to detect this event)\n",
      "481 events found\n",
      "Event IDs: [  1   2   3   4   5   6   7   8 128 129]\n",
      "Extracting EDF parameters from /Users/caroleguedj/Desktop/PULSATION_ANAL/ToBIDS/test/P53_N2pc_r1.bdf...\n",
      "BDF file detected\n",
      "Setting channel info structure...\n",
      "Creating raw.info structure...\n",
      "Writing '/Users/caroleguedj/Desktop/PULSATION_ANAL/ToBIDS/BIDS_data/sourcedata/participants.tsv'...\n",
      "Writing '/Users/caroleguedj/Desktop/PULSATION_ANAL/ToBIDS/BIDS_data/sourcedata/participants.json'...\n",
      "Used Annotations descriptions: ['response/correct', 'response/incorrect', 'stim/dis_bot/target_l', 'stim/dis_bot/target_r', 'stim/dis_left/target_r', 'stim/dis_right/target_l', 'stim/dis_top/target_l', 'stim/dis_top/target_r', 'stim/no_dis/target_l', 'stim/no_dis/target_r']\n",
      "Writing '/Users/caroleguedj/Desktop/PULSATION_ANAL/ToBIDS/BIDS_data/sourcedata/sub-53/ses-01/eeg/sub-53_ses-01_task-N2pc_run-01_events.tsv'...\n",
      "Writing '/Users/caroleguedj/Desktop/PULSATION_ANAL/ToBIDS/BIDS_data/sourcedata/dataset_description.json'...\n",
      "Writing '/Users/caroleguedj/Desktop/PULSATION_ANAL/ToBIDS/BIDS_data/sourcedata/sub-53/ses-01/eeg/sub-53_ses-01_task-N2pc_run-01_eeg.json'...\n",
      "Writing '/Users/caroleguedj/Desktop/PULSATION_ANAL/ToBIDS/BIDS_data/sourcedata/sub-53/ses-01/eeg/sub-53_ses-01_task-N2pc_run-01_channels.tsv'...\n",
      "Copying data files to sub-53_ses-01_task-N2pc_run-01_eeg.bdf\n"
     ]
    },
    {
     "name": "stderr",
     "output_type": "stream",
     "text": [
      "/var/folders/0q/b_1qyqsd0371q_0fyfzg1jt80000gn/T/ipykernel_4621/3441845767.py:36: FutureWarning: The events_data parameter has been deprecated in favor the new events parameter, to ensure better consistency  with MNE-Python. The events_data parameter will be removed in MNE-BIDS 0.14. Please use the events parameter instead.\n",
      "  write_raw_bids(raw, bids_path=bids_path, events_data=e_list, event_id=event_id, overwrite=True)\n"
     ]
    },
    {
     "name": "stdout",
     "output_type": "stream",
     "text": [
      "Writing '/Users/caroleguedj/Desktop/PULSATION_ANAL/ToBIDS/BIDS_data/sourcedata/sub-53/ses-01/sub-53_ses-01_scans.tsv'...\n",
      "Wrote /Users/caroleguedj/Desktop/PULSATION_ANAL/ToBIDS/BIDS_data/sourcedata/sub-53/ses-01/sub-53_ses-01_scans.tsv entry with eeg/sub-53_ses-01_task-N2pc_run-01_eeg.bdf.\n",
      "N2pc\n",
      "Extracting EDF parameters from /Users/caroleguedj/Desktop/PULSATION_ANAL/ToBIDS/test/S01_N2pc_r2.bdf...\n",
      "BDF file detected\n",
      "Setting channel info structure...\n",
      "Creating raw.info structure...\n",
      "Trigger channel has a non-zero initial value of 65536 (consider using initial_event=True to detect this event)\n",
      "485 events found\n",
      "Event IDs: [  1   2   3   4   5   6   7   8 128]\n",
      "Extracting EDF parameters from /Users/caroleguedj/Desktop/PULSATION_ANAL/ToBIDS/test/S01_N2pc_r2.bdf...\n",
      "BDF file detected\n",
      "Setting channel info structure...\n",
      "Creating raw.info structure...\n",
      "Writing '/Users/caroleguedj/Desktop/PULSATION_ANAL/ToBIDS/BIDS_data/sourcedata/participants.tsv'...\n",
      "Writing '/Users/caroleguedj/Desktop/PULSATION_ANAL/ToBIDS/BIDS_data/sourcedata/participants.json'...\n",
      "Used Annotations descriptions: ['response/correct', 'stim/dis_bot/target_l', 'stim/dis_bot/target_r', 'stim/dis_left/target_r', 'stim/dis_right/target_l', 'stim/dis_top/target_l', 'stim/dis_top/target_r', 'stim/no_dis/target_l', 'stim/no_dis/target_r']\n",
      "Writing '/Users/caroleguedj/Desktop/PULSATION_ANAL/ToBIDS/BIDS_data/sourcedata/sub-01/ses-01/eeg/sub-01_ses-01_task-N2pc_run-02_events.tsv'...\n",
      "Writing '/Users/caroleguedj/Desktop/PULSATION_ANAL/ToBIDS/BIDS_data/sourcedata/dataset_description.json'...\n",
      "Writing '/Users/caroleguedj/Desktop/PULSATION_ANAL/ToBIDS/BIDS_data/sourcedata/sub-01/ses-01/eeg/sub-01_ses-01_task-N2pc_run-02_eeg.json'...\n",
      "Writing '/Users/caroleguedj/Desktop/PULSATION_ANAL/ToBIDS/BIDS_data/sourcedata/sub-01/ses-01/eeg/sub-01_ses-01_task-N2pc_run-02_channels.tsv'...\n",
      "Copying data files to sub-01_ses-01_task-N2pc_run-02_eeg.bdf\n"
     ]
    },
    {
     "name": "stderr",
     "output_type": "stream",
     "text": [
      "/var/folders/0q/b_1qyqsd0371q_0fyfzg1jt80000gn/T/ipykernel_4621/3441845767.py:36: FutureWarning: The events_data parameter has been deprecated in favor the new events parameter, to ensure better consistency  with MNE-Python. The events_data parameter will be removed in MNE-BIDS 0.14. Please use the events parameter instead.\n",
      "  write_raw_bids(raw, bids_path=bids_path, events_data=e_list, event_id=event_id, overwrite=True)\n"
     ]
    },
    {
     "name": "stdout",
     "output_type": "stream",
     "text": [
      "Writing '/Users/caroleguedj/Desktop/PULSATION_ANAL/ToBIDS/BIDS_data/sourcedata/sub-01/ses-01/sub-01_ses-01_scans.tsv'...\n",
      "Wrote /Users/caroleguedj/Desktop/PULSATION_ANAL/ToBIDS/BIDS_data/sourcedata/sub-01/ses-01/sub-01_ses-01_scans.tsv entry with eeg/sub-01_ses-01_task-N2pc_run-02_eeg.bdf.\n",
      "N2pc\n",
      "Extracting EDF parameters from /Users/caroleguedj/Desktop/PULSATION_ANAL/ToBIDS/test/S11_N2pc_r1.bdf...\n",
      "BDF file detected\n",
      "Setting channel info structure...\n",
      "Creating raw.info structure...\n",
      "Trigger channel has a non-zero initial value of 65536 (consider using initial_event=True to detect this event)\n",
      "479 events found\n",
      "Event IDs: [  1   2   3   4   5   6   7   8 128 129]\n",
      "Extracting EDF parameters from /Users/caroleguedj/Desktop/PULSATION_ANAL/ToBIDS/test/S11_N2pc_r1.bdf...\n",
      "BDF file detected\n",
      "Setting channel info structure...\n",
      "Creating raw.info structure...\n",
      "Writing '/Users/caroleguedj/Desktop/PULSATION_ANAL/ToBIDS/BIDS_data/sourcedata/participants.tsv'...\n",
      "Writing '/Users/caroleguedj/Desktop/PULSATION_ANAL/ToBIDS/BIDS_data/sourcedata/participants.json'...\n",
      "Used Annotations descriptions: ['response/correct', 'response/incorrect', 'stim/dis_bot/target_l', 'stim/dis_bot/target_r', 'stim/dis_left/target_r', 'stim/dis_right/target_l', 'stim/dis_top/target_l', 'stim/dis_top/target_r', 'stim/no_dis/target_l', 'stim/no_dis/target_r']\n",
      "Writing '/Users/caroleguedj/Desktop/PULSATION_ANAL/ToBIDS/BIDS_data/sourcedata/sub-11/ses-01/eeg/sub-11_ses-01_task-N2pc_run-01_events.tsv'...\n",
      "Writing '/Users/caroleguedj/Desktop/PULSATION_ANAL/ToBIDS/BIDS_data/sourcedata/dataset_description.json'...\n",
      "Writing '/Users/caroleguedj/Desktop/PULSATION_ANAL/ToBIDS/BIDS_data/sourcedata/sub-11/ses-01/eeg/sub-11_ses-01_task-N2pc_run-01_eeg.json'...\n",
      "Writing '/Users/caroleguedj/Desktop/PULSATION_ANAL/ToBIDS/BIDS_data/sourcedata/sub-11/ses-01/eeg/sub-11_ses-01_task-N2pc_run-01_channels.tsv'...\n",
      "Copying data files to sub-11_ses-01_task-N2pc_run-01_eeg.bdf\n"
     ]
    },
    {
     "name": "stderr",
     "output_type": "stream",
     "text": [
      "/var/folders/0q/b_1qyqsd0371q_0fyfzg1jt80000gn/T/ipykernel_4621/3441845767.py:36: FutureWarning: The events_data parameter has been deprecated in favor the new events parameter, to ensure better consistency  with MNE-Python. The events_data parameter will be removed in MNE-BIDS 0.14. Please use the events parameter instead.\n",
      "  write_raw_bids(raw, bids_path=bids_path, events_data=e_list, event_id=event_id, overwrite=True)\n"
     ]
    },
    {
     "name": "stdout",
     "output_type": "stream",
     "text": [
      "Writing '/Users/caroleguedj/Desktop/PULSATION_ANAL/ToBIDS/BIDS_data/sourcedata/sub-11/ses-01/sub-11_ses-01_scans.tsv'...\n",
      "Wrote /Users/caroleguedj/Desktop/PULSATION_ANAL/ToBIDS/BIDS_data/sourcedata/sub-11/ses-01/sub-11_ses-01_scans.tsv entry with eeg/sub-11_ses-01_task-N2pc_run-01_eeg.bdf.\n",
      "N2pc\n",
      "Extracting EDF parameters from /Users/caroleguedj/Desktop/PULSATION_ANAL/ToBIDS/test/S18_N2pc_r2.bdf...\n",
      "BDF file detected\n",
      "Setting channel info structure...\n",
      "Creating raw.info structure...\n",
      "Trigger channel has a non-zero initial value of 65536 (consider using initial_event=True to detect this event)\n",
      "480 events found\n",
      "Event IDs: [  1   2   3   4   5   6   7   8 128 129]\n",
      "Extracting EDF parameters from /Users/caroleguedj/Desktop/PULSATION_ANAL/ToBIDS/test/S18_N2pc_r2.bdf...\n",
      "BDF file detected\n",
      "Setting channel info structure...\n",
      "Creating raw.info structure...\n",
      "Writing '/Users/caroleguedj/Desktop/PULSATION_ANAL/ToBIDS/BIDS_data/sourcedata/participants.tsv'...\n",
      "Writing '/Users/caroleguedj/Desktop/PULSATION_ANAL/ToBIDS/BIDS_data/sourcedata/participants.json'...\n",
      "Used Annotations descriptions: ['response/correct', 'response/incorrect', 'stim/dis_bot/target_l', 'stim/dis_bot/target_r', 'stim/dis_left/target_r', 'stim/dis_right/target_l', 'stim/dis_top/target_l', 'stim/dis_top/target_r', 'stim/no_dis/target_l', 'stim/no_dis/target_r']\n",
      "Writing '/Users/caroleguedj/Desktop/PULSATION_ANAL/ToBIDS/BIDS_data/sourcedata/sub-18/ses-01/eeg/sub-18_ses-01_task-N2pc_run-02_events.tsv'...\n",
      "Writing '/Users/caroleguedj/Desktop/PULSATION_ANAL/ToBIDS/BIDS_data/sourcedata/dataset_description.json'...\n",
      "Writing '/Users/caroleguedj/Desktop/PULSATION_ANAL/ToBIDS/BIDS_data/sourcedata/sub-18/ses-01/eeg/sub-18_ses-01_task-N2pc_run-02_eeg.json'...\n",
      "Writing '/Users/caroleguedj/Desktop/PULSATION_ANAL/ToBIDS/BIDS_data/sourcedata/sub-18/ses-01/eeg/sub-18_ses-01_task-N2pc_run-02_channels.tsv'...\n",
      "Copying data files to sub-18_ses-01_task-N2pc_run-02_eeg.bdf\n"
     ]
    },
    {
     "name": "stderr",
     "output_type": "stream",
     "text": [
      "/var/folders/0q/b_1qyqsd0371q_0fyfzg1jt80000gn/T/ipykernel_4621/3441845767.py:36: FutureWarning: The events_data parameter has been deprecated in favor the new events parameter, to ensure better consistency  with MNE-Python. The events_data parameter will be removed in MNE-BIDS 0.14. Please use the events parameter instead.\n",
      "  write_raw_bids(raw, bids_path=bids_path, events_data=e_list, event_id=event_id, overwrite=True)\n"
     ]
    },
    {
     "name": "stdout",
     "output_type": "stream",
     "text": [
      "Writing '/Users/caroleguedj/Desktop/PULSATION_ANAL/ToBIDS/BIDS_data/sourcedata/sub-18/ses-01/sub-18_ses-01_scans.tsv'...\n",
      "Wrote /Users/caroleguedj/Desktop/PULSATION_ANAL/ToBIDS/BIDS_data/sourcedata/sub-18/ses-01/sub-18_ses-01_scans.tsv entry with eeg/sub-18_ses-01_task-N2pc_run-02_eeg.bdf.\n",
      "N2pc\n",
      "Extracting EDF parameters from /Users/caroleguedj/Desktop/PULSATION_ANAL/ToBIDS/test/S04_N2pc_r2.bdf...\n",
      "BDF file detected\n",
      "Setting channel info structure...\n",
      "Creating raw.info structure...\n",
      "Trigger channel has a non-zero initial value of 65536 (consider using initial_event=True to detect this event)\n",
      "485 events found\n",
      "Event IDs: [  1   2   3   4   5   6   7   8 128 129]\n",
      "Extracting EDF parameters from /Users/caroleguedj/Desktop/PULSATION_ANAL/ToBIDS/test/S04_N2pc_r2.bdf...\n",
      "BDF file detected\n",
      "Setting channel info structure...\n",
      "Creating raw.info structure...\n",
      "Writing '/Users/caroleguedj/Desktop/PULSATION_ANAL/ToBIDS/BIDS_data/sourcedata/participants.tsv'...\n",
      "Writing '/Users/caroleguedj/Desktop/PULSATION_ANAL/ToBIDS/BIDS_data/sourcedata/participants.json'...\n",
      "Used Annotations descriptions: ['response/correct', 'response/incorrect', 'stim/dis_bot/target_l', 'stim/dis_bot/target_r', 'stim/dis_left/target_r', 'stim/dis_right/target_l', 'stim/dis_top/target_l', 'stim/dis_top/target_r', 'stim/no_dis/target_l', 'stim/no_dis/target_r']\n",
      "Writing '/Users/caroleguedj/Desktop/PULSATION_ANAL/ToBIDS/BIDS_data/sourcedata/sub-04/ses-01/eeg/sub-04_ses-01_task-N2pc_run-02_events.tsv'...\n",
      "Writing '/Users/caroleguedj/Desktop/PULSATION_ANAL/ToBIDS/BIDS_data/sourcedata/dataset_description.json'...\n",
      "Writing '/Users/caroleguedj/Desktop/PULSATION_ANAL/ToBIDS/BIDS_data/sourcedata/sub-04/ses-01/eeg/sub-04_ses-01_task-N2pc_run-02_eeg.json'...\n",
      "Writing '/Users/caroleguedj/Desktop/PULSATION_ANAL/ToBIDS/BIDS_data/sourcedata/sub-04/ses-01/eeg/sub-04_ses-01_task-N2pc_run-02_channels.tsv'...\n",
      "Copying data files to sub-04_ses-01_task-N2pc_run-02_eeg.bdf\n"
     ]
    },
    {
     "name": "stderr",
     "output_type": "stream",
     "text": [
      "/var/folders/0q/b_1qyqsd0371q_0fyfzg1jt80000gn/T/ipykernel_4621/3441845767.py:36: FutureWarning: The events_data parameter has been deprecated in favor the new events parameter, to ensure better consistency  with MNE-Python. The events_data parameter will be removed in MNE-BIDS 0.14. Please use the events parameter instead.\n",
      "  write_raw_bids(raw, bids_path=bids_path, events_data=e_list, event_id=event_id, overwrite=True)\n"
     ]
    },
    {
     "name": "stdout",
     "output_type": "stream",
     "text": [
      "Writing '/Users/caroleguedj/Desktop/PULSATION_ANAL/ToBIDS/BIDS_data/sourcedata/sub-04/ses-01/sub-04_ses-01_scans.tsv'...\n",
      "Wrote /Users/caroleguedj/Desktop/PULSATION_ANAL/ToBIDS/BIDS_data/sourcedata/sub-04/ses-01/sub-04_ses-01_scans.tsv entry with eeg/sub-04_ses-01_task-N2pc_run-02_eeg.bdf.\n",
      "N2pc\n",
      "Extracting EDF parameters from /Users/caroleguedj/Desktop/PULSATION_ANAL/ToBIDS/test/S11_N2pc_r2.bdf...\n",
      "BDF file detected\n",
      "Setting channel info structure...\n",
      "Creating raw.info structure...\n",
      "Trigger channel has a non-zero initial value of 65536 (consider using initial_event=True to detect this event)\n",
      "484 events found\n",
      "Event IDs: [  1   2   3   4   5   6   7   8 128 129]\n",
      "Extracting EDF parameters from /Users/caroleguedj/Desktop/PULSATION_ANAL/ToBIDS/test/S11_N2pc_r2.bdf...\n",
      "BDF file detected\n",
      "Setting channel info structure...\n",
      "Creating raw.info structure...\n",
      "Writing '/Users/caroleguedj/Desktop/PULSATION_ANAL/ToBIDS/BIDS_data/sourcedata/participants.tsv'...\n",
      "Writing '/Users/caroleguedj/Desktop/PULSATION_ANAL/ToBIDS/BIDS_data/sourcedata/participants.json'...\n",
      "Used Annotations descriptions: ['response/correct', 'response/incorrect', 'stim/dis_bot/target_l', 'stim/dis_bot/target_r', 'stim/dis_left/target_r', 'stim/dis_right/target_l', 'stim/dis_top/target_l', 'stim/dis_top/target_r', 'stim/no_dis/target_l', 'stim/no_dis/target_r']\n",
      "Writing '/Users/caroleguedj/Desktop/PULSATION_ANAL/ToBIDS/BIDS_data/sourcedata/sub-11/ses-01/eeg/sub-11_ses-01_task-N2pc_run-02_events.tsv'...\n",
      "Writing '/Users/caroleguedj/Desktop/PULSATION_ANAL/ToBIDS/BIDS_data/sourcedata/dataset_description.json'...\n",
      "Writing '/Users/caroleguedj/Desktop/PULSATION_ANAL/ToBIDS/BIDS_data/sourcedata/sub-11/ses-01/eeg/sub-11_ses-01_task-N2pc_run-02_eeg.json'...\n",
      "Writing '/Users/caroleguedj/Desktop/PULSATION_ANAL/ToBIDS/BIDS_data/sourcedata/sub-11/ses-01/eeg/sub-11_ses-01_task-N2pc_run-02_channels.tsv'...\n",
      "Copying data files to sub-11_ses-01_task-N2pc_run-02_eeg.bdf\n"
     ]
    },
    {
     "name": "stderr",
     "output_type": "stream",
     "text": [
      "/var/folders/0q/b_1qyqsd0371q_0fyfzg1jt80000gn/T/ipykernel_4621/3441845767.py:36: FutureWarning: The events_data parameter has been deprecated in favor the new events parameter, to ensure better consistency  with MNE-Python. The events_data parameter will be removed in MNE-BIDS 0.14. Please use the events parameter instead.\n",
      "  write_raw_bids(raw, bids_path=bids_path, events_data=e_list, event_id=event_id, overwrite=True)\n"
     ]
    },
    {
     "name": "stdout",
     "output_type": "stream",
     "text": [
      "Writing '/Users/caroleguedj/Desktop/PULSATION_ANAL/ToBIDS/BIDS_data/sourcedata/sub-11/ses-01/sub-11_ses-01_scans.tsv'...\n",
      "Wrote /Users/caroleguedj/Desktop/PULSATION_ANAL/ToBIDS/BIDS_data/sourcedata/sub-11/ses-01/sub-11_ses-01_scans.tsv entry with eeg/sub-11_ses-01_task-N2pc_run-02_eeg.bdf.\n",
      "N2pc\n",
      "Extracting EDF parameters from /Users/caroleguedj/Desktop/PULSATION_ANAL/ToBIDS/test/S18_N2pc_r1.bdf...\n",
      "BDF file detected\n",
      "Setting channel info structure...\n",
      "Creating raw.info structure...\n",
      "Trigger channel has a non-zero initial value of 65536 (consider using initial_event=True to detect this event)\n",
      "483 events found\n",
      "Event IDs: [  1   2   3   4   5   6   7   8 128 129]\n",
      "Extracting EDF parameters from /Users/caroleguedj/Desktop/PULSATION_ANAL/ToBIDS/test/S18_N2pc_r1.bdf...\n",
      "BDF file detected\n",
      "Setting channel info structure...\n",
      "Creating raw.info structure...\n",
      "Writing '/Users/caroleguedj/Desktop/PULSATION_ANAL/ToBIDS/BIDS_data/sourcedata/participants.tsv'...\n",
      "Writing '/Users/caroleguedj/Desktop/PULSATION_ANAL/ToBIDS/BIDS_data/sourcedata/participants.json'...\n",
      "Used Annotations descriptions: ['response/correct', 'response/incorrect', 'stim/dis_bot/target_l', 'stim/dis_bot/target_r', 'stim/dis_left/target_r', 'stim/dis_right/target_l', 'stim/dis_top/target_l', 'stim/dis_top/target_r', 'stim/no_dis/target_l', 'stim/no_dis/target_r']\n",
      "Writing '/Users/caroleguedj/Desktop/PULSATION_ANAL/ToBIDS/BIDS_data/sourcedata/sub-18/ses-01/eeg/sub-18_ses-01_task-N2pc_run-01_events.tsv'...\n",
      "Writing '/Users/caroleguedj/Desktop/PULSATION_ANAL/ToBIDS/BIDS_data/sourcedata/dataset_description.json'...\n",
      "Writing '/Users/caroleguedj/Desktop/PULSATION_ANAL/ToBIDS/BIDS_data/sourcedata/sub-18/ses-01/eeg/sub-18_ses-01_task-N2pc_run-01_eeg.json'...\n",
      "Writing '/Users/caroleguedj/Desktop/PULSATION_ANAL/ToBIDS/BIDS_data/sourcedata/sub-18/ses-01/eeg/sub-18_ses-01_task-N2pc_run-01_channels.tsv'...\n",
      "Copying data files to sub-18_ses-01_task-N2pc_run-01_eeg.bdf\n"
     ]
    },
    {
     "name": "stderr",
     "output_type": "stream",
     "text": [
      "/var/folders/0q/b_1qyqsd0371q_0fyfzg1jt80000gn/T/ipykernel_4621/3441845767.py:36: FutureWarning: The events_data parameter has been deprecated in favor the new events parameter, to ensure better consistency  with MNE-Python. The events_data parameter will be removed in MNE-BIDS 0.14. Please use the events parameter instead.\n",
      "  write_raw_bids(raw, bids_path=bids_path, events_data=e_list, event_id=event_id, overwrite=True)\n"
     ]
    },
    {
     "name": "stdout",
     "output_type": "stream",
     "text": [
      "Writing '/Users/caroleguedj/Desktop/PULSATION_ANAL/ToBIDS/BIDS_data/sourcedata/sub-18/ses-01/sub-18_ses-01_scans.tsv'...\n",
      "Wrote /Users/caroleguedj/Desktop/PULSATION_ANAL/ToBIDS/BIDS_data/sourcedata/sub-18/ses-01/sub-18_ses-01_scans.tsv entry with eeg/sub-18_ses-01_task-N2pc_run-01_eeg.bdf.\n",
      "N2pc\n",
      "Extracting EDF parameters from /Users/caroleguedj/Desktop/PULSATION_ANAL/ToBIDS/test/S04_N2pc_r1.bdf...\n",
      "BDF file detected\n",
      "Setting channel info structure...\n",
      "Creating raw.info structure...\n",
      "Trigger channel has a non-zero initial value of 65536 (consider using initial_event=True to detect this event)\n",
      "483 events found\n",
      "Event IDs: [  1   2   3   4   5   6   7   8 128 129]\n",
      "Extracting EDF parameters from /Users/caroleguedj/Desktop/PULSATION_ANAL/ToBIDS/test/S04_N2pc_r1.bdf...\n",
      "BDF file detected\n",
      "Setting channel info structure...\n",
      "Creating raw.info structure...\n",
      "Writing '/Users/caroleguedj/Desktop/PULSATION_ANAL/ToBIDS/BIDS_data/sourcedata/participants.tsv'...\n",
      "Writing '/Users/caroleguedj/Desktop/PULSATION_ANAL/ToBIDS/BIDS_data/sourcedata/participants.json'...\n",
      "Used Annotations descriptions: ['response/correct', 'response/incorrect', 'stim/dis_bot/target_l', 'stim/dis_bot/target_r', 'stim/dis_left/target_r', 'stim/dis_right/target_l', 'stim/dis_top/target_l', 'stim/dis_top/target_r', 'stim/no_dis/target_l', 'stim/no_dis/target_r']\n",
      "Writing '/Users/caroleguedj/Desktop/PULSATION_ANAL/ToBIDS/BIDS_data/sourcedata/sub-04/ses-01/eeg/sub-04_ses-01_task-N2pc_run-01_events.tsv'...\n",
      "Writing '/Users/caroleguedj/Desktop/PULSATION_ANAL/ToBIDS/BIDS_data/sourcedata/dataset_description.json'...\n",
      "Writing '/Users/caroleguedj/Desktop/PULSATION_ANAL/ToBIDS/BIDS_data/sourcedata/sub-04/ses-01/eeg/sub-04_ses-01_task-N2pc_run-01_eeg.json'...\n",
      "Writing '/Users/caroleguedj/Desktop/PULSATION_ANAL/ToBIDS/BIDS_data/sourcedata/sub-04/ses-01/eeg/sub-04_ses-01_task-N2pc_run-01_channels.tsv'...\n",
      "Copying data files to sub-04_ses-01_task-N2pc_run-01_eeg.bdf\n"
     ]
    },
    {
     "name": "stderr",
     "output_type": "stream",
     "text": [
      "/var/folders/0q/b_1qyqsd0371q_0fyfzg1jt80000gn/T/ipykernel_4621/3441845767.py:36: FutureWarning: The events_data parameter has been deprecated in favor the new events parameter, to ensure better consistency  with MNE-Python. The events_data parameter will be removed in MNE-BIDS 0.14. Please use the events parameter instead.\n",
      "  write_raw_bids(raw, bids_path=bids_path, events_data=e_list, event_id=event_id, overwrite=True)\n"
     ]
    },
    {
     "name": "stdout",
     "output_type": "stream",
     "text": [
      "Writing '/Users/caroleguedj/Desktop/PULSATION_ANAL/ToBIDS/BIDS_data/sourcedata/sub-04/ses-01/sub-04_ses-01_scans.tsv'...\n",
      "Wrote /Users/caroleguedj/Desktop/PULSATION_ANAL/ToBIDS/BIDS_data/sourcedata/sub-04/ses-01/sub-04_ses-01_scans.tsv entry with eeg/sub-04_ses-01_task-N2pc_run-01_eeg.bdf.\n"
     ]
    }
   ],
   "source": [
    "bids_root = fr'/Users/caroleguedj/Desktop/PULSATION_ANAL/ToBIDS/BIDS_data/sourcedata'\n",
    "for root, dirs, files in os.walk(origin_folder):\n",
    "     for file in files:\n",
    "        if file.endswith('.bdf'):\n",
    "            file = os.path.join(root, file)\n",
    "            basename = os.path.basename(file).split(\".\")[0]\n",
    "            #print(file)\n",
    "            prefix, task, suffix = basename.split('_')\n",
    "            subject = re.split('(\\d+)',prefix)[1] # split before digits \n",
    "            #print(subject)\n",
    "            print(task)\n",
    "            run = suffix.split('r')[1]\n",
    "            run =f\"{int(run):02d}\"\n",
    "            #print(run)\n",
    "            session = 1\n",
    "\n",
    "            bids_path = BIDSPath(subject=subject,\n",
    "                                 session =f\"{int(session):02d}\",\n",
    "                                 task=task,\n",
    "                                 run=run,\n",
    "                                 datatype='eeg',\n",
    "                                 root=bids_root)\n",
    "            raw = mne.io.read_raw_bdf(file)\n",
    "            e_list = mne.find_events(raw, stim_channel='Status', mask=0b11111111)\n",
    "            #annot = mne.annotations_from_events(e_list, raw.info['sfreq'])\n",
    "            #raw = raw.set_annotations(annot)\n",
    "\n",
    "            event_id = {'stim/dis_top/target_l':1, 'stim/dis_top/target_r':2,\n",
    "                        'stim/no_dis/target_l':3, 'stim/no_dis/target_r':4,\n",
    "                        'stim/dis_bot/target_l':5, 'stim/dis_bot/target_r':6,\n",
    "                        'stim/dis_right/target_l':7, 'stim/dis_left/target_r':8,\n",
    "                        'response/correct':128, 'response/incorrect':129,\n",
    "                }\n",
    "\n",
    "            \n",
    "            write_raw_bids(raw, bids_path=bids_path, events_data=e_list, event_id=event_id, overwrite=True)             "
   ]
  },
  {
   "cell_type": "code",
   "execution_count": 8,
   "id": "e8473fd6",
   "metadata": {
    "scrolled": true
   },
   "outputs": [
    {
     "name": "stdout",
     "output_type": "stream",
     "text": [
      "Summarizing participants.tsv /Users/caroleguedj/Desktop/PULSATION_ANAL/ToBIDS/BIDS_data/sourcedata/participants.tsv...\n",
      "Summarizing scans.tsv files [PosixPath('/Users/caroleguedj/Desktop/PULSATION_ANAL/ToBIDS/BIDS_data/sourcedata/sub-21/ses-01/sub-21_ses-01_scans.tsv'), PosixPath('/Users/caroleguedj/Desktop/PULSATION_ANAL/ToBIDS/BIDS_data/sourcedata/sub-16/ses-01/sub-16_ses-01_scans.tsv'), PosixPath('/Users/caroleguedj/Desktop/PULSATION_ANAL/ToBIDS/BIDS_data/sourcedata/sub-02/ses-01/sub-02_ses-01_scans.tsv'), PosixPath('/Users/caroleguedj/Desktop/PULSATION_ANAL/ToBIDS/BIDS_data/sourcedata/sub-03/ses-01/sub-03_ses-01_scans.tsv')]...\n",
      "The participant template found: sex were all unknown;\n",
      "handedness were all unknown;\n",
      "ages all unknown\n",
      "This dataset was created by [Unspecified] and conforms to BIDS version 1.7.0.\n",
      "This report was generated with MNE-BIDS (https://doi.org/10.21105/joss.01896).\n",
      "The dataset consists of 4 participants (sex were all unknown; handedness were\n",
      "all unknown; ages all unknown) and 1 recording sessions: 01. Data was recorded\n",
      "using an EEG system (Biosemi) sampled at 1024.0 Hz with line noise at n/a Hz.\n",
      "There were 8 scans in total. Recording durations ranged from 559.0 to 644.0\n",
      "seconds (mean = 599.37, std = 26.77), for a total of 4794.99 seconds of data\n",
      "recorded over all scans. For each dataset, there were on average 73.0 (std =\n",
      "0.0) recording channels per scan, out of which 73.0 (std = 0.0) were used in\n",
      "analysis (0.0 +/- 0.0 were removed from analysis).\n"
     ]
    }
   ],
   "source": [
    "from mne_bids import make_report\n",
    "print(make_report(bids_root))"
   ]
  },
  {
   "cell_type": "code",
   "execution_count": null,
   "id": "6d806bbe",
   "metadata": {},
   "outputs": [],
   "source": []
  }
 ],
 "metadata": {
  "kernelspec": {
   "display_name": "Python 3 (ipykernel)",
   "language": "python",
   "name": "python3"
  },
  "language_info": {
   "codemirror_mode": {
    "name": "ipython",
    "version": 3
   },
   "file_extension": ".py",
   "mimetype": "text/x-python",
   "name": "python",
   "nbconvert_exporter": "python",
   "pygments_lexer": "ipython3",
   "version": "3.11.4"
  }
 },
 "nbformat": 4,
 "nbformat_minor": 5
}
