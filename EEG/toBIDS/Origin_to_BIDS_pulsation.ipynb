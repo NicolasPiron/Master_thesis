{
 "cells": [
  {
   "cell_type": "code",
   "execution_count": 11,
   "id": "72438399",
   "metadata": {},
   "outputs": [],
   "source": [
    "import os\n",
    "import re\n",
    "\n",
    "import mne\n",
    "from mne_bids import BIDSPath, write_raw_bids"
   ]
  },
  {
   "cell_type": "code",
   "execution_count": 12,
   "id": "7afdd4e3",
   "metadata": {},
   "outputs": [
    {
     "data": {
      "text/plain": [
       "['.DS_Store',\n",
       " 'S02_N2pc_r2.bdf',\n",
       " 'S02_N2pc_r1.bdf',\n",
       " 'S01_N2pc_r1.bdf',\n",
       " 'S01_N2pc_r2.bdf']"
      ]
     },
     "execution_count": 12,
     "metadata": {},
     "output_type": "execute_result"
    }
   ],
   "source": [
    "origin_folder = fr'/Users/caroleguedj/Desktop/PULSATION_ANAL/ToBIDS/test'\n",
    "os.listdir(origin_folder)"
   ]
  },
  {
   "cell_type": "code",
   "execution_count": 13,
   "id": "a64c1056",
   "metadata": {},
   "outputs": [
    {
     "name": "stdout",
     "output_type": "stream",
     "text": [
      "N2pc\n",
      "Extracting EDF parameters from /Users/caroleguedj/Desktop/PULSATION_ANAL/ToBIDS/test/S02_N2pc_r2.bdf...\n",
      "BDF file detected\n",
      "Setting channel info structure...\n",
      "Creating raw.info structure...\n",
      "485 events found\n",
      "Event IDs: [  1   2   3   4   5   6   7   8 128 129]\n",
      "Extracting EDF parameters from /Users/caroleguedj/Desktop/PULSATION_ANAL/ToBIDS/test/S02_N2pc_r2.bdf...\n",
      "BDF file detected\n",
      "Setting channel info structure...\n",
      "Creating raw.info structure...\n",
      "Writing '/Users/caroleguedj/Desktop/PULSATION_ANAL/ToBIDS/BIDS_data/README'...\n",
      "Writing '/Users/caroleguedj/Desktop/PULSATION_ANAL/ToBIDS/BIDS_data/participants.tsv'...\n",
      "Writing '/Users/caroleguedj/Desktop/PULSATION_ANAL/ToBIDS/BIDS_data/participants.json'...\n",
      "Used Annotations descriptions: ['response/correct', 'response/incorrect', 'stim/dis_bot/target_l', 'stim/dis_bot/target_r', 'stim/dis_left/target_r', 'stim/dis_right/target_l', 'stim/dis_top/target_l', 'stim/dis_top/target_r', 'stim/no_dis/target_l', 'stim/no_dis/target_r']\n",
      "Writing '/Users/caroleguedj/Desktop/PULSATION_ANAL/ToBIDS/BIDS_data/sub-02/ses-01/eeg/sub-02_ses-01_task-N2pc_run-02_events.tsv'...\n",
      "Writing '/Users/caroleguedj/Desktop/PULSATION_ANAL/ToBIDS/BIDS_data/dataset_description.json'...\n",
      "Writing '/Users/caroleguedj/Desktop/PULSATION_ANAL/ToBIDS/BIDS_data/sub-02/ses-01/eeg/sub-02_ses-01_task-N2pc_run-02_eeg.json'...\n",
      "Writing '/Users/caroleguedj/Desktop/PULSATION_ANAL/ToBIDS/BIDS_data/sub-02/ses-01/eeg/sub-02_ses-01_task-N2pc_run-02_channels.tsv'...\n",
      "Copying data files to sub-02_ses-01_task-N2pc_run-02_eeg.bdf\n",
      "Writing '/Users/caroleguedj/Desktop/PULSATION_ANAL/ToBIDS/BIDS_data/sub-02/ses-01/sub-02_ses-01_scans.tsv'...\n",
      "Wrote /Users/caroleguedj/Desktop/PULSATION_ANAL/ToBIDS/BIDS_data/sub-02/ses-01/sub-02_ses-01_scans.tsv entry with eeg/sub-02_ses-01_task-N2pc_run-02_eeg.bdf.\n",
      "N2pc\n",
      "Extracting EDF parameters from /Users/caroleguedj/Desktop/PULSATION_ANAL/ToBIDS/test/S02_N2pc_r1.bdf...\n",
      "BDF file detected\n",
      "Setting channel info structure...\n",
      "Creating raw.info structure...\n"
     ]
    },
    {
     "name": "stderr",
     "output_type": "stream",
     "text": [
      "/var/folders/0q/b_1qyqsd0371q_0fyfzg1jt80000gn/T/ipykernel_1719/364223081.py:32: FutureWarning: The events_data parameter has been deprecated in favor the new events parameter, to ensure better consistency  with MNE-Python. The events_data parameter will be removed in MNE-BIDS 0.14. Please use the events parameter instead.\n",
      "  write_raw_bids(raw, bids_path=bids_path,events_data=e_list, event_id=event_id, overwrite=True)\n"
     ]
    },
    {
     "name": "stdout",
     "output_type": "stream",
     "text": [
      "Trigger channel has a non-zero initial value of 4 (consider using initial_event=True to detect this event)\n",
      "485 events found\n",
      "Event IDs: [  1   2   3   4   5   6   7   8 128 129]\n",
      "Extracting EDF parameters from /Users/caroleguedj/Desktop/PULSATION_ANAL/ToBIDS/test/S02_N2pc_r1.bdf...\n",
      "BDF file detected\n",
      "Setting channel info structure...\n",
      "Creating raw.info structure...\n",
      "Writing '/Users/caroleguedj/Desktop/PULSATION_ANAL/ToBIDS/BIDS_data/participants.tsv'...\n",
      "Writing '/Users/caroleguedj/Desktop/PULSATION_ANAL/ToBIDS/BIDS_data/participants.json'...\n",
      "Used Annotations descriptions: ['response/correct', 'response/incorrect', 'stim/dis_bot/target_l', 'stim/dis_bot/target_r', 'stim/dis_left/target_r', 'stim/dis_right/target_l', 'stim/dis_top/target_l', 'stim/dis_top/target_r', 'stim/no_dis/target_l', 'stim/no_dis/target_r']\n",
      "Writing '/Users/caroleguedj/Desktop/PULSATION_ANAL/ToBIDS/BIDS_data/sub-02/ses-01/eeg/sub-02_ses-01_task-N2pc_run-01_events.tsv'...\n",
      "Writing '/Users/caroleguedj/Desktop/PULSATION_ANAL/ToBIDS/BIDS_data/dataset_description.json'...\n",
      "Writing '/Users/caroleguedj/Desktop/PULSATION_ANAL/ToBIDS/BIDS_data/sub-02/ses-01/eeg/sub-02_ses-01_task-N2pc_run-01_eeg.json'...\n",
      "Writing '/Users/caroleguedj/Desktop/PULSATION_ANAL/ToBIDS/BIDS_data/sub-02/ses-01/eeg/sub-02_ses-01_task-N2pc_run-01_channels.tsv'...\n",
      "Copying data files to sub-02_ses-01_task-N2pc_run-01_eeg.bdf\n",
      "Writing '/Users/caroleguedj/Desktop/PULSATION_ANAL/ToBIDS/BIDS_data/sub-02/ses-01/sub-02_ses-01_scans.tsv'...\n",
      "Wrote /Users/caroleguedj/Desktop/PULSATION_ANAL/ToBIDS/BIDS_data/sub-02/ses-01/sub-02_ses-01_scans.tsv entry with eeg/sub-02_ses-01_task-N2pc_run-01_eeg.bdf.\n",
      "N2pc\n",
      "Extracting EDF parameters from /Users/caroleguedj/Desktop/PULSATION_ANAL/ToBIDS/test/S01_N2pc_r1.bdf...\n",
      "BDF file detected\n",
      "Setting channel info structure...\n",
      "Creating raw.info structure...\n"
     ]
    },
    {
     "name": "stderr",
     "output_type": "stream",
     "text": [
      "/var/folders/0q/b_1qyqsd0371q_0fyfzg1jt80000gn/T/ipykernel_1719/364223081.py:32: FutureWarning: The events_data parameter has been deprecated in favor the new events parameter, to ensure better consistency  with MNE-Python. The events_data parameter will be removed in MNE-BIDS 0.14. Please use the events parameter instead.\n",
      "  write_raw_bids(raw, bids_path=bids_path,events_data=e_list, event_id=event_id, overwrite=True)\n"
     ]
    },
    {
     "name": "stdout",
     "output_type": "stream",
     "text": [
      "Trigger channel has a non-zero initial value of 65536 (consider using initial_event=True to detect this event)\n",
      "63 events found\n",
      "Event IDs: [    1     2     3     4     5     6     7     8   128 65664]\n",
      "Extracting EDF parameters from /Users/caroleguedj/Desktop/PULSATION_ANAL/ToBIDS/test/S01_N2pc_r1.bdf...\n",
      "BDF file detected\n",
      "Setting channel info structure...\n",
      "Creating raw.info structure...\n",
      "Writing '/Users/caroleguedj/Desktop/PULSATION_ANAL/ToBIDS/BIDS_data/participants.tsv'...\n",
      "Writing '/Users/caroleguedj/Desktop/PULSATION_ANAL/ToBIDS/BIDS_data/participants.json'...\n"
     ]
    },
    {
     "name": "stderr",
     "output_type": "stream",
     "text": [
      "/var/folders/0q/b_1qyqsd0371q_0fyfzg1jt80000gn/T/ipykernel_1719/364223081.py:32: FutureWarning: The events_data parameter has been deprecated in favor the new events parameter, to ensure better consistency  with MNE-Python. The events_data parameter will be removed in MNE-BIDS 0.14. Please use the events parameter instead.\n",
      "  write_raw_bids(raw, bids_path=bids_path,events_data=e_list, event_id=event_id, overwrite=True)\n"
     ]
    },
    {
     "ename": "ValueError",
     "evalue": "No description was specified for the following event(s): 65664. Please add them to the event_id dictionary, or drop them from the events array.",
     "output_type": "error",
     "traceback": [
      "\u001b[0;31m---------------------------------------------------------------------------\u001b[0m",
      "\u001b[0;31mValueError\u001b[0m                                Traceback (most recent call last)",
      "Cell \u001b[0;32mIn[13], line 32\u001b[0m\n\u001b[1;32m     30\u001b[0m raw \u001b[38;5;241m=\u001b[39m mne\u001b[38;5;241m.\u001b[39mio\u001b[38;5;241m.\u001b[39mread_raw_bdf(file)\n\u001b[1;32m     31\u001b[0m e_list \u001b[38;5;241m=\u001b[39m mne\u001b[38;5;241m.\u001b[39mfind_events(raw, stim_channel\u001b[38;5;241m=\u001b[39m\u001b[38;5;124m'\u001b[39m\u001b[38;5;124mStatus\u001b[39m\u001b[38;5;124m'\u001b[39m)\n\u001b[0;32m---> 32\u001b[0m \u001b[43mwrite_raw_bids\u001b[49m\u001b[43m(\u001b[49m\u001b[43mraw\u001b[49m\u001b[43m,\u001b[49m\u001b[43m \u001b[49m\u001b[43mbids_path\u001b[49m\u001b[38;5;241;43m=\u001b[39;49m\u001b[43mbids_path\u001b[49m\u001b[43m,\u001b[49m\u001b[43mevents_data\u001b[49m\u001b[38;5;241;43m=\u001b[39;49m\u001b[43me_list\u001b[49m\u001b[43m,\u001b[49m\u001b[43m \u001b[49m\u001b[43mevent_id\u001b[49m\u001b[38;5;241;43m=\u001b[39;49m\u001b[43mevent_id\u001b[49m\u001b[43m,\u001b[49m\u001b[43m \u001b[49m\u001b[43moverwrite\u001b[49m\u001b[38;5;241;43m=\u001b[39;49m\u001b[38;5;28;43;01mTrue\u001b[39;49;00m\u001b[43m)\u001b[49m             \n",
      "File \u001b[0;32m<decorator-gen-640>:12\u001b[0m, in \u001b[0;36mwrite_raw_bids\u001b[0;34m(raw, bids_path, events, event_id, anonymize, format, symlink, empty_room, allow_preload, montage, acpc_aligned, overwrite, events_data, verbose)\u001b[0m\n",
      "File \u001b[0;32m~/micromamba/envs/mne/lib/python3.11/site-packages/mne_bids/write.py:1845\u001b[0m, in \u001b[0;36mwrite_raw_bids\u001b[0;34m(***failed resolving arguments***)\u001b[0m\n\u001b[1;32m   1843\u001b[0m \u001b[38;5;66;03m# Write events.\u001b[39;00m\n\u001b[1;32m   1844\u001b[0m \u001b[38;5;28;01mif\u001b[39;00m \u001b[38;5;129;01mnot\u001b[39;00m data_is_emptyroom:\n\u001b[0;32m-> 1845\u001b[0m     events_array, event_dur, event_desc_id_map \u001b[38;5;241m=\u001b[39m \u001b[43m_read_events\u001b[49m\u001b[43m(\u001b[49m\n\u001b[1;32m   1846\u001b[0m \u001b[43m        \u001b[49m\u001b[43mevents\u001b[49m\u001b[43m,\u001b[49m\u001b[43m \u001b[49m\u001b[43mevent_id\u001b[49m\u001b[43m,\u001b[49m\u001b[43m \u001b[49m\u001b[43mraw\u001b[49m\u001b[43m,\u001b[49m\u001b[43m \u001b[49m\u001b[43mbids_path\u001b[49m\u001b[38;5;241;43m=\u001b[39;49m\u001b[43mbids_path\u001b[49m\u001b[43m)\u001b[49m\n\u001b[1;32m   1847\u001b[0m     \u001b[38;5;28;01mif\u001b[39;00m events_array\u001b[38;5;241m.\u001b[39msize \u001b[38;5;241m!=\u001b[39m \u001b[38;5;241m0\u001b[39m:\n\u001b[1;32m   1848\u001b[0m         _events_tsv(events\u001b[38;5;241m=\u001b[39mevents_array, durations\u001b[38;5;241m=\u001b[39mevent_dur, raw\u001b[38;5;241m=\u001b[39mraw,\n\u001b[1;32m   1849\u001b[0m                     fname\u001b[38;5;241m=\u001b[39mevents_path\u001b[38;5;241m.\u001b[39mfpath, trial_type\u001b[38;5;241m=\u001b[39mevent_desc_id_map,\n\u001b[1;32m   1850\u001b[0m                     overwrite\u001b[38;5;241m=\u001b[39moverwrite)\n",
      "File \u001b[0;32m~/micromamba/envs/mne/lib/python3.11/site-packages/mne_bids/read.py:150\u001b[0m, in \u001b[0;36m_read_events\u001b[0;34m(events, event_id, raw, bids_path)\u001b[0m\n\u001b[1;32m    148\u001b[0m ids_without_desc \u001b[38;5;241m=\u001b[39m \u001b[38;5;28mset\u001b[39m(events[:, \u001b[38;5;241m2\u001b[39m]) \u001b[38;5;241m-\u001b[39m \u001b[38;5;28mset\u001b[39m(event_id\u001b[38;5;241m.\u001b[39mvalues())\n\u001b[1;32m    149\u001b[0m \u001b[38;5;28;01mif\u001b[39;00m ids_without_desc:\n\u001b[0;32m--> 150\u001b[0m     \u001b[38;5;28;01mraise\u001b[39;00m \u001b[38;5;167;01mValueError\u001b[39;00m(\n\u001b[1;32m    151\u001b[0m         \u001b[38;5;124mf\u001b[39m\u001b[38;5;124m'\u001b[39m\u001b[38;5;124mNo description was specified for the following event(s): \u001b[39m\u001b[38;5;124m'\u001b[39m\n\u001b[1;32m    152\u001b[0m         \u001b[38;5;124mf\u001b[39m\u001b[38;5;124m'\u001b[39m\u001b[38;5;132;01m{\u001b[39;00m\u001b[38;5;124m\"\u001b[39m\u001b[38;5;124m, \u001b[39m\u001b[38;5;124m\"\u001b[39m\u001b[38;5;241m.\u001b[39mjoin([\u001b[38;5;28mstr\u001b[39m(x)\u001b[38;5;250m \u001b[39m\u001b[38;5;28;01mfor\u001b[39;00m\u001b[38;5;250m \u001b[39mx\u001b[38;5;250m \u001b[39m\u001b[38;5;129;01min\u001b[39;00m\u001b[38;5;250m \u001b[39m\u001b[38;5;28msorted\u001b[39m(ids_without_desc)])\u001b[38;5;132;01m}\u001b[39;00m\u001b[38;5;124m. \u001b[39m\u001b[38;5;124m'\u001b[39m\n\u001b[1;32m    153\u001b[0m         \u001b[38;5;124mf\u001b[39m\u001b[38;5;124m'\u001b[39m\u001b[38;5;124mPlease add them to the event_id dictionary, or drop them \u001b[39m\u001b[38;5;124m'\u001b[39m\n\u001b[1;32m    154\u001b[0m         \u001b[38;5;124mf\u001b[39m\u001b[38;5;124m'\u001b[39m\u001b[38;5;124mfrom the events array.\u001b[39m\u001b[38;5;124m'\u001b[39m\n\u001b[1;32m    155\u001b[0m     )\n\u001b[1;32m    157\u001b[0m \u001b[38;5;66;03m# Append events to raw.annotations. All event onsets are relative to\u001b[39;00m\n\u001b[1;32m    158\u001b[0m \u001b[38;5;66;03m# measurement beginning.\u001b[39;00m\n\u001b[1;32m    159\u001b[0m id_to_desc_map \u001b[38;5;241m=\u001b[39m \u001b[38;5;28mdict\u001b[39m(\u001b[38;5;28mzip\u001b[39m(event_id\u001b[38;5;241m.\u001b[39mvalues(), event_id\u001b[38;5;241m.\u001b[39mkeys()))\n",
      "\u001b[0;31mValueError\u001b[0m: No description was specified for the following event(s): 65664. Please add them to the event_id dictionary, or drop them from the events array."
     ]
    }
   ],
   "source": [
    "bids_root = fr'/Users/caroleguedj/Desktop/PULSATION_ANAL/ToBIDS/BIDS_data/sourcedata'\n",
    "for root, dirs, files in os.walk(origin_folder):\n",
    "     for file in files:\n",
    "        if file.endswith('.bdf'):\n",
    "            file = os.path.join(root, file)\n",
    "            basename = os.path.basename(file).split(\".\")[0]\n",
    "            #print(file)\n",
    "            prefix, task, suffix = basename.split('_')\n",
    "            subject = prefix.split('S')[1]\n",
    "            #print(subject)\n",
    "            print(task)\n",
    "            run = suffix.split('r')[1]\n",
    "            run =f\"{int(run):02d}\"\n",
    "            #print(run)\n",
    "            session = 1\n",
    "\n",
    "            event_id = {'stim/dis_top/target_l':1, 'stim/dis_top/target_r':2,\n",
    "                        'stim/no_dis/target_l':3, 'stim/no_dis/target_r':4,\n",
    "                        'stim/dis_bot/target_l':5, 'stim/dis_bot/target_r':6,\n",
    "                        'stim/dis_right/target_l':7, 'stim/dis_left/target_r':8,\n",
    "                        'response/correct':128, 'response/incorrect':129,\n",
    "                }\n",
    "\n",
    "            bids_path = BIDSPath(subject=subject,\n",
    "                                 session =f\"{int(session):02d}\",\n",
    "                                 task=task,\n",
    "                                 run=run,\n",
    "                                 datatype='eeg',\n",
    "                                 root=bids_root)\n",
    "            raw = mne.io.read_raw_bdf(file)\n",
    "            e_list = mne.find_events(raw, stim_channel='Status')\n",
    "            write_raw_bids(raw, bids_path=bids_path,events_data=e_list, event_id=event_id, overwrite=True)             "
   ]
  },
  {
   "cell_type": "code",
   "execution_count": 14,
   "id": "e8473fd6",
   "metadata": {
    "scrolled": true
   },
   "outputs": [
    {
     "name": "stdout",
     "output_type": "stream",
     "text": [
      "Summarizing participants.tsv /Users/caroleguedj/Desktop/PULSATION_ANAL/ToBIDS/BIDS_data/participants.tsv...\n",
      "Summarizing scans.tsv files [PosixPath('/Users/caroleguedj/Desktop/PULSATION_ANAL/ToBIDS/BIDS_data/sub-02/ses-01/sub-02_ses-01_scans.tsv')]...\n",
      "The participant template found: sex were all unknown;\n",
      "handedness were all unknown;\n",
      "ages all unknown\n",
      "This dataset was created by [Unspecified] and conforms to BIDS version 1.7.0.\n",
      "This report was generated with MNE-BIDS (https://doi.org/10.21105/joss.01896).\n",
      "The dataset consists of 1 participants (sex were all unknown; handedness were\n",
      "all unknown; ages all unknown) and 1 recording sessions: 01. Data was recorded\n",
      "using an EEG system (Biosemi) sampled at 1024.0 Hz with line noise at n/a Hz.\n",
      "There were 2 scans in total. Recording durations ranged from 605.0 to 616.0\n",
      "seconds (mean = 610.5, std = 5.5), for a total of 1221.0 seconds of data\n",
      "recorded over all scans. For each dataset, there were on average 73.0 (std =\n",
      "0.0) recording channels per scan, out of which 73.0 (std = 0.0) were used in\n",
      "analysis (0.0 +/- 0.0 were removed from analysis).\n"
     ]
    }
   ],
   "source": [
    "from mne_bids import make_report\n",
    "print(make_report(bids_root))"
   ]
  },
  {
   "cell_type": "code",
   "execution_count": null,
   "id": "6d806bbe",
   "metadata": {},
   "outputs": [],
   "source": []
  }
 ],
 "metadata": {
  "kernelspec": {
   "display_name": "Python 3 (ipykernel)",
   "language": "python",
   "name": "python3"
  },
  "language_info": {
   "codemirror_mode": {
    "name": "ipython",
    "version": 3
   },
   "file_extension": ".py",
   "mimetype": "text/x-python",
   "name": "python",
   "nbconvert_exporter": "python",
   "pygments_lexer": "ipython3",
   "version": "3.11.4"
  }
 },
 "nbformat": 4,
 "nbformat_minor": 5
}
