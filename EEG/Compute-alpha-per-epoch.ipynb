{
 "cells": [
  {
   "cell_type": "code",
   "execution_count": 2,
   "id": "485bb16e",
   "metadata": {},
   "outputs": [],
   "source": [
    "import mne\n",
    "import functions.alpha as alpha"
   ]
  },
  {
   "cell_type": "markdown",
   "id": "a7632f03",
   "metadata": {},
   "source": [
    "### Load epochs "
   ]
  },
  {
   "cell_type": "code",
   "execution_count": 26,
   "id": "ffa8659c",
   "metadata": {
    "scrolled": false
   },
   "outputs": [
    {
     "name": "stdout",
     "output_type": "stream",
     "text": [
      "Reading /Users/nicolaspiron/Documents/PULSATION/Python_MNE/preproc/n2pc_out/data/epochs/S20_n2pc_total_epochs.fif ...\n",
      "    Found the data of interest:\n",
      "        t =    -200.20 ...    1000.00 ms\n",
      "        0 CTF compensation matrices available\n"
     ]
    },
    {
     "name": "stderr",
     "output_type": "stream",
     "text": [
      "/var/folders/4f/_jg1y72j6_ggv65n730flb280000gn/T/ipykernel_48332/2412434833.py:1: RuntimeWarning: This filename (/Users/nicolaspiron/Documents/PULSATION/Python_MNE/preproc/n2pc_out/data/epochs/S20_n2pc_total_epochs.fif) does not conform to MNE naming conventions. All epochs files should end with -epo.fif, -epo.fif.gz, _epo.fif or _epo.fif.gz\n",
      "  epochs = mne.read_epochs('/Users/nicolaspiron/Documents/PULSATION/Python_MNE/preproc/n2pc_out/data/epochs/S20_n2pc_total_epochs.fif')\n"
     ]
    },
    {
     "name": "stdout",
     "output_type": "stream",
     "text": [
      "Not setting metadata\n",
      "711 matching events found\n",
      "No baseline correction applied\n",
      "0 projection items activated\n"
     ]
    }
   ],
   "source": [
    "epochs = mne.read_epochs('/Users/nicolaspiron/Documents/PULSATION/Python_MNE/preproc/n2pc_out/data/epochs/S20_n2pc_total_epochs.fif')"
   ]
  },
  {
   "cell_type": "markdown",
   "id": "9aed909d",
   "metadata": {},
   "source": [
    "### Create lists of alpha amplitude for each side for each epoch (needs them to be at least 800ms long !!)"
   ]
  },
  {
   "cell_type": "code",
   "execution_count": 27,
   "id": "cabcf44e",
   "metadata": {},
   "outputs": [],
   "source": [
    "right_power_list, left_power_list = alpha.alpha_power_per_epoch(epochs=epochs)"
   ]
  },
  {
   "cell_type": "code",
   "execution_count": 28,
   "id": "12953de4",
   "metadata": {},
   "outputs": [],
   "source": [
    "df = alpha.alpha_df_epoch(epochs=epochs, right_power_list=right_power_list, left_power_list=left_power_list)"
   ]
  },
  {
   "cell_type": "code",
   "execution_count": 29,
   "id": "3c482575",
   "metadata": {
    "scrolled": true
   },
   "outputs": [
    {
     "data": {
      "text/html": [
       "<div>\n",
       "<style scoped>\n",
       "    .dataframe tbody tr th:only-of-type {\n",
       "        vertical-align: middle;\n",
       "    }\n",
       "\n",
       "    .dataframe tbody tr th {\n",
       "        vertical-align: top;\n",
       "    }\n",
       "\n",
       "    .dataframe thead tr th {\n",
       "        text-align: left;\n",
       "    }\n",
       "</style>\n",
       "<table border=\"1\" class=\"dataframe\">\n",
       "  <thead>\n",
       "    <tr>\n",
       "      <th></th>\n",
       "      <th>epoch_index</th>\n",
       "      <th>condition</th>\n",
       "      <th>target_side</th>\n",
       "      <th>distractor_position</th>\n",
       "      <th>alpha_power_right</th>\n",
       "      <th>alpha_power_left</th>\n",
       "    </tr>\n",
       "  </thead>\n",
       "  <tbody>\n",
       "    <tr>\n",
       "      <th>0</th>\n",
       "      <td>1</td>\n",
       "      <td>7</td>\n",
       "      <td>left</td>\n",
       "      <td>lat</td>\n",
       "      <td>2.0629647988e-10</td>\n",
       "      <td>2.0732339744e-10</td>\n",
       "    </tr>\n",
       "    <tr>\n",
       "      <th>1</th>\n",
       "      <td>2</td>\n",
       "      <td>8</td>\n",
       "      <td>right</td>\n",
       "      <td>lat</td>\n",
       "      <td>1.9496835864e-10</td>\n",
       "      <td>1.6325981600e-10</td>\n",
       "    </tr>\n",
       "    <tr>\n",
       "      <th>2</th>\n",
       "      <td>3</td>\n",
       "      <td>1</td>\n",
       "      <td>left</td>\n",
       "      <td>mid</td>\n",
       "      <td>2.3438695555e-10</td>\n",
       "      <td>2.0761137674e-10</td>\n",
       "    </tr>\n",
       "    <tr>\n",
       "      <th>3</th>\n",
       "      <td>4</td>\n",
       "      <td>8</td>\n",
       "      <td>right</td>\n",
       "      <td>lat</td>\n",
       "      <td>2.6857300679e-10</td>\n",
       "      <td>2.5046874132e-10</td>\n",
       "    </tr>\n",
       "    <tr>\n",
       "      <th>4</th>\n",
       "      <td>5</td>\n",
       "      <td>8</td>\n",
       "      <td>right</td>\n",
       "      <td>lat</td>\n",
       "      <td>1.4881104688e-10</td>\n",
       "      <td>1.8247302914e-10</td>\n",
       "    </tr>\n",
       "    <tr>\n",
       "      <th>...</th>\n",
       "      <td>...</td>\n",
       "      <td>...</td>\n",
       "      <td>...</td>\n",
       "      <td>...</td>\n",
       "      <td>...</td>\n",
       "      <td>...</td>\n",
       "    </tr>\n",
       "    <tr>\n",
       "      <th>706</th>\n",
       "      <td>707</td>\n",
       "      <td>3</td>\n",
       "      <td>left</td>\n",
       "      <td>nodis</td>\n",
       "      <td>3.8879125067e-10</td>\n",
       "      <td>1.4464459073e-10</td>\n",
       "    </tr>\n",
       "    <tr>\n",
       "      <th>707</th>\n",
       "      <td>708</td>\n",
       "      <td>7</td>\n",
       "      <td>left</td>\n",
       "      <td>lat</td>\n",
       "      <td>2.0040141079e-10</td>\n",
       "      <td>1.2982885105e-10</td>\n",
       "    </tr>\n",
       "    <tr>\n",
       "      <th>708</th>\n",
       "      <td>709</td>\n",
       "      <td>5</td>\n",
       "      <td>left</td>\n",
       "      <td>mid</td>\n",
       "      <td>1.9098170258e-10</td>\n",
       "      <td>1.4915395132e-10</td>\n",
       "    </tr>\n",
       "    <tr>\n",
       "      <th>709</th>\n",
       "      <td>710</td>\n",
       "      <td>7</td>\n",
       "      <td>left</td>\n",
       "      <td>lat</td>\n",
       "      <td>2.6954831665e-10</td>\n",
       "      <td>1.1985914893e-10</td>\n",
       "    </tr>\n",
       "    <tr>\n",
       "      <th>710</th>\n",
       "      <td>711</td>\n",
       "      <td>4</td>\n",
       "      <td>right</td>\n",
       "      <td>nodis</td>\n",
       "      <td>2.7322650807e-10</td>\n",
       "      <td>2.5748462892e-10</td>\n",
       "    </tr>\n",
       "  </tbody>\n",
       "</table>\n",
       "<p>711 rows × 6 columns</p>\n",
       "</div>"
      ],
      "text/plain": [
       "    epoch_index condition target_side distractor_position alpha_power_right  \\\n",
       "0             1         7        left                 lat  2.0629647988e-10   \n",
       "1             2         8       right                 lat  1.9496835864e-10   \n",
       "2             3         1        left                 mid  2.3438695555e-10   \n",
       "3             4         8       right                 lat  2.6857300679e-10   \n",
       "4             5         8       right                 lat  1.4881104688e-10   \n",
       "..          ...       ...         ...                 ...               ...   \n",
       "706         707         3        left               nodis  3.8879125067e-10   \n",
       "707         708         7        left                 lat  2.0040141079e-10   \n",
       "708         709         5        left                 mid  1.9098170258e-10   \n",
       "709         710         7        left                 lat  2.6954831665e-10   \n",
       "710         711         4       right               nodis  2.7322650807e-10   \n",
       "\n",
       "    alpha_power_left  \n",
       "0   2.0732339744e-10  \n",
       "1   1.6325981600e-10  \n",
       "2   2.0761137674e-10  \n",
       "3   2.5046874132e-10  \n",
       "4   1.8247302914e-10  \n",
       "..               ...  \n",
       "706 1.4464459073e-10  \n",
       "707 1.2982885105e-10  \n",
       "708 1.4915395132e-10  \n",
       "709 1.1985914893e-10  \n",
       "710 2.5748462892e-10  \n",
       "\n",
       "[711 rows x 6 columns]"
      ]
     },
     "execution_count": 29,
     "metadata": {},
     "output_type": "execute_result"
    }
   ],
   "source": [
    "df"
   ]
  },
  {
   "cell_type": "code",
   "execution_count": null,
   "id": "b5983301",
   "metadata": {},
   "outputs": [],
   "source": [
    "df_all_subj = alpha.alpha_by_epoch_all_subj(input_dir=, output_dir=)"
   ]
  }
 ],
 "metadata": {
  "kernelspec": {
   "display_name": "Python [conda env:pulsation_proj]",
   "language": "python",
   "name": "conda-env-pulsation_proj-py"
  },
  "language_info": {
   "codemirror_mode": {
    "name": "ipython",
    "version": 3
   },
   "file_extension": ".py",
   "mimetype": "text/x-python",
   "name": "python",
   "nbconvert_exporter": "python",
   "pygments_lexer": "ipython3",
   "version": "3.8.15"
  }
 },
 "nbformat": 4,
 "nbformat_minor": 5
}
