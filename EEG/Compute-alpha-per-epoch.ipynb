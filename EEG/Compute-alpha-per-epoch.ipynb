{
 "cells": [
  {
   "cell_type": "code",
   "execution_count": 1,
   "id": "485bb16e",
   "metadata": {},
   "outputs": [],
   "source": [
    "import mne\n",
    "import functions.alpha as alpha"
   ]
  },
  {
   "cell_type": "code",
   "execution_count": 2,
   "id": "e6cc9e2b",
   "metadata": {},
   "outputs": [],
   "source": [
    "subject_id = '21'\n",
    "input_dir = '/Users/nicolaspiron/Documents/PULSATION/Python_MNE/output_preproc'\n",
    "output_dir = '/Users/nicolaspiron/Documents/PULSATION/Python_MNE/output_preproc'"
   ]
  },
  {
   "cell_type": "markdown",
   "id": "9aed909d",
   "metadata": {},
   "source": [
    "### If you want the dataframe for a single subject (the epochs need to be at least 800ms long !!)"
   ]
  },
  {
   "cell_type": "code",
   "execution_count": 3,
   "id": "cabcf44e",
   "metadata": {},
   "outputs": [
    {
     "name": "stdout",
     "output_type": "stream",
     "text": [
      "Reading /Users/nicolaspiron/Documents/PULSATION/Python_MNE/output_preproc/sub-21/cleaned_epochs/sub-21-cleaned_epochs-N2pc.fif ...\n",
      "    Found the data of interest:\n",
      "        t =    -199.22 ...     798.83 ms\n",
      "        0 CTF compensation matrices available\n"
     ]
    },
    {
     "name": "stderr",
     "output_type": "stream",
     "text": [
      "/Users/nicolaspiron/Documents/Master_thesis/EEG/functions/alpha.py:230: RuntimeWarning: This filename (/Users/nicolaspiron/Documents/PULSATION/Python_MNE/output_preproc/sub-21/cleaned_epochs/sub-21-cleaned_epochs-N2pc.fif) does not conform to MNE naming conventions. All epochs files should end with -epo.fif, -epo.fif.gz, _epo.fif or _epo.fif.gz\n",
      "  epochs = mne.read_epochs(os.path.join(input_dir, f'sub-{subject_id}', 'cleaned_epochs',f'sub-{subject_id}-cleaned_epochs-N2pc.fif'))\n"
     ]
    },
    {
     "name": "stdout",
     "output_type": "stream",
     "text": [
      "Not setting metadata\n",
      "455 matching events found\n",
      "No baseline correction applied\n",
      "0 projection items activated\n",
      "========================= Computing alpha power, might take a while...\n"
     ]
    }
   ],
   "source": [
    "right_power_list, left_power_list = alpha.alpha_power_per_epoch(subject_id=subject_id, input_dir=input_dir)"
   ]
  },
  {
   "cell_type": "code",
   "execution_count": 4,
   "id": "12953de4",
   "metadata": {
    "scrolled": true
   },
   "outputs": [
    {
     "name": "stdout",
     "output_type": "stream",
     "text": [
      "Reading /Users/nicolaspiron/Documents/PULSATION/Python_MNE/output_preproc/sub-21/cleaned_epochs/sub-21-cleaned_epochs-N2pc.fif ...\n",
      "    Found the data of interest:\n",
      "        t =    -199.22 ...     798.83 ms\n",
      "        0 CTF compensation matrices available\n",
      "Not setting metadata\n",
      "455 matching events found\n",
      "No baseline correction applied\n",
      "0 projection items activated\n"
     ]
    },
    {
     "name": "stderr",
     "output_type": "stream",
     "text": [
      "/Users/nicolaspiron/Documents/Master_thesis/EEG/functions/alpha.py:283: RuntimeWarning: This filename (/Users/nicolaspiron/Documents/PULSATION/Python_MNE/output_preproc/sub-21/cleaned_epochs/sub-21-cleaned_epochs-N2pc.fif) does not conform to MNE naming conventions. All epochs files should end with -epo.fif, -epo.fif.gz, _epo.fif or _epo.fif.gz\n",
      "  epochs = mne.read_epochs(os.path.join(input_dir, f'sub-{subject_id}', 'cleaned_epochs', f'sub-{subject_id}-cleaned_epochs-N2pc.fif'))\n"
     ]
    }
   ],
   "source": [
    "df = alpha.alpha_df_epoch(subject_id=subject_id, right_power_list=right_power_list, left_power_list=left_power_list, input_dir=input_dir)"
   ]
  },
  {
   "cell_type": "code",
   "execution_count": 5,
   "id": "3c482575",
   "metadata": {
    "scrolled": true
   },
   "outputs": [
    {
     "data": {
      "text/html": [
       "<div>\n",
       "<style scoped>\n",
       "    .dataframe tbody tr th:only-of-type {\n",
       "        vertical-align: middle;\n",
       "    }\n",
       "\n",
       "    .dataframe tbody tr th {\n",
       "        vertical-align: top;\n",
       "    }\n",
       "\n",
       "    .dataframe thead tr th {\n",
       "        text-align: left;\n",
       "    }\n",
       "</style>\n",
       "<table border=\"1\" class=\"dataframe\">\n",
       "  <thead>\n",
       "    <tr>\n",
       "      <th></th>\n",
       "      <th>epoch_index</th>\n",
       "      <th>condition</th>\n",
       "      <th>target_side</th>\n",
       "      <th>distractor_position</th>\n",
       "      <th>alpha_power_right</th>\n",
       "      <th>alpha_power_left</th>\n",
       "    </tr>\n",
       "  </thead>\n",
       "  <tbody>\n",
       "    <tr>\n",
       "      <th>0</th>\n",
       "      <td>1</td>\n",
       "      <td>7</td>\n",
       "      <td>left</td>\n",
       "      <td>lat</td>\n",
       "      <td>1.5598817460e-08</td>\n",
       "      <td>5.4020448578e-10</td>\n",
       "    </tr>\n",
       "    <tr>\n",
       "      <th>1</th>\n",
       "      <td>2</td>\n",
       "      <td>4</td>\n",
       "      <td>right</td>\n",
       "      <td>nodis</td>\n",
       "      <td>3.7362720128e-09</td>\n",
       "      <td>2.9902798847e-10</td>\n",
       "    </tr>\n",
       "    <tr>\n",
       "      <th>2</th>\n",
       "      <td>3</td>\n",
       "      <td>2</td>\n",
       "      <td>right</td>\n",
       "      <td>mid</td>\n",
       "      <td>1.4041882700e-08</td>\n",
       "      <td>2.3541006745e-10</td>\n",
       "    </tr>\n",
       "    <tr>\n",
       "      <th>3</th>\n",
       "      <td>4</td>\n",
       "      <td>1</td>\n",
       "      <td>left</td>\n",
       "      <td>mid</td>\n",
       "      <td>2.1976349090e-09</td>\n",
       "      <td>3.4747532939e-10</td>\n",
       "    </tr>\n",
       "    <tr>\n",
       "      <th>4</th>\n",
       "      <td>5</td>\n",
       "      <td>6</td>\n",
       "      <td>right</td>\n",
       "      <td>mid</td>\n",
       "      <td>2.8388817965e-09</td>\n",
       "      <td>2.2890295061e-10</td>\n",
       "    </tr>\n",
       "    <tr>\n",
       "      <th>...</th>\n",
       "      <td>...</td>\n",
       "      <td>...</td>\n",
       "      <td>...</td>\n",
       "      <td>...</td>\n",
       "      <td>...</td>\n",
       "      <td>...</td>\n",
       "    </tr>\n",
       "    <tr>\n",
       "      <th>450</th>\n",
       "      <td>451</td>\n",
       "      <td>8</td>\n",
       "      <td>right</td>\n",
       "      <td>lat</td>\n",
       "      <td>3.7386033341e-09</td>\n",
       "      <td>2.0363630546e-10</td>\n",
       "    </tr>\n",
       "    <tr>\n",
       "      <th>451</th>\n",
       "      <td>452</td>\n",
       "      <td>7</td>\n",
       "      <td>left</td>\n",
       "      <td>lat</td>\n",
       "      <td>1.9147545324e-09</td>\n",
       "      <td>5.8896579616e-10</td>\n",
       "    </tr>\n",
       "    <tr>\n",
       "      <th>452</th>\n",
       "      <td>453</td>\n",
       "      <td>3</td>\n",
       "      <td>left</td>\n",
       "      <td>nodis</td>\n",
       "      <td>2.9983765744e-09</td>\n",
       "      <td>1.9688794414e-10</td>\n",
       "    </tr>\n",
       "    <tr>\n",
       "      <th>453</th>\n",
       "      <td>454</td>\n",
       "      <td>1</td>\n",
       "      <td>left</td>\n",
       "      <td>mid</td>\n",
       "      <td>8.5971780895e-09</td>\n",
       "      <td>1.0178774418e-10</td>\n",
       "    </tr>\n",
       "    <tr>\n",
       "      <th>454</th>\n",
       "      <td>455</td>\n",
       "      <td>3</td>\n",
       "      <td>left</td>\n",
       "      <td>nodis</td>\n",
       "      <td>2.7408412691e-09</td>\n",
       "      <td>2.8626169596e-10</td>\n",
       "    </tr>\n",
       "  </tbody>\n",
       "</table>\n",
       "<p>455 rows × 6 columns</p>\n",
       "</div>"
      ],
      "text/plain": [
       "    epoch_index condition target_side distractor_position alpha_power_right  \\\n",
       "0             1         7        left                 lat  1.5598817460e-08   \n",
       "1             2         4       right               nodis  3.7362720128e-09   \n",
       "2             3         2       right                 mid  1.4041882700e-08   \n",
       "3             4         1        left                 mid  2.1976349090e-09   \n",
       "4             5         6       right                 mid  2.8388817965e-09   \n",
       "..          ...       ...         ...                 ...               ...   \n",
       "450         451         8       right                 lat  3.7386033341e-09   \n",
       "451         452         7        left                 lat  1.9147545324e-09   \n",
       "452         453         3        left               nodis  2.9983765744e-09   \n",
       "453         454         1        left                 mid  8.5971780895e-09   \n",
       "454         455         3        left               nodis  2.7408412691e-09   \n",
       "\n",
       "    alpha_power_left  \n",
       "0   5.4020448578e-10  \n",
       "1   2.9902798847e-10  \n",
       "2   2.3541006745e-10  \n",
       "3   3.4747532939e-10  \n",
       "4   2.2890295061e-10  \n",
       "..               ...  \n",
       "450 2.0363630546e-10  \n",
       "451 5.8896579616e-10  \n",
       "452 1.9688794414e-10  \n",
       "453 1.0178774418e-10  \n",
       "454 2.8626169596e-10  \n",
       "\n",
       "[455 rows x 6 columns]"
      ]
     },
     "execution_count": 5,
     "metadata": {},
     "output_type": "execute_result"
    }
   ],
   "source": [
    "df"
   ]
  },
  {
   "cell_type": "markdown",
   "id": "b4f88a0d",
   "metadata": {},
   "source": [
    "### If you directly want the df with all subjects"
   ]
  },
  {
   "cell_type": "code",
   "execution_count": 5,
   "id": "b5983301",
   "metadata": {},
   "outputs": [
    {
     "name": "stdout",
     "output_type": "stream",
     "text": [
      "No match found in: /Users/nicolaspiron/Documents/PULSATION/Python_MNE/output_preproc/sub-21/cleaned_epochs/sub-21-cleaned_epochs-N2pc.fif\n",
      "========================= working on 21\n",
      "Reading /Users/nicolaspiron/Documents/PULSATION/Python_MNE/output_preproc/sub-21/cleaned_epochs/sub-21-cleaned_epochs-N2pc.fif ...\n",
      "    Found the data of interest:\n",
      "        t =    -199.22 ...     798.83 ms\n",
      "        0 CTF compensation matrices available\n",
      "Not setting metadata\n",
      "455 matching events found\n",
      "No baseline correction applied\n",
      "0 projection items activated\n",
      "Reading /Users/nicolaspiron/Documents/PULSATION/Python_MNE/output_preproc/sub-21/cleaned_epochs/sub-21-cleaned_epochs-N2pc.fif ...\n",
      "    Found the data of interest:\n",
      "        t =    -199.22 ...     798.83 ms\n",
      "        0 CTF compensation matrices available\n"
     ]
    },
    {
     "name": "stderr",
     "output_type": "stream",
     "text": [
      "/Users/nicolaspiron/Documents/Master_thesis/EEG/functions/alpha.py:406: RuntimeWarning: This filename (/Users/nicolaspiron/Documents/PULSATION/Python_MNE/output_preproc/sub-21/cleaned_epochs/sub-21-cleaned_epochs-N2pc.fif) does not conform to MNE naming conventions. All epochs files should end with -epo.fif, -epo.fif.gz, _epo.fif or _epo.fif.gz\n",
      "  epochs = mne.read_epochs(subject)\n",
      "/Users/nicolaspiron/Documents/Master_thesis/EEG/functions/alpha.py:230: RuntimeWarning: This filename (/Users/nicolaspiron/Documents/PULSATION/Python_MNE/output_preproc/sub-21/cleaned_epochs/sub-21-cleaned_epochs-N2pc.fif) does not conform to MNE naming conventions. All epochs files should end with -epo.fif, -epo.fif.gz, _epo.fif or _epo.fif.gz\n",
      "  epochs = mne.read_epochs(os.path.join(input_dir, f'sub-{subject_id}', 'cleaned_epochs',f'sub-{subject_id}-cleaned_epochs-N2pc.fif'))\n"
     ]
    },
    {
     "name": "stdout",
     "output_type": "stream",
     "text": [
      "Not setting metadata\n",
      "455 matching events found\n",
      "No baseline correction applied\n",
      "0 projection items activated\n",
      "========================= Computing alpha power, might take a while...\n",
      "Reading /Users/nicolaspiron/Documents/PULSATION/Python_MNE/output_preproc/sub-21/cleaned_epochs/sub-21-cleaned_epochs-N2pc.fif ...\n",
      "    Found the data of interest:\n",
      "        t =    -199.22 ...     798.83 ms\n",
      "        0 CTF compensation matrices available\n",
      "Not setting metadata\n",
      "455 matching events found\n",
      "No baseline correction applied\n",
      "0 projection items activated\n"
     ]
    },
    {
     "name": "stderr",
     "output_type": "stream",
     "text": [
      "/Users/nicolaspiron/Documents/Master_thesis/EEG/functions/alpha.py:283: RuntimeWarning: This filename (/Users/nicolaspiron/Documents/PULSATION/Python_MNE/output_preproc/sub-21/cleaned_epochs/sub-21-cleaned_epochs-N2pc.fif) does not conform to MNE naming conventions. All epochs files should end with -epo.fif, -epo.fif.gz, _epo.fif or _epo.fif.gz\n",
      "  epochs = mne.read_epochs(os.path.join(input_dir, f'sub-{subject_id}', 'cleaned_epochs', f'sub-{subject_id}-cleaned_epochs-N2pc.fif'))\n"
     ]
    }
   ],
   "source": [
    "df_all_subj = alpha.alpha_by_epoch_all_subj(input_dir=input_dir, output_dir=output_dir)"
   ]
  }
 ],
 "metadata": {
  "kernelspec": {
   "display_name": "Python [conda env:pulsation_proj]",
   "language": "python",
   "name": "conda-env-pulsation_proj-py"
  },
  "language_info": {
   "codemirror_mode": {
    "name": "ipython",
    "version": 3
   },
   "file_extension": ".py",
   "mimetype": "text/x-python",
   "name": "python",
   "nbconvert_exporter": "python",
   "pygments_lexer": "ipython3",
   "version": "3.8.15"
  }
 },
 "nbformat": 4,
 "nbformat_minor": 5
}
