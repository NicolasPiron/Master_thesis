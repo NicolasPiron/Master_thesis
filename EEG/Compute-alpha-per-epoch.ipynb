{
 "cells": [
  {
   "cell_type": "code",
   "execution_count": 1,
   "id": "485bb16e",
   "metadata": {},
   "outputs": [],
   "source": [
    "import mne\n",
    "import functions.alpha as alpha"
   ]
  },
  {
   "cell_type": "code",
   "execution_count": 2,
   "id": "d1e7c05d",
   "metadata": {},
   "outputs": [],
   "source": [
    "subject_id = '21'\n",
    "input_dir = '/Users/nicolaspiron/Documents/PULSATION/Python_MNE/output_preproc'\n",
    "output_dir = '/Users/nicolaspiron/Documents/PULSATION/Python_MNE/output_preproc'"
   ]
  },
  {
   "cell_type": "markdown",
   "id": "9aed909d",
   "metadata": {},
   "source": [
    "### If you want the dataframe for a single subject (the epochs need to be at least 800ms long !!)"
   ]
  },
  {
   "cell_type": "code",
   "execution_count": 4,
   "id": "295e0463",
   "metadata": {},
   "outputs": [
    {
     "name": "stdout",
     "output_type": "stream",
     "text": [
      "Reading /Users/nicolaspiron/Documents/PULSATION/Python_MNE/output_preproc/sub-21/cleaned_epochs/sub-21-cleaned_epochs-N2pc.fif ...\n",
      "    Found the data of interest:\n",
      "        t =    -199.22 ...     798.83 ms\n",
      "        0 CTF compensation matrices available\n"
     ]
    },
    {
     "name": "stderr",
     "output_type": "stream",
     "text": [
      "/Users/nicolaspiron/Documents/Master_thesis/EEG/functions/alpha.py:325: RuntimeWarning: This filename (/Users/nicolaspiron/Documents/PULSATION/Python_MNE/output_preproc/sub-21/cleaned_epochs/sub-21-cleaned_epochs-N2pc.fif) does not conform to MNE naming conventions. All epochs files should end with -epo.fif, -epo.fif.gz, _epo.fif or _epo.fif.gz\n",
      "  epochs = mne.read_epochs(os.path.join(input_dir, f'sub-{subject_id}', 'cleaned_epochs',f'sub-{subject_id}-cleaned_epochs-N2pc.fif'))\n"
     ]
    },
    {
     "name": "stdout",
     "output_type": "stream",
     "text": [
      "Not setting metadata\n",
      "455 matching events found\n",
      "No baseline correction applied\n",
      "0 projection items activated\n",
      "========================= Computing alpha power, might take a while...\n",
      "Reading /Users/nicolaspiron/Documents/PULSATION/Python_MNE/output_preproc/sub-21/cleaned_epochs/sub-21-cleaned_epochs-N2pc.fif ...\n",
      "    Found the data of interest:\n",
      "        t =    -199.22 ...     798.83 ms\n",
      "        0 CTF compensation matrices available\n",
      "Not setting metadata\n",
      "455 matching events found\n",
      "No baseline correction applied\n",
      "0 projection items activated\n"
     ]
    },
    {
     "name": "stderr",
     "output_type": "stream",
     "text": [
      "/Users/nicolaspiron/Documents/Master_thesis/EEG/functions/alpha.py:378: RuntimeWarning: This filename (/Users/nicolaspiron/Documents/PULSATION/Python_MNE/output_preproc/sub-21/cleaned_epochs/sub-21-cleaned_epochs-N2pc.fif) does not conform to MNE naming conventions. All epochs files should end with -epo.fif, -epo.fif.gz, _epo.fif or _epo.fif.gz\n",
      "  epochs = mne.read_epochs(os.path.join(input_dir, f'sub-{subject_id}', 'cleaned_epochs', f'sub-{subject_id}-cleaned_epochs-N2pc.fif'))\n"
     ]
    }
   ],
   "source": [
    "df = alpha.single_subj_alpha_epoch(subject_id, input_dir, output_dir)"
   ]
  },
  {
   "cell_type": "markdown",
   "id": "21ea6aa3",
   "metadata": {},
   "source": [
    "### If you directly want the df with all subjects"
   ]
  },
  {
   "cell_type": "code",
   "execution_count": 5,
   "id": "b5983301",
   "metadata": {},
   "outputs": [
    {
     "name": "stdout",
     "output_type": "stream",
     "text": [
      "No match found in: /Users/nicolaspiron/Documents/PULSATION/Python_MNE/output_preproc/sub-21/cleaned_epochs/sub-21-cleaned_epochs-N2pc.fif\n",
      "========================= working on 21\n",
      "Reading /Users/nicolaspiron/Documents/PULSATION/Python_MNE/output_preproc/sub-21/cleaned_epochs/sub-21-cleaned_epochs-N2pc.fif ...\n",
      "    Found the data of interest:\n",
      "        t =    -199.22 ...     798.83 ms\n",
      "        0 CTF compensation matrices available\n",
      "Not setting metadata\n",
      "455 matching events found\n",
      "No baseline correction applied\n",
      "0 projection items activated\n",
      "Reading /Users/nicolaspiron/Documents/PULSATION/Python_MNE/output_preproc/sub-21/cleaned_epochs/sub-21-cleaned_epochs-N2pc.fif ...\n",
      "    Found the data of interest:\n",
      "        t =    -199.22 ...     798.83 ms\n",
      "        0 CTF compensation matrices available\n"
     ]
    },
    {
     "name": "stderr",
     "output_type": "stream",
     "text": [
      "/Users/nicolaspiron/Documents/Master_thesis/EEG/functions/alpha.py:406: RuntimeWarning: This filename (/Users/nicolaspiron/Documents/PULSATION/Python_MNE/output_preproc/sub-21/cleaned_epochs/sub-21-cleaned_epochs-N2pc.fif) does not conform to MNE naming conventions. All epochs files should end with -epo.fif, -epo.fif.gz, _epo.fif or _epo.fif.gz\n",
      "  epochs = mne.read_epochs(subject)\n",
      "/Users/nicolaspiron/Documents/Master_thesis/EEG/functions/alpha.py:230: RuntimeWarning: This filename (/Users/nicolaspiron/Documents/PULSATION/Python_MNE/output_preproc/sub-21/cleaned_epochs/sub-21-cleaned_epochs-N2pc.fif) does not conform to MNE naming conventions. All epochs files should end with -epo.fif, -epo.fif.gz, _epo.fif or _epo.fif.gz\n",
      "  epochs = mne.read_epochs(os.path.join(input_dir, f'sub-{subject_id}', 'cleaned_epochs',f'sub-{subject_id}-cleaned_epochs-N2pc.fif'))\n"
     ]
    },
    {
     "name": "stdout",
     "output_type": "stream",
     "text": [
      "Not setting metadata\n",
      "455 matching events found\n",
      "No baseline correction applied\n",
      "0 projection items activated\n",
      "========================= Computing alpha power, might take a while...\n",
      "Reading /Users/nicolaspiron/Documents/PULSATION/Python_MNE/output_preproc/sub-21/cleaned_epochs/sub-21-cleaned_epochs-N2pc.fif ...\n",
      "    Found the data of interest:\n",
      "        t =    -199.22 ...     798.83 ms\n",
      "        0 CTF compensation matrices available\n",
      "Not setting metadata\n",
      "455 matching events found\n",
      "No baseline correction applied\n",
      "0 projection items activated\n"
     ]
    },
    {
     "name": "stderr",
     "output_type": "stream",
     "text": [
      "/Users/nicolaspiron/Documents/Master_thesis/EEG/functions/alpha.py:283: RuntimeWarning: This filename (/Users/nicolaspiron/Documents/PULSATION/Python_MNE/output_preproc/sub-21/cleaned_epochs/sub-21-cleaned_epochs-N2pc.fif) does not conform to MNE naming conventions. All epochs files should end with -epo.fif, -epo.fif.gz, _epo.fif or _epo.fif.gz\n",
      "  epochs = mne.read_epochs(os.path.join(input_dir, f'sub-{subject_id}', 'cleaned_epochs', f'sub-{subject_id}-cleaned_epochs-N2pc.fif'))\n"
     ]
    }
   ],
   "source": [
    "df_all_subj = alpha.all_subj_alpha_epoch(input_dir=input_dir, output_dir=output_dir)"
   ]
  }
 ],
 "metadata": {
  "kernelspec": {
   "display_name": "Python [conda env:pulsation_proj]",
   "language": "python",
   "name": "conda-env-pulsation_proj-py"
  },
  "language_info": {
   "codemirror_mode": {
    "name": "ipython",
    "version": 3
   },
   "file_extension": ".py",
   "mimetype": "text/x-python",
   "name": "python",
   "nbconvert_exporter": "python",
   "pygments_lexer": "ipython3",
   "version": "3.8.15"
  }
 },
 "nbformat": 4,
 "nbformat_minor": 5
}
