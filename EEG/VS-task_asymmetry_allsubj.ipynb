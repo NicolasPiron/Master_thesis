{
 "cells": [
  {
   "cell_type": "code",
   "execution_count": 1,
   "id": "00f41c3f",
   "metadata": {},
   "outputs": [],
   "source": [
    "import functions.alpha as alpha"
   ]
  },
  {
   "cell_type": "code",
   "execution_count": 2,
   "id": "c4ce3109",
   "metadata": {},
   "outputs": [],
   "source": [
    "subject_id='21'\n",
    "input_dir='/Users/nicolaspiron/Documents/PULSATION/Python_MNE/output_preproc'\n",
    "output_dir='/Users/nicolaspiron/Documents/PULSATION/Python_MNE/output_preproc'"
   ]
  },
  {
   "cell_type": "markdown",
   "id": "959e59b3",
   "metadata": {},
   "source": [
    "### If you want the df for a single subject (the df is also saved in the subject directory)"
   ]
  },
  {
   "cell_type": "code",
   "execution_count": 3,
   "id": "9d4c7587",
   "metadata": {},
   "outputs": [
    {
     "name": "stdout",
     "output_type": "stream",
     "text": [
      "Reading /Users/nicolaspiron/Documents/PULSATION/Python_MNE/output_preproc/sub-21/cleaned_epochs/sub-21-cleaned_epochs-N2pc.fif ...\n",
      "    Found the data of interest:\n",
      "        t =    -199.22 ...     798.83 ms\n",
      "        0 CTF compensation matrices available\n"
     ]
    },
    {
     "name": "stderr",
     "output_type": "stream",
     "text": [
      "/Users/nicolaspiron/Documents/Master_thesis/EEG/functions/alpha.py:47: RuntimeWarning: This filename (/Users/nicolaspiron/Documents/PULSATION/Python_MNE/output_preproc/sub-21/cleaned_epochs/sub-21-cleaned_epochs-N2pc.fif) does not conform to MNE naming conventions. All epochs files should end with -epo.fif, -epo.fif.gz, _epo.fif or _epo.fif.gz\n",
      "  epochs = mne.read_epochs(os.path.join(input_dir, f'sub-{subject_id}', 'cleaned_epochs', f'sub-{subject_id}-cleaned_epochs-N2pc.fif'))\n"
     ]
    },
    {
     "name": "stdout",
     "output_type": "stream",
     "text": [
      "Not setting metadata\n",
      "455 matching events found\n",
      "No baseline correction applied\n",
      "0 projection items activated\n",
      "Not setting metadata\n",
      "76 matching events found\n",
      "Applying baseline correction (mode: mean)\n",
      "Not setting metadata\n",
      "78 matching events found\n",
      "Applying baseline correction (mode: mean)\n"
     ]
    },
    {
     "name": "stderr",
     "output_type": "stream",
     "text": [
      "/Users/nicolaspiron/Documents/Master_thesis/EEG/functions/alpha.py:60: RuntimeWarning: Concatenation of Annotations within Epochs is not supported yet. All annotations will be dropped.\n",
      "  dis_vert_target_l = mne.concatenate_epochs([sorted_epochs[0], sorted_epochs[4]])\n",
      "/Users/nicolaspiron/Documents/Master_thesis/EEG/functions/alpha.py:61: RuntimeWarning: Concatenation of Annotations within Epochs is not supported yet. All annotations will be dropped.\n",
      "  dis_vert_target_r = mne.concatenate_epochs([sorted_epochs[1], sorted_epochs[5]])\n"
     ]
    }
   ],
   "source": [
    "df = alpha.single_subj_alpha_assymetry(subject_id, input_dir, output_dir)"
   ]
  },
  {
   "cell_type": "code",
   "execution_count": 4,
   "id": "2fa88631",
   "metadata": {},
   "outputs": [
    {
     "data": {
      "text/html": [
       "<div>\n",
       "<style scoped>\n",
       "    .dataframe tbody tr th:only-of-type {\n",
       "        vertical-align: middle;\n",
       "    }\n",
       "\n",
       "    .dataframe tbody tr th {\n",
       "        vertical-align: top;\n",
       "    }\n",
       "\n",
       "    .dataframe thead tr th {\n",
       "        text-align: left;\n",
       "    }\n",
       "</style>\n",
       "<table border=\"1\" class=\"dataframe\">\n",
       "  <thead>\n",
       "    <tr>\n",
       "      <th></th>\n",
       "      <th>ID</th>\n",
       "      <th>condition</th>\n",
       "      <th>target_side</th>\n",
       "      <th>distractor_side</th>\n",
       "      <th>alpha_side</th>\n",
       "      <th>alpha_power</th>\n",
       "    </tr>\n",
       "  </thead>\n",
       "  <tbody>\n",
       "    <tr>\n",
       "      <th>0</th>\n",
       "      <td>21</td>\n",
       "      <td>no_dis/target_l</td>\n",
       "      <td>left</td>\n",
       "      <td>nodis</td>\n",
       "      <td>contra</td>\n",
       "      <td>6.097863e-09</td>\n",
       "    </tr>\n",
       "    <tr>\n",
       "      <th>1</th>\n",
       "      <td>21</td>\n",
       "      <td>no_dis/target_r</td>\n",
       "      <td>right</td>\n",
       "      <td>nodis</td>\n",
       "      <td>ipsi</td>\n",
       "      <td>5.943544e-09</td>\n",
       "    </tr>\n",
       "    <tr>\n",
       "      <th>2</th>\n",
       "      <td>21</td>\n",
       "      <td>dis_right/target_l</td>\n",
       "      <td>left</td>\n",
       "      <td>lat</td>\n",
       "      <td>contra</td>\n",
       "      <td>6.808355e-09</td>\n",
       "    </tr>\n",
       "    <tr>\n",
       "      <th>3</th>\n",
       "      <td>21</td>\n",
       "      <td>dis_left/target_r</td>\n",
       "      <td>right</td>\n",
       "      <td>lat</td>\n",
       "      <td>ipsi</td>\n",
       "      <td>6.567245e-09</td>\n",
       "    </tr>\n",
       "    <tr>\n",
       "      <th>4</th>\n",
       "      <td>21</td>\n",
       "      <td>dis_mid/target_l</td>\n",
       "      <td>left</td>\n",
       "      <td>mid</td>\n",
       "      <td>contra</td>\n",
       "      <td>6.286825e-09</td>\n",
       "    </tr>\n",
       "    <tr>\n",
       "      <th>5</th>\n",
       "      <td>21</td>\n",
       "      <td>dis_mid/target_r</td>\n",
       "      <td>right</td>\n",
       "      <td>mid</td>\n",
       "      <td>ipsi</td>\n",
       "      <td>6.601339e-09</td>\n",
       "    </tr>\n",
       "    <tr>\n",
       "      <th>6</th>\n",
       "      <td>21</td>\n",
       "      <td>no_dis/target_l</td>\n",
       "      <td>left</td>\n",
       "      <td>nodis</td>\n",
       "      <td>ipsi</td>\n",
       "      <td>2.816340e-10</td>\n",
       "    </tr>\n",
       "    <tr>\n",
       "      <th>7</th>\n",
       "      <td>21</td>\n",
       "      <td>no_dis/target_r</td>\n",
       "      <td>right</td>\n",
       "      <td>nodis</td>\n",
       "      <td>contra</td>\n",
       "      <td>2.655598e-10</td>\n",
       "    </tr>\n",
       "    <tr>\n",
       "      <th>8</th>\n",
       "      <td>21</td>\n",
       "      <td>dis_right/target_l</td>\n",
       "      <td>left</td>\n",
       "      <td>lat</td>\n",
       "      <td>ipsi</td>\n",
       "      <td>2.766506e-10</td>\n",
       "    </tr>\n",
       "    <tr>\n",
       "      <th>9</th>\n",
       "      <td>21</td>\n",
       "      <td>dis_left/target_r</td>\n",
       "      <td>right</td>\n",
       "      <td>lat</td>\n",
       "      <td>contra</td>\n",
       "      <td>3.064079e-10</td>\n",
       "    </tr>\n",
       "    <tr>\n",
       "      <th>10</th>\n",
       "      <td>21</td>\n",
       "      <td>dis_mid/target_l</td>\n",
       "      <td>left</td>\n",
       "      <td>mid</td>\n",
       "      <td>ipsi</td>\n",
       "      <td>3.131939e-10</td>\n",
       "    </tr>\n",
       "    <tr>\n",
       "      <th>11</th>\n",
       "      <td>21</td>\n",
       "      <td>dis_mid/target_r</td>\n",
       "      <td>right</td>\n",
       "      <td>mid</td>\n",
       "      <td>contra</td>\n",
       "      <td>2.879514e-10</td>\n",
       "    </tr>\n",
       "  </tbody>\n",
       "</table>\n",
       "</div>"
      ],
      "text/plain": [
       "    ID           condition target_side distractor_side alpha_side  \\\n",
       "0   21     no_dis/target_l        left           nodis     contra   \n",
       "1   21     no_dis/target_r       right           nodis       ipsi   \n",
       "2   21  dis_right/target_l        left             lat     contra   \n",
       "3   21   dis_left/target_r       right             lat       ipsi   \n",
       "4   21    dis_mid/target_l        left             mid     contra   \n",
       "5   21    dis_mid/target_r       right             mid       ipsi   \n",
       "6   21     no_dis/target_l        left           nodis       ipsi   \n",
       "7   21     no_dis/target_r       right           nodis     contra   \n",
       "8   21  dis_right/target_l        left             lat       ipsi   \n",
       "9   21   dis_left/target_r       right             lat     contra   \n",
       "10  21    dis_mid/target_l        left             mid       ipsi   \n",
       "11  21    dis_mid/target_r       right             mid     contra   \n",
       "\n",
       "     alpha_power  \n",
       "0   6.097863e-09  \n",
       "1   5.943544e-09  \n",
       "2   6.808355e-09  \n",
       "3   6.567245e-09  \n",
       "4   6.286825e-09  \n",
       "5   6.601339e-09  \n",
       "6   2.816340e-10  \n",
       "7   2.655598e-10  \n",
       "8   2.766506e-10  \n",
       "9   3.064079e-10  \n",
       "10  3.131939e-10  \n",
       "11  2.879514e-10  "
      ]
     },
     "execution_count": 4,
     "metadata": {},
     "output_type": "execute_result"
    }
   ],
   "source": [
    "df"
   ]
  },
  {
   "cell_type": "markdown",
   "id": "ed33a0b3",
   "metadata": {},
   "source": [
    "### If you want the df for all the subjects (the df is also saved in a \"alpha power df\" directory)"
   ]
  },
  {
   "cell_type": "code",
   "execution_count": 8,
   "id": "566173b1",
   "metadata": {},
   "outputs": [
    {
     "name": "stdout",
     "output_type": "stream",
     "text": [
      "========================= working on 21\n",
      "Reading /Users/nicolaspiron/Documents/PULSATION/Python_MNE/output_preproc/sub-21/cleaned_epochs/sub-21-cleaned_epochs-N2pc.fif ...\n",
      "    Found the data of interest:\n",
      "        t =    -199.22 ...     798.83 ms\n",
      "        0 CTF compensation matrices available\n"
     ]
    },
    {
     "name": "stderr",
     "output_type": "stream",
     "text": [
      "/Users/nicolaspiron/Documents/Master_thesis/EEG/functions/alpha.py:41: RuntimeWarning: This filename (/Users/nicolaspiron/Documents/PULSATION/Python_MNE/output_preproc/sub-21/cleaned_epochs/sub-21-cleaned_epochs-N2pc.fif) does not conform to MNE naming conventions. All epochs files should end with -epo.fif, -epo.fif.gz, _epo.fif or _epo.fif.gz\n",
      "  epochs = mne.read_epochs(os.path.join(input_dir, f'sub-{subject_id}', 'cleaned_epochs', f'sub-{subject_id}-cleaned_epochs-N2pc.fif'))\n"
     ]
    },
    {
     "name": "stdout",
     "output_type": "stream",
     "text": [
      "Not setting metadata\n",
      "455 matching events found\n",
      "No baseline correction applied\n",
      "0 projection items activated\n",
      "Not setting metadata\n",
      "76 matching events found\n",
      "Applying baseline correction (mode: mean)\n",
      "Not setting metadata\n",
      "78 matching events found\n",
      "Applying baseline correction (mode: mean)\n"
     ]
    },
    {
     "name": "stderr",
     "output_type": "stream",
     "text": [
      "/Users/nicolaspiron/Documents/Master_thesis/EEG/functions/alpha.py:54: RuntimeWarning: Concatenation of Annotations within Epochs is not supported yet. All annotations will be dropped.\n",
      "  dis_vert_target_l = mne.concatenate_epochs([sorted_epochs[0], sorted_epochs[4]])\n",
      "/Users/nicolaspiron/Documents/Master_thesis/EEG/functions/alpha.py:55: RuntimeWarning: Concatenation of Annotations within Epochs is not supported yet. All annotations will be dropped.\n",
      "  dis_vert_target_r = mne.concatenate_epochs([sorted_epochs[1], sorted_epochs[5]])\n"
     ]
    },
    {
     "name": "stdout",
     "output_type": "stream",
     "text": [
      "========================= data from 21 added to the dataframe :D\n"
     ]
    }
   ],
   "source": [
    "df = alpha.alpha_assymetry_all_subj(input_dir, output_dir)"
   ]
  }
 ],
 "metadata": {
  "kernelspec": {
   "display_name": "Python [conda env:pulsation_proj]",
   "language": "python",
   "name": "conda-env-pulsation_proj-py"
  },
  "language_info": {
   "codemirror_mode": {
    "name": "ipython",
    "version": 3
   },
   "file_extension": ".py",
   "mimetype": "text/x-python",
   "name": "python",
   "nbconvert_exporter": "python",
   "pygments_lexer": "ipython3",
   "version": "3.8.15"
  }
 },
 "nbformat": 4,
 "nbformat_minor": 5
}
