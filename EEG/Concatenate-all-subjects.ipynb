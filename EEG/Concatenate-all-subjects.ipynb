{
 "cells": [
  {
   "cell_type": "code",
   "execution_count": 1,
   "id": "97000700",
   "metadata": {},
   "outputs": [],
   "source": [
    "import functions.file_management as fm"
   ]
  },
  {
   "cell_type": "code",
   "execution_count": 2,
   "id": "6314f5f9",
   "metadata": {},
   "outputs": [],
   "source": [
    "input_dir = '/Users/nicolaspiron/Documents/PULSATION/Python_MNE/output_preproc'\n",
    "output_dir = '/Users/nicolaspiron/Documents/PULSATION/Python_MNE/output_preproc'\n",
    "task = 'N2pc'\n",
    "population = 'control'"
   ]
  },
  {
   "cell_type": "code",
   "execution_count": 3,
   "id": "3989773b",
   "metadata": {},
   "outputs": [
    {
     "name": "stdout",
     "output_type": "stream",
     "text": [
      "Reading /Users/nicolaspiron/Documents/PULSATION/Python_MNE/output_preproc/sub-21/cleaned_epochs/sub-21-cleaned_epochs-N2pc.fif ...\n",
      "    Found the data of interest:\n",
      "        t =    -199.22 ...     798.83 ms\n",
      "        0 CTF compensation matrices available\n"
     ]
    },
    {
     "name": "stderr",
     "output_type": "stream",
     "text": [
      "/Users/nicolaspiron/Documents/Master_thesis/EEG/functions/file_management.py:38: RuntimeWarning: This filename (/Users/nicolaspiron/Documents/PULSATION/Python_MNE/output_preproc/sub-21/cleaned_epochs/sub-21-cleaned_epochs-N2pc.fif) does not conform to MNE naming conventions. All epochs files should end with -epo.fif, -epo.fif.gz, _epo.fif or _epo.fif.gz\n",
      "  epochs = mne.read_epochs(file)\n"
     ]
    },
    {
     "name": "stdout",
     "output_type": "stream",
     "text": [
      "Not setting metadata\n",
      "455 matching events found\n",
      "No baseline correction applied\n",
      "0 projection items activated\n",
      "Not setting metadata\n",
      "455 matching events found\n",
      "Applying baseline correction (mode: mean)\n"
     ]
    },
    {
     "name": "stderr",
     "output_type": "stream",
     "text": [
      "/Users/nicolaspiron/Documents/Master_thesis/EEG/functions/file_management.py:40: RuntimeWarning: Concatenation of Annotations within Epochs is not supported yet. All annotations will be dropped.\n",
      "  all_subj = mne.concatenate_epochs(epochs_list)\n",
      "/Users/nicolaspiron/Documents/Master_thesis/EEG/functions/file_management.py:43: RuntimeWarning: This filename (/Users/nicolaspiron/Documents/PULSATION/Python_MNE/output_preproc/control-allsubj/control-allsubj-N2pc.fif) does not conform to MNE naming conventions. All epochs files should end with -epo.fif, -epo.fif.gz, _epo.fif or _epo.fif.gz\n",
      "  all_subj.save(os.path.join(output_dir, f'{population}-allsubj', f'{population}-allsubj-{task}.fif'), overwrite=True)\n"
     ]
    }
   ],
   "source": [
    "fm.concat_all_subj(task=task, population=population, input_dir=input_dir, output_dir=output_dir)"
   ]
  }
 ],
 "metadata": {
  "kernelspec": {
   "display_name": "Python [conda env:pulsation_proj]",
   "language": "python",
   "name": "conda-env-pulsation_proj-py"
  },
  "language_info": {
   "codemirror_mode": {
    "name": "ipython",
    "version": 3
   },
   "file_extension": ".py",
   "mimetype": "text/x-python",
   "name": "python",
   "nbconvert_exporter": "python",
   "pygments_lexer": "ipython3",
   "version": "3.8.15"
  }
 },
 "nbformat": 4,
 "nbformat_minor": 5
}
